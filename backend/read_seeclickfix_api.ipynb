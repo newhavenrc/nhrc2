{
 "cells": [
  {
   "cell_type": "markdown",
   "metadata": {},
   "source": [
    "# read_seeclickfix_api"
   ]
  },
  {
   "cell_type": "markdown",
   "metadata": {},
   "source": [
    "This notebook describes how to use python to read in the seeclickfix API to a pandas DataFrame"
   ]
  },
  {
   "cell_type": "code",
   "execution_count": 17,
   "metadata": {
    "collapsed": false
   },
   "outputs": [],
   "source": [
    "import json\n",
    "import urllib2\n",
    "import pandas as pd\n",
    "from jq import jq\n",
    "import matplotlib.pyplot as plt\n",
    "import numpy as np\n",
    "import nhrc2"
   ]
  },
  {
   "cell_type": "code",
   "execution_count": 2,
   "metadata": {
    "collapsed": false
   },
   "outputs": [],
   "source": [
    "%matplotlib inline"
   ]
  },
  {
   "cell_type": "code",
   "execution_count": 18,
   "metadata": {
    "collapsed": false
   },
   "outputs": [
    {
     "data": {
      "text/plain": [
       "'/Users/matt/projects/nhrc2/__init__.py'"
      ]
     },
     "execution_count": 18,
     "metadata": {},
     "output_type": "execute_result"
    }
   ],
   "source": [
    "nhrc2.__file__"
   ]
  },
  {
   "cell_type": "markdown",
   "metadata": {},
   "source": [
    "## Extracting the Categories"
   ]
  },
  {
   "cell_type": "markdown",
   "metadata": {},
   "source": [
    "The SeeClickFix Public API does not include the category in the output. Furthermore, the categories are non-standard (i.e., they vary from municipality to municipality). However, there is a solution! We can request all the categories from New Haven from the SeeClickFix API, and then request the issues for each category individually. This will allow us to associate a category with each issue."
   ]
  },
  {
   "cell_type": "code",
   "execution_count": 8,
   "metadata": {
    "collapsed": false
   },
   "outputs": [],
   "source": [
    "#json_cats = json.load(urllib2.urlopen('https://seeclickfix.com/api/v2/issues/new?address=New+Haven,+CT'))\n",
    "json_cats = json.load(open('/Users/matt/projects/nhrc2/data/scf_cats.json', 'r'))"
   ]
  },
  {
   "cell_type": "code",
   "execution_count": 9,
   "metadata": {
    "collapsed": true
   },
   "outputs": [],
   "source": [
    "scf_cat_rule = '[.[] | .[] | {title: .title, url: .url, organization: .organization}]'"
   ]
  },
  {
   "cell_type": "code",
   "execution_count": 13,
   "metadata": {
    "collapsed": false
   },
   "outputs": [],
   "source": [
    "scf_cat_df = pd.DataFrame(jq(scf_cat_rule).transform(json_cats))\n",
    "scf_cat_df['type'] = [urlstr.split('/')[-1] for urlstr in scf_cat_df['url']]"
   ]
  },
  {
   "cell_type": "code",
   "execution_count": 16,
   "metadata": {
    "collapsed": false
   },
   "outputs": [
    {
     "name": "stdout",
     "output_type": "stream",
     "text": [
      "Number of categories for New Haven: 25\n"
     ]
    },
    {
     "data": {
      "text/html": [
       "<div style=\"max-height:1000px;max-width:1500px;overflow:auto;\">\n",
       "<table border=\"1\" class=\"dataframe\">\n",
       "  <thead>\n",
       "    <tr style=\"text-align: right;\">\n",
       "      <th></th>\n",
       "      <th>organization</th>\n",
       "      <th>title</th>\n",
       "      <th>url</th>\n",
       "      <th>type</th>\n",
       "    </tr>\n",
       "  </thead>\n",
       "  <tbody>\n",
       "    <tr>\n",
       "      <th>0</th>\n",
       "      <td> City of New Haven</td>\n",
       "      <td>               SNOW RELATED</td>\n",
       "      <td> https://seeclickfix.com/api/v2/request_types/8516</td>\n",
       "      <td> 8516</td>\n",
       "    </tr>\n",
       "    <tr>\n",
       "      <th>1</th>\n",
       "      <td> City of New Haven</td>\n",
       "      <td> Bins for Trash &amp; Recycling</td>\n",
       "      <td> https://seeclickfix.com/api/v2/request_types/5743</td>\n",
       "      <td> 5743</td>\n",
       "    </tr>\n",
       "    <tr>\n",
       "      <th>2</th>\n",
       "      <td> City of New Haven</td>\n",
       "      <td>                   Graffiti</td>\n",
       "      <td>  https://seeclickfix.com/api/v2/request_types/122</td>\n",
       "      <td>  122</td>\n",
       "    </tr>\n",
       "    <tr>\n",
       "      <th>3</th>\n",
       "      <td> City of New Haven</td>\n",
       "      <td>                    Hangers</td>\n",
       "      <td> https://seeclickfix.com/api/v2/request_types/6215</td>\n",
       "      <td> 6215</td>\n",
       "    </tr>\n",
       "    <tr>\n",
       "      <th>4</th>\n",
       "      <td> City of New Haven</td>\n",
       "      <td>          Health Complaints</td>\n",
       "      <td> https://seeclickfix.com/api/v2/request_types/5185</td>\n",
       "      <td> 5185</td>\n",
       "    </tr>\n",
       "  </tbody>\n",
       "</table>\n",
       "</div>"
      ],
      "text/plain": [
       "        organization                       title  \\\n",
       "0  City of New Haven                SNOW RELATED   \n",
       "1  City of New Haven  Bins for Trash & Recycling   \n",
       "2  City of New Haven                    Graffiti   \n",
       "3  City of New Haven                     Hangers   \n",
       "4  City of New Haven           Health Complaints   \n",
       "\n",
       "                                                 url  type  \n",
       "0  https://seeclickfix.com/api/v2/request_types/8516  8516  \n",
       "1  https://seeclickfix.com/api/v2/request_types/5743  5743  \n",
       "2   https://seeclickfix.com/api/v2/request_types/122   122  \n",
       "3  https://seeclickfix.com/api/v2/request_types/6215  6215  \n",
       "4  https://seeclickfix.com/api/v2/request_types/5185  5185  "
      ]
     },
     "execution_count": 16,
     "metadata": {},
     "output_type": "execute_result"
    }
   ],
   "source": [
    "print('Number of categories for New Haven: {}'.format(len(scf_cat_df)))\n",
    "scf_cat_df.head(5)"
   ]
  },
  {
   "cell_type": "markdown",
   "metadata": {},
   "source": [
    "## Extracting the Issues"
   ]
  },
  {
   "cell_type": "code",
   "execution_count": 21,
   "metadata": {
    "collapsed": true
   },
   "outputs": [],
   "source": [
    "#json_data = json.load(urllib2.urlopen('https://seeclickfix.com/api/v2/issues?place_url=new-haven&page=1&per_page=10'))\n",
    "json_data = json.load(urllib2.urlopen('https://seeclickfix.com/api/v2/issues?request_types=116&per_page=100000'))"
   ]
  },
  {
   "cell_type": "code",
   "execution_count": 12,
   "metadata": {
    "collapsed": false,
    "scrolled": true
   },
   "outputs": [],
   "source": [
    "#json_data"
   ]
  },
  {
   "cell_type": "code",
   "execution_count": 4,
   "metadata": {
    "collapsed": false
   },
   "outputs": [
    {
     "data": {
      "text/plain": [
       "[u'errors', u'issues', u'metadata']"
      ]
     },
     "execution_count": 4,
     "metadata": {},
     "output_type": "execute_result"
    }
   ],
   "source": [
    "json_data.keys()"
   ]
  },
  {
   "cell_type": "code",
   "execution_count": 5,
   "metadata": {
    "collapsed": false,
    "scrolled": false
   },
   "outputs": [
    {
     "data": {
      "text/plain": [
       "{u'acknowledged_at': u'2015-03-30T16:06:17-04:00',\n",
       " u'address': u'Fairmont Ave  New Haven, Connecticut',\n",
       " u'closed_at': None,\n",
       " u'comment_url': u'https://seeclickfix.com/api/v2/issues/1561282/comments',\n",
       " u'created_at': u'2015-03-30T15:10:43-04:00',\n",
       " u'description': u'From Fairmount Ave right down to Forbes Ave the pot holes are like driving through a mine field. Something has to be done. Been pointing this stretch for years and nothing is getting done. \"NOTHING\"! ',\n",
       " u'flag_url': u'https://seeclickfix.com/api/v2/issues/1561282/flag',\n",
       " u'html_url': u'https://seeclickfix.com/issues/1561282',\n",
       " u'id': 1561282,\n",
       " u'lat': 41.2967237,\n",
       " u'lng': -72.8939387,\n",
       " u'media': {u'image_full': None,\n",
       "  u'image_square_100x100': None,\n",
       "  u'representative_image_url': u'https://seeclickfix.com/assets/categories_trans/no-image.png',\n",
       "  u'video_url': None},\n",
       " u'point': {u'coordinates': [-72.8939387, 41.2967237], u'type': u'Point'},\n",
       " u'rating': 3,\n",
       " u'reporter': {u'avatar': {u'full': u'https://seeclickfix.com/assets/no-avatar-100-0e1ba3fad46692e1a3e9a4b333e91ce5.png',\n",
       "   u'square_100x100': u'https://seeclickfix.com/assets/no-avatar-100-0e1ba3fad46692e1a3e9a4b333e91ce5.png'},\n",
       "  u'civic_points': 860,\n",
       "  u'id': 5248,\n",
       "  u'name': u'dmrowka',\n",
       "  u'role': u'Registered User',\n",
       "  u'witty_title': u'Municipal Avenger'},\n",
       " u'shortened_url': u'http://bit.ly/1abCoSL',\n",
       " u'status': u'Acknowledged',\n",
       " u'summary': u'Potholes',\n",
       " u'transitions': {},\n",
       " u'updated_at': u'2015-03-30T16:06:17-04:00',\n",
       " u'url': u'https://seeclickfix.com/api/v2/issues/1561282'}"
      ]
     },
     "execution_count": 5,
     "metadata": {},
     "output_type": "execute_result"
    }
   ],
   "source": [
    "json_data['issues'][0]"
   ]
  },
  {
   "cell_type": "code",
   "execution_count": 88,
   "metadata": {
    "collapsed": true
   },
   "outputs": [],
   "source": [
    "scf_iss_rule = '.issues | {id: .[] .id, status: .[] .status, lat: .[] .lat, lng: .[] .lng}'\n",
    "scf_issues = jq(scf_iss_rule).transform(json_data)"
   ]
  },
  {
   "cell_type": "code",
   "execution_count": 6,
   "metadata": {
    "collapsed": true
   },
   "outputs": [],
   "source": [
    "#scf_issues"
   ]
  },
  {
   "cell_type": "code",
   "execution_count": 7,
   "metadata": {
    "collapsed": false
   },
   "outputs": [],
   "source": [
    "dict_lst_rule = '.issues | {id: [.[] .id], status: [.[] .status]}'\n",
    "#jq(dict_lst_rule).transform(json_data)"
   ]
  },
  {
   "cell_type": "code",
   "execution_count": 48,
   "metadata": {
    "collapsed": false
   },
   "outputs": [],
   "source": [
    "record_rule = (\"[.issues | .[] | {\"\n",
    "               \"id: .id, \"\n",
    "               \"status: .status,\"\n",
    "               \"summary: .summary,\"\n",
    "               \"address: .address,\"\n",
    "               \"lat: .lat,\"\n",
    "               \"lng: .lng,\"\n",
    "               \"closed_at: .closed_at,\"\n",
    "               \"acknowledged_at: .acknowledged_at,\"\n",
    "               \"created_at: .created_at,\"\n",
    "               \"updated_at: .updated_at,\"\n",
    "               \"shortened_url: .shortened_url,\"\n",
    "               \"reporter_id: .reporter.id,\"\n",
    "               \"reporter_name: .reporter.name,\"\n",
    "               \"reporter_role: .reporter.role,\"\n",
    "               \"}]\")\n",
    "#jq(record_rule).transform(json_data)"
   ]
  },
  {
   "cell_type": "code",
   "execution_count": 26,
   "metadata": {
    "collapsed": false
   },
   "outputs": [],
   "source": [
    "scf_df = pd.DataFrame(jq(record_rule).transform(json_data))"
   ]
  },
  {
   "cell_type": "code",
   "execution_count": 27,
   "metadata": {
    "collapsed": false
   },
   "outputs": [
    {
     "name": "stdout",
     "output_type": "stream",
     "text": [
      "number of records: 970\n"
     ]
    },
    {
     "data": {
      "text/html": [
       "<div style=\"max-height:1000px;max-width:1500px;overflow:auto;\">\n",
       "<table border=\"1\" class=\"dataframe\">\n",
       "  <thead>\n",
       "    <tr style=\"text-align: right;\">\n",
       "      <th></th>\n",
       "      <th>acknowledged_at</th>\n",
       "      <th>address</th>\n",
       "      <th>closed_at</th>\n",
       "      <th>created_at</th>\n",
       "      <th>id</th>\n",
       "      <th>lat</th>\n",
       "      <th>lng</th>\n",
       "      <th>shortened_url</th>\n",
       "      <th>status</th>\n",
       "      <th>summary</th>\n",
       "      <th>updated_at</th>\n",
       "    </tr>\n",
       "  </thead>\n",
       "  <tbody>\n",
       "    <tr>\n",
       "      <th>0</th>\n",
       "      <td> 2015-03-30T16:06:17-04:00</td>\n",
       "      <td>            Fairmont Ave  New Haven, Connecticut</td>\n",
       "      <td> None</td>\n",
       "      <td> 2015-03-30T15:10:43-04:00</td>\n",
       "      <td> 1561282</td>\n",
       "      <td> 41.296724</td>\n",
       "      <td>-72.893939</td>\n",
       "      <td> http://bit.ly/1abCoSL</td>\n",
       "      <td> Acknowledged</td>\n",
       "      <td>                              Potholes</td>\n",
       "      <td> 2015-03-30T16:06:17-04:00</td>\n",
       "    </tr>\n",
       "    <tr>\n",
       "      <th>1</th>\n",
       "      <td> 2015-03-30T16:06:49-04:00</td>\n",
       "      <td>        422 West Rock Ave New Haven, Connecticut</td>\n",
       "      <td> None</td>\n",
       "      <td> 2015-03-30T13:00:27-04:00</td>\n",
       "      <td> 1560970</td>\n",
       "      <td> 41.310373</td>\n",
       "      <td>-72.924160</td>\n",
       "      <td> http://bit.ly/1NuPYg9</td>\n",
       "      <td> Acknowledged</td>\n",
       "      <td>                              Potholes</td>\n",
       "      <td> 2015-03-30T16:06:49-04:00</td>\n",
       "    </tr>\n",
       "    <tr>\n",
       "      <th>2</th>\n",
       "      <td> 2015-03-30T16:07:06-04:00</td>\n",
       "      <td> Burwell &amp; Chester Street New Haven, Connecticut</td>\n",
       "      <td> None</td>\n",
       "      <td> 2015-03-30T12:51:03-04:00</td>\n",
       "      <td> 1560961</td>\n",
       "      <td> 41.291623</td>\n",
       "      <td>-72.891071</td>\n",
       "      <td> http://bit.ly/1NuNNJA</td>\n",
       "      <td> Acknowledged</td>\n",
       "      <td>                              Potholes</td>\n",
       "      <td> 2015-03-30T16:25:45-04:00</td>\n",
       "    </tr>\n",
       "    <tr>\n",
       "      <th>3</th>\n",
       "      <td> 2015-03-30T16:07:41-04:00</td>\n",
       "      <td>  125-127 Foxon Hill Road New Haven, Connecticut</td>\n",
       "      <td> None</td>\n",
       "      <td> 2015-03-30T11:36:29-04:00</td>\n",
       "      <td> 1560625</td>\n",
       "      <td> 41.331581</td>\n",
       "      <td>-72.864828</td>\n",
       "      <td> http://bit.ly/1NutAUh</td>\n",
       "      <td> Acknowledged</td>\n",
       "      <td>                              Potholes</td>\n",
       "      <td> 2015-03-30T16:07:41-04:00</td>\n",
       "    </tr>\n",
       "    <tr>\n",
       "      <th>4</th>\n",
       "      <td> 2015-03-30T16:08:04-04:00</td>\n",
       "      <td>      130 Hamilton Street New Haven, Connecticut</td>\n",
       "      <td> None</td>\n",
       "      <td> 2015-03-30T11:22:59-04:00</td>\n",
       "      <td> 1560603</td>\n",
       "      <td> 41.307181</td>\n",
       "      <td>-72.913159</td>\n",
       "      <td> http://bit.ly/1GH0bGv</td>\n",
       "      <td> Acknowledged</td>\n",
       "      <td>                              Potholes</td>\n",
       "      <td> 2015-03-30T16:08:04-04:00</td>\n",
       "    </tr>\n",
       "    <tr>\n",
       "      <th>5</th>\n",
       "      <td> 2015-03-30T16:08:30-04:00</td>\n",
       "      <td>            Irving Street New Haven, Connecticut</td>\n",
       "      <td> None</td>\n",
       "      <td> 2015-03-30T10:46:31-04:00</td>\n",
       "      <td> 1560445</td>\n",
       "      <td> 41.311754</td>\n",
       "      <td>-72.950828</td>\n",
       "      <td> http://bit.ly/1GGVaxy</td>\n",
       "      <td> Acknowledged</td>\n",
       "      <td>                              Potholes</td>\n",
       "      <td> 2015-03-30T16:08:30-04:00</td>\n",
       "    </tr>\n",
       "    <tr>\n",
       "      <th>6</th>\n",
       "      <td> 2015-03-30T16:05:04-04:00</td>\n",
       "      <td>      703 Whitney Avenue  New Haven, Connecticut</td>\n",
       "      <td> None</td>\n",
       "      <td> 2015-03-30T09:31:36-04:00</td>\n",
       "      <td> 1560123</td>\n",
       "      <td> 41.329436</td>\n",
       "      <td>-72.913558</td>\n",
       "      <td> http://bit.ly/1yswORb</td>\n",
       "      <td> Acknowledged</td>\n",
       "      <td>                              Potholes</td>\n",
       "      <td> 2015-03-30T16:05:04-04:00</td>\n",
       "    </tr>\n",
       "    <tr>\n",
       "      <th>7</th>\n",
       "      <td> 2015-03-30T08:55:09-04:00</td>\n",
       "      <td>        143 Rowe Street New Haven, CT 06513, USA</td>\n",
       "      <td> None</td>\n",
       "      <td> 2015-03-30T06:17:20-04:00</td>\n",
       "      <td> 1559906</td>\n",
       "      <td> 41.316952</td>\n",
       "      <td>-72.895774</td>\n",
       "      <td> http://bit.ly/1G7ROTP</td>\n",
       "      <td> Acknowledged</td>\n",
       "      <td>                              Potholes</td>\n",
       "      <td> 2015-03-30T08:55:10-04:00</td>\n",
       "    </tr>\n",
       "    <tr>\n",
       "      <th>8</th>\n",
       "      <td> 2015-03-30T08:55:10-04:00</td>\n",
       "      <td>           Farnam Drive New Haven, CT 06511, USA</td>\n",
       "      <td> None</td>\n",
       "      <td> 2015-03-29T22:10:35-04:00</td>\n",
       "      <td> 1559822</td>\n",
       "      <td> 41.327643</td>\n",
       "      <td>-72.908235</td>\n",
       "      <td> http://bit.ly/1IIzxfy</td>\n",
       "      <td> Acknowledged</td>\n",
       "      <td>                              Potholes</td>\n",
       "      <td> 2015-03-30T08:55:10-04:00</td>\n",
       "    </tr>\n",
       "    <tr>\n",
       "      <th>9</th>\n",
       "      <td> 2015-03-30T16:02:52-04:00</td>\n",
       "      <td>      111 Linden Street New Haven, CT 06511, USA</td>\n",
       "      <td> None</td>\n",
       "      <td> 2015-03-29T13:00:10-04:00</td>\n",
       "      <td> 1559298</td>\n",
       "      <td> 41.321984</td>\n",
       "      <td>-72.913699</td>\n",
       "      <td> http://bit.ly/1FZwukI</td>\n",
       "      <td> Acknowledged</td>\n",
       "      <td> Testing for scf #seeclickfix #pothole</td>\n",
       "      <td> 2015-03-30T16:02:52-04:00</td>\n",
       "    </tr>\n",
       "  </tbody>\n",
       "</table>\n",
       "</div>"
      ],
      "text/plain": [
       "             acknowledged_at                                          address  \\\n",
       "0  2015-03-30T16:06:17-04:00             Fairmont Ave  New Haven, Connecticut   \n",
       "1  2015-03-30T16:06:49-04:00         422 West Rock Ave New Haven, Connecticut   \n",
       "2  2015-03-30T16:07:06-04:00  Burwell & Chester Street New Haven, Connecticut   \n",
       "3  2015-03-30T16:07:41-04:00   125-127 Foxon Hill Road New Haven, Connecticut   \n",
       "4  2015-03-30T16:08:04-04:00       130 Hamilton Street New Haven, Connecticut   \n",
       "5  2015-03-30T16:08:30-04:00             Irving Street New Haven, Connecticut   \n",
       "6  2015-03-30T16:05:04-04:00       703 Whitney Avenue  New Haven, Connecticut   \n",
       "7  2015-03-30T08:55:09-04:00         143 Rowe Street New Haven, CT 06513, USA   \n",
       "8  2015-03-30T08:55:10-04:00            Farnam Drive New Haven, CT 06511, USA   \n",
       "9  2015-03-30T16:02:52-04:00       111 Linden Street New Haven, CT 06511, USA   \n",
       "\n",
       "  closed_at                 created_at       id        lat        lng  \\\n",
       "0      None  2015-03-30T15:10:43-04:00  1561282  41.296724 -72.893939   \n",
       "1      None  2015-03-30T13:00:27-04:00  1560970  41.310373 -72.924160   \n",
       "2      None  2015-03-30T12:51:03-04:00  1560961  41.291623 -72.891071   \n",
       "3      None  2015-03-30T11:36:29-04:00  1560625  41.331581 -72.864828   \n",
       "4      None  2015-03-30T11:22:59-04:00  1560603  41.307181 -72.913159   \n",
       "5      None  2015-03-30T10:46:31-04:00  1560445  41.311754 -72.950828   \n",
       "6      None  2015-03-30T09:31:36-04:00  1560123  41.329436 -72.913558   \n",
       "7      None  2015-03-30T06:17:20-04:00  1559906  41.316952 -72.895774   \n",
       "8      None  2015-03-29T22:10:35-04:00  1559822  41.327643 -72.908235   \n",
       "9      None  2015-03-29T13:00:10-04:00  1559298  41.321984 -72.913699   \n",
       "\n",
       "           shortened_url        status                                summary  \\\n",
       "0  http://bit.ly/1abCoSL  Acknowledged                               Potholes   \n",
       "1  http://bit.ly/1NuPYg9  Acknowledged                               Potholes   \n",
       "2  http://bit.ly/1NuNNJA  Acknowledged                               Potholes   \n",
       "3  http://bit.ly/1NutAUh  Acknowledged                               Potholes   \n",
       "4  http://bit.ly/1GH0bGv  Acknowledged                               Potholes   \n",
       "5  http://bit.ly/1GGVaxy  Acknowledged                               Potholes   \n",
       "6  http://bit.ly/1yswORb  Acknowledged                               Potholes   \n",
       "7  http://bit.ly/1G7ROTP  Acknowledged                               Potholes   \n",
       "8  http://bit.ly/1IIzxfy  Acknowledged                               Potholes   \n",
       "9  http://bit.ly/1FZwukI  Acknowledged  Testing for scf #seeclickfix #pothole   \n",
       "\n",
       "                  updated_at  \n",
       "0  2015-03-30T16:06:17-04:00  \n",
       "1  2015-03-30T16:06:49-04:00  \n",
       "2  2015-03-30T16:25:45-04:00  \n",
       "3  2015-03-30T16:07:41-04:00  \n",
       "4  2015-03-30T16:08:04-04:00  \n",
       "5  2015-03-30T16:08:30-04:00  \n",
       "6  2015-03-30T16:05:04-04:00  \n",
       "7  2015-03-30T08:55:10-04:00  \n",
       "8  2015-03-30T08:55:10-04:00  \n",
       "9  2015-03-30T16:02:52-04:00  "
      ]
     },
     "execution_count": 27,
     "metadata": {},
     "output_type": "execute_result"
    }
   ],
   "source": [
    "print('number of records: {}'.format(len(scf_df)))\n",
    "scf_df.head(10)"
   ]
  },
  {
   "cell_type": "markdown",
   "metadata": {},
   "source": [
    "### Merge two DataFrames"
   ]
  },
  {
   "cell_type": "code",
   "execution_count": 39,
   "metadata": {
    "collapsed": false
   },
   "outputs": [
    {
     "name": "stdout",
     "output_type": "stream",
     "text": [
      "(u'SNOW RELATED', u'8516')\n"
     ]
    }
   ],
   "source": [
    "i=0\n",
    "print(scf_cat_df.loc[i, 'title'], scf_cat_df.loc[i, 'type'])\n",
    "issurl = 'https://seeclickfix.com/api/v2/issues?request_types='+scf_cat_df.loc[i, 'type']+'&per_page=100000'\n",
    "json_data = json.load(urllib2.urlopen(issurl))\n",
    "scf_iss_df = pd.DataFrame(jq(record_rule).transform(json_data))"
   ]
  },
  {
   "cell_type": "code",
   "execution_count": 41,
   "metadata": {
    "collapsed": false
   },
   "outputs": [
    {
     "name": "stdout",
     "output_type": "stream",
     "text": [
      "569\n"
     ]
    }
   ],
   "source": [
    "print(len(scf_iss_df))"
   ]
  },
  {
   "cell_type": "code",
   "execution_count": 42,
   "metadata": {
    "collapsed": false
   },
   "outputs": [],
   "source": [
    "scf_df = scf_df.append(scf_iss_df, ignore_index=True)"
   ]
  },
  {
   "cell_type": "code",
   "execution_count": 43,
   "metadata": {
    "collapsed": false
   },
   "outputs": [
    {
     "data": {
      "text/plain": [
       "1539"
      ]
     },
     "execution_count": 43,
     "metadata": {},
     "output_type": "execute_result"
    }
   ],
   "source": [
    "len(scf_df)"
   ]
  },
  {
   "cell_type": "markdown",
   "metadata": {},
   "source": [
    "### Looping over all issue categories"
   ]
  },
  {
   "cell_type": "markdown",
   "metadata": {},
   "source": [
    "So far we have seen how to get the SeeClickFix issue categories for a municipality, request all issues for a particular category, and merge the results to an existing DataFrame. The next step is to loop over all categories, request all issues, and save them all to a huge DataFrame."
   ]
  },
  {
   "cell_type": "code",
   "execution_count": 45,
   "metadata": {
    "collapsed": false
   },
   "outputs": [
    {
     "data": {
      "text/html": [
       "<div style=\"max-height:1000px;max-width:1500px;overflow:auto;\">\n",
       "<table border=\"1\" class=\"dataframe\">\n",
       "  <thead>\n",
       "    <tr style=\"text-align: right;\">\n",
       "      <th></th>\n",
       "      <th>id</th>\n",
       "      <th>status</th>\n",
       "      <th>summary</th>\n",
       "      <th>address</th>\n",
       "      <th>lat</th>\n",
       "      <th>lng</th>\n",
       "      <th>closed_at</th>\n",
       "      <th>acknowledged_at</th>\n",
       "      <th>created_at</th>\n",
       "      <th>updated_at</th>\n",
       "      <th>shortened_url</th>\n",
       "    </tr>\n",
       "  </thead>\n",
       "  <tbody>\n",
       "  </tbody>\n",
       "</table>\n",
       "</div>"
      ],
      "text/plain": [
       "Empty DataFrame\n",
       "Columns: [id, status, summary, address, lat, lng, closed_at, acknowledged_at, created_at, updated_at, shortened_url]\n",
       "Index: []"
      ]
     },
     "execution_count": 45,
     "metadata": {},
     "output_type": "execute_result"
    }
   ],
   "source": [
    "tstdf = pd.DataFrame(columns=['id', 'status', 'summary', 'address', 'lat', 'lng', 'closed_at', 'acknowledged_at',\n",
    "                              'created_at', 'updated_at', 'shortened_url', 'issue_id', 'category'])\n",
    "tstdf"
   ]
  },
  {
   "cell_type": "code",
   "execution_count": 50,
   "metadata": {
    "collapsed": false
   },
   "outputs": [
    {
     "name": "stdout",
     "output_type": "stream",
     "text": [
      "(u'SNOW RELATED', u'8516')\n",
      "(u'Bins for Trash & Recycling', u'5743')\n",
      "(u'Graffiti', u'122')\n",
      "(u'Hangers', u'6215')\n",
      "(u'Health Complaints', u'5185')\n",
      "(u'Illegal Dumping', u'1250')\n",
      "(u'Other', u'374')\n",
      "(u'Other - city responsibility', u'3018')\n",
      "(u'Parking Meter', u'372')\n",
      "(u'Parking Violation/Abandoned Auto', u'121')\n",
      "(u'Parks Request', u'126')\n",
      "(u'Policing Issue', u'2626')\n",
      "(u'Potholes', u'116')\n",
      "(u'Public Space, Streets and Drains', u'1249')\n",
      "(u'Private Property Issue', u'1251')\n",
      "(u'Sidewalks and Curb damage', u'117')\n",
      "(u'Signs / Bus Shelters / Pavement Markings', u'373')\n",
      "(u'Street Lamp', u'124')\n",
      "(u'Traffic/Road Safety', u'2625')\n",
      "(u'Traffic Signal / Pedestrian Signal', u'51')\n",
      "(u'Trash & Recycling', u'1966')\n",
      "(u'Tree Trimming', u'1853')\n",
      "(u'Request for volunteers', u'5998')\n",
      "(u'General Bus Request/Incident', u'4947')\n",
      "(u'Post to Neighbors', u'other')\n"
     ]
    }
   ],
   "source": [
    "scf_df = pd.DataFrame(columns=['id', 'status', 'summary', 'address', 'lat', 'lng', 'closed_at', 'acknowledged_at',\n",
    "                              'created_at', 'updated_at', 'shortened_url', \n",
    "                              'reporter_id', 'reporter_name', 'reporter_role',\n",
    "                              'issue_id', 'category'])\n",
    "\n",
    "for i in scf_cat_df.index:\n",
    "    print(scf_cat_df.loc[i, 'title'], scf_cat_df.loc[i, 'type'])\n",
    "    issurl = 'https://seeclickfix.com/api/v2/issues?request_types='+scf_cat_df.loc[i, 'type']+'&per_page=10000'\n",
    "    json_data = json.load(urllib2.urlopen(issurl))\n",
    "    scf_iss_df = pd.DataFrame(jq(record_rule).transform(json_data))\n",
    "    scf_iss_df['issue_id'] = scf_cat_df.loc[i, 'type']\n",
    "    scf_iss_df['category'] = scf_cat_df.loc[i, 'title']\n",
    "    scf_df = scf_df.append(scf_iss_df, ignore_index=True)"
   ]
  },
  {
   "cell_type": "code",
   "execution_count": 51,
   "metadata": {
    "collapsed": false
   },
   "outputs": [
    {
     "name": "stdout",
     "output_type": "stream",
     "text": [
      "9037\n"
     ]
    },
    {
     "data": {
      "text/html": [
       "<div style=\"max-height:1000px;max-width:1500px;overflow:auto;\">\n",
       "<table border=\"1\" class=\"dataframe\">\n",
       "  <thead>\n",
       "    <tr style=\"text-align: right;\">\n",
       "      <th></th>\n",
       "      <th>acknowledged_at</th>\n",
       "      <th>address</th>\n",
       "      <th>category</th>\n",
       "      <th>closed_at</th>\n",
       "      <th>created_at</th>\n",
       "      <th>id</th>\n",
       "      <th>issue_id</th>\n",
       "      <th>lat</th>\n",
       "      <th>lng</th>\n",
       "      <th>reporter_id</th>\n",
       "      <th>reporter_name</th>\n",
       "      <th>reporter_role</th>\n",
       "      <th>shortened_url</th>\n",
       "      <th>status</th>\n",
       "      <th>summary</th>\n",
       "      <th>updated_at</th>\n",
       "    </tr>\n",
       "  </thead>\n",
       "  <tbody>\n",
       "    <tr>\n",
       "      <th>0</th>\n",
       "      <td> 2015-03-30T16:03:33-04:00</td>\n",
       "      <td>            25 Elmer Street New Haven, Connecticut</td>\n",
       "      <td> SNOW RELATED</td>\n",
       "      <td> None</td>\n",
       "      <td> 2015-03-29T17:18:53-04:00</td>\n",
       "      <td> 1559551</td>\n",
       "      <td> 8516</td>\n",
       "      <td> 41.310373</td>\n",
       "      <td>-72.924160</td>\n",
       "      <td>    0</td>\n",
       "      <td>             CAROL  SANTACROCE</td>\n",
       "      <td>   Registered User</td>\n",
       "      <td> http://bit.ly/1HVR8D7</td>\n",
       "      <td> Acknowledged</td>\n",
       "      <td>         SNOW RELATED</td>\n",
       "      <td> 2015-03-30T16:03:33-04:00</td>\n",
       "    </tr>\n",
       "    <tr>\n",
       "      <th>1</th>\n",
       "      <td>                      None</td>\n",
       "      <td> Lenox Street And Clifton Street  New Haven, Co...</td>\n",
       "      <td> SNOW RELATED</td>\n",
       "      <td> None</td>\n",
       "      <td> 2015-03-17T12:04:30-04:00</td>\n",
       "      <td> 1536264</td>\n",
       "      <td> 8516</td>\n",
       "      <td> 41.309046</td>\n",
       "      <td>-72.884204</td>\n",
       "      <td> 6774</td>\n",
       "      <td>    Department of Public Works</td>\n",
       "      <td> Verified Official</td>\n",
       "      <td> http://bit.ly/19w8mbW</td>\n",
       "      <td>         Open</td>\n",
       "      <td> Unshoveled Sidewalks</td>\n",
       "      <td> 2015-03-17T12:04:30-04:00</td>\n",
       "    </tr>\n",
       "    <tr>\n",
       "      <th>2</th>\n",
       "      <td>                      None</td>\n",
       "      <td>         591 Whitney Avenue New Haven, Connecticut</td>\n",
       "      <td> SNOW RELATED</td>\n",
       "      <td> None</td>\n",
       "      <td> 2015-03-16T17:17:58-04:00</td>\n",
       "      <td> 1534432</td>\n",
       "      <td> 8516</td>\n",
       "      <td> 41.326617</td>\n",
       "      <td>-72.915233</td>\n",
       "      <td>    0</td>\n",
       "      <td> An anonymous SeeClickFix user</td>\n",
       "      <td>   Registered User</td>\n",
       "      <td> http://bit.ly/1GeXnOd</td>\n",
       "      <td>         Open</td>\n",
       "      <td>         SNOW RELATED</td>\n",
       "      <td> 2015-03-16T17:17:58-04:00</td>\n",
       "    </tr>\n",
       "    <tr>\n",
       "      <th>3</th>\n",
       "      <td> 2015-03-16T11:04:17-04:00</td>\n",
       "      <td>      900 Block Of State St New Haven, Connecticut</td>\n",
       "      <td> SNOW RELATED</td>\n",
       "      <td> None</td>\n",
       "      <td> 2015-03-16T10:21:24-04:00</td>\n",
       "      <td> 1533208</td>\n",
       "      <td> 8516</td>\n",
       "      <td> 41.314704</td>\n",
       "      <td>-72.911942</td>\n",
       "      <td>    0</td>\n",
       "      <td>                          PamB</td>\n",
       "      <td>   Registered User</td>\n",
       "      <td> http://bit.ly/1Ds46Xu</td>\n",
       "      <td> Acknowledged</td>\n",
       "      <td>         SNOW RELATED</td>\n",
       "      <td> 2015-03-16T15:36:34-04:00</td>\n",
       "    </tr>\n",
       "    <tr>\n",
       "      <th>4</th>\n",
       "      <td>                      None</td>\n",
       "      <td>       112-116 Court Street New Haven, Connecticut</td>\n",
       "      <td> SNOW RELATED</td>\n",
       "      <td> None</td>\n",
       "      <td> 2015-03-16T08:34:55-04:00</td>\n",
       "      <td> 1532841</td>\n",
       "      <td> 8516</td>\n",
       "      <td> 41.305827</td>\n",
       "      <td>-72.922153</td>\n",
       "      <td>    0</td>\n",
       "      <td> An anonymous SeeClickFix user</td>\n",
       "      <td>   Registered User</td>\n",
       "      <td> http://bit.ly/1BJ8azg</td>\n",
       "      <td>         Open</td>\n",
       "      <td>         SNOW RELATED</td>\n",
       "      <td> 2015-03-16T08:58:48-04:00</td>\n",
       "    </tr>\n",
       "  </tbody>\n",
       "</table>\n",
       "</div>"
      ],
      "text/plain": [
       "             acknowledged_at  \\\n",
       "0  2015-03-30T16:03:33-04:00   \n",
       "1                       None   \n",
       "2                       None   \n",
       "3  2015-03-16T11:04:17-04:00   \n",
       "4                       None   \n",
       "\n",
       "                                             address      category closed_at  \\\n",
       "0             25 Elmer Street New Haven, Connecticut  SNOW RELATED      None   \n",
       "1  Lenox Street And Clifton Street  New Haven, Co...  SNOW RELATED      None   \n",
       "2          591 Whitney Avenue New Haven, Connecticut  SNOW RELATED      None   \n",
       "3       900 Block Of State St New Haven, Connecticut  SNOW RELATED      None   \n",
       "4        112-116 Court Street New Haven, Connecticut  SNOW RELATED      None   \n",
       "\n",
       "                  created_at       id issue_id        lat        lng  \\\n",
       "0  2015-03-29T17:18:53-04:00  1559551     8516  41.310373 -72.924160   \n",
       "1  2015-03-17T12:04:30-04:00  1536264     8516  41.309046 -72.884204   \n",
       "2  2015-03-16T17:17:58-04:00  1534432     8516  41.326617 -72.915233   \n",
       "3  2015-03-16T10:21:24-04:00  1533208     8516  41.314704 -72.911942   \n",
       "4  2015-03-16T08:34:55-04:00  1532841     8516  41.305827 -72.922153   \n",
       "\n",
       "   reporter_id                  reporter_name      reporter_role  \\\n",
       "0            0              CAROL  SANTACROCE    Registered User   \n",
       "1         6774     Department of Public Works  Verified Official   \n",
       "2            0  An anonymous SeeClickFix user    Registered User   \n",
       "3            0                           PamB    Registered User   \n",
       "4            0  An anonymous SeeClickFix user    Registered User   \n",
       "\n",
       "           shortened_url        status               summary  \\\n",
       "0  http://bit.ly/1HVR8D7  Acknowledged          SNOW RELATED   \n",
       "1  http://bit.ly/19w8mbW          Open  Unshoveled Sidewalks   \n",
       "2  http://bit.ly/1GeXnOd          Open          SNOW RELATED   \n",
       "3  http://bit.ly/1Ds46Xu  Acknowledged          SNOW RELATED   \n",
       "4  http://bit.ly/1BJ8azg          Open          SNOW RELATED   \n",
       "\n",
       "                  updated_at  \n",
       "0  2015-03-30T16:03:33-04:00  \n",
       "1  2015-03-17T12:04:30-04:00  \n",
       "2  2015-03-16T17:17:58-04:00  \n",
       "3  2015-03-16T15:36:34-04:00  \n",
       "4  2015-03-16T08:58:48-04:00  "
      ]
     },
     "execution_count": 51,
     "metadata": {},
     "output_type": "execute_result"
    }
   ],
   "source": [
    "print(len(scf_df))\n",
    "scf_df.head(5)"
   ]
  },
  {
   "cell_type": "code",
   "execution_count": 60,
   "metadata": {
    "collapsed": false
   },
   "outputs": [],
   "source": [
    "scf_df.to_csv('/Users/matt/projects/nhrc2/data/scf_data_full.csv', sep=',', encoding='utf-8')"
   ]
  },
  {
   "cell_type": "code",
   "execution_count": 111,
   "metadata": {
    "collapsed": false
   },
   "outputs": [
    {
     "data": {
      "text/plain": [
       "(41.24, 41.355)"
      ]
     },
     "execution_count": 111,
     "metadata": {},
     "output_type": "execute_result"
    },
    {
     "data": {
      "image/png": "[encoded data removed]",
      "text/plain": [
       "<matplotlib.figure.Figure at 0x11b0c7a50>"
      ]
     },
     "metadata": {},
     "output_type": "display_data"
    }
   ],
   "source": [
    "plt.plot(scf_df['lng'], scf_df['lat'], '.')\n",
    "plt.xlim([-73.0, -72.85])\n",
    "plt.ylim([41.24, 41.355])"
   ]
  },
  {
   "cell_type": "code",
   "execution_count": 106,
   "metadata": {
    "collapsed": false
   },
   "outputs": [
    {
     "data": {
      "text/plain": [
       "array([u'8516', u'8516', u'8516', ..., u'other', u'other', u'other'], dtype=object)"
      ]
     },
     "execution_count": 106,
     "metadata": {},
     "output_type": "execute_result"
    }
   ],
   "source": [
    "scf_df['issue_id'].values"
   ]
  },
  {
   "cell_type": "code",
   "execution_count": 112,
   "metadata": {
    "collapsed": false
   },
   "outputs": [],
   "source": [
    "issue_ints = scf_df['issue_id'].values"
   ]
  },
  {
   "cell_type": "code",
   "execution_count": 117,
   "metadata": {
    "collapsed": false
   },
   "outputs": [],
   "source": [
    "issue_ints[np.where(issue_ints == 'other')[0]] = -1"
   ]
  },
  {
   "cell_type": "code",
   "execution_count": 129,
   "metadata": {
    "collapsed": false
   },
   "outputs": [],
   "source": [
    "scf_df['issue_id'] = scf_df['issue_id'].astype('str')"
   ]
  },
  {
   "cell_type": "code",
   "execution_count": 136,
   "metadata": {
    "collapsed": false
   },
   "outputs": [],
   "source": [
    "new_ints = [int(i) for i in issue_ints]"
   ]
  },
  {
   "cell_type": "code",
   "execution_count": 143,
   "metadata": {
    "collapsed": false
   },
   "outputs": [
    {
     "data": {
      "text/plain": [
       "array([  -1,   51,  116,  117,  121,  122,  124,  126,  372,  373,  374,\n",
       "       1249, 1250, 1251, 1853, 1966, 2625, 2626, 3018, 4947, 5185, 5743,\n",
       "       5998, 6215, 8516])"
      ]
     },
     "execution_count": 143,
     "metadata": {},
     "output_type": "execute_result"
    }
   ],
   "source": [
    "np.unique(new_ints)"
   ]
  },
  {
   "cell_type": "code",
   "execution_count": 153,
   "metadata": {
    "collapsed": false
   },
   "outputs": [
    {
     "data": {
      "text/plain": [
       "array(['-1', '116', '117', '121', '122', '124', '1249', '1250', '1251',\n",
       "       '126', '1853', '1966', '2625', '2626', '3018', '372', '373', '374',\n",
       "       '4947', '51', '5185', '5743', '5998', '6215', '8516',\n",
       "       u'Bins for Trash & Recycling', u'General Bus Request/Incident',\n",
       "       u'Graffiti', u'Hangers', u'Health Complaints', u'Illegal Dumping',\n",
       "       u'Other', u'Other - city responsibility', u'Parking Meter',\n",
       "       u'Parking Violation/Abandoned Auto', u'Parks Request',\n",
       "       u'Policing Issue', u'Post to Neighbors', u'Potholes',\n",
       "       u'Private Property Issue', u'Public Space, Streets and Drains',\n",
       "       u'Request for volunteers', u'SNOW RELATED',\n",
       "       u'Sidewalks and Curb damage',\n",
       "       u'Signs / Bus Shelters / Pavement Markings', u'Street Lamp',\n",
       "       u'Traffic Signal / Pedestrian Signal', u'Traffic/Road Safety',\n",
       "       u'Trash & Recycling', u'Tree Trimming'], dtype=object)"
      ]
     },
     "execution_count": 153,
     "metadata": {},
     "output_type": "execute_result"
    }
   ],
   "source": [
    "np.unique(scf_df[['issue_id', 'category']])"
   ]
  },
  {
   "cell_type": "code",
   "execution_count": 154,
   "metadata": {
    "collapsed": false
   },
   "outputs": [],
   "source": [
    "scf_df['category_str'] = [str(i) for i in scf_df['category']]"
   ]
  },
  {
   "cell_type": "code",
   "execution_count": 158,
   "metadata": {
    "collapsed": false
   },
   "outputs": [
    {
     "ename": "TypeError",
     "evalue": "hist_frame() got multiple values for keyword argument 'column'",
     "output_type": "error",
     "traceback": [
      "\u001b[0;31m---------------------------------------------------------------------------\u001b[0m\n\u001b[0;31mTypeError\u001b[0m                                 Traceback (most recent call last)",
      "\u001b[0;32m<ipython-input-158-ea0bafd40646>\u001b[0m in \u001b[0;36m<module>\u001b[0;34m()\u001b[0m\n\u001b[0;32m----> 1\u001b[0;31m \u001b[0mscf_df\u001b[0m\u001b[0;34m.\u001b[0m\u001b[0mhist\u001b[0m\u001b[0;34m(\u001b[0m\u001b[0mscf_df\u001b[0m\u001b[0;34m,\u001b[0m \u001b[0mcolumn\u001b[0m\u001b[0;34m=\u001b[0m\u001b[0;34m'category_str'\u001b[0m\u001b[0;34m)\u001b[0m\u001b[0;34m\u001b[0m\u001b[0m\n\u001b[0m",
      "\u001b[0;31mTypeError\u001b[0m: hist_frame() got multiple values for keyword argument 'column'"
     ]
    }
   ],
   "source": [
    "scf_df.hist(scf_df, column='category_str')"
   ]
  },
  {
   "cell_type": "code",
   "execution_count": 137,
   "metadata": {
    "collapsed": false
   },
   "outputs": [
    {
     "data": {
      "text/plain": [
       "(array([ 4768.,  1169.,  1388.,  1064.,     0.,    19.,    51.,     9.,\n",
       "            0.,   569.]),\n",
       " array([ -1.00000000e+00,   8.50700000e+02,   1.70240000e+03,\n",
       "          2.55410000e+03,   3.40580000e+03,   4.25750000e+03,\n",
       "          5.10920000e+03,   5.96090000e+03,   6.81260000e+03,\n",
       "          7.66430000e+03,   8.51600000e+03]),\n",
       " <a list of 10 Patch objects>)"
      ]
     },
     "execution_count": 137,
     "metadata": {},
     "output_type": "execute_result"
    },
    {
     "data": {
      "image/png": "[encoded data removed]",
      "text/plain": [
       "<matplotlib.figure.Figure at 0x11ad68810>"
      ]
     },
     "metadata": {},
     "output_type": "display_data"
    }
   ],
   "source": [
    "plt.hist(new_ints)\n",
    "plt.xticks"
   ]
  },
  {
   "cell_type": "code",
   "execution_count": null,
   "metadata": {
    "collapsed": false
   },
   "outputs": [],
   "source": []
  }
 ],
 "metadata": {
  "kernelspec": {
   "display_name": "Python 2",
   "language": "python",
   "name": "python2"
  },
  "language_info": {
   "codemirror_mode": {
    "name": "ipython",
    "version": 2
   },
   "file_extension": ".py",
   "mimetype": "text/x-python",
   "name": "python",
   "nbconvert_exporter": "python",
   "pygments_lexer": "ipython2",
   "version": "2.7.9"
  }
 },
 "nbformat": 4,
 "nbformat_minor": 0
}
