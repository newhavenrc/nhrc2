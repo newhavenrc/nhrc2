{
 "cells": [
  {
   "cell_type": "markdown",
   "metadata": {},
   "source": [
    "# read_seeclickfix_api"
   ]
  },
  {
   "cell_type": "markdown",
   "metadata": {},
   "source": [
    "This notebook describes how to use python to read in the seeclickfix API to a pandas DataFrame"
   ]
  },
  {
   "cell_type": "code",
   "execution_count": 1,
   "metadata": {
    "collapsed": false
   },
   "outputs": [],
   "source": [
    "import json\n",
    "import urllib2\n",
    "import pandas as pd\n",
    "from jq import jq\n",
    "import matplotlib.pyplot as plt\n",
    "import numpy as np\n",
    "import nhrc2"
   ]
  },
  {
   "cell_type": "code",
   "execution_count": 2,
   "metadata": {
    "collapsed": false
   },
   "outputs": [],
   "source": [
    "%matplotlib inline"
   ]
  },
  {
   "cell_type": "code",
   "execution_count": 2,
   "metadata": {
    "collapsed": false
   },
   "outputs": [
    {
     "data": {
      "text/plain": [
       "'/Users/matt/projects/nhrc2/__init__.pyc'"
      ]
     },
     "execution_count": 2,
     "metadata": {},
     "output_type": "execute_result"
    }
   ],
   "source": [
    "nhrc2.__file__"
   ]
  },
  {
   "cell_type": "markdown",
   "metadata": {},
   "source": [
    "## Extracting the Categories"
   ]
  },
  {
   "cell_type": "markdown",
   "metadata": {},
   "source": [
    "The SeeClickFix Public API does not include the category in the output. Furthermore, the categories are non-standard (i.e., they vary from municipality to municipality). However, there is a solution! We can request all the categories from New Haven from the SeeClickFix API, and then request the issues for each category individually. This will allow us to associate a category with each issue."
   ]
  },
  {
   "cell_type": "code",
   "execution_count": 3,
   "metadata": {
    "collapsed": false
   },
   "outputs": [],
   "source": [
    "#json_cats = json.load(urllib2.urlopen('https://seeclickfix.com/api/v2/issues/new?address=New+Haven,+CT'))\n",
    "json_cats = json.load(open('/Users/matt/projects/nhrc2/data/scf_cats.json', 'r'))"
   ]
  },
  {
   "cell_type": "code",
   "execution_count": 4,
   "metadata": {
    "collapsed": true
   },
   "outputs": [],
   "source": [
    "scf_cat_rule = '[.[] | .[] | {title: .title, url: .url, organization: .organization}]'"
   ]
  },
  {
   "cell_type": "code",
   "execution_count": 5,
   "metadata": {
    "collapsed": false
   },
   "outputs": [],
   "source": [
    "scf_cat_df = pd.DataFrame(jq(scf_cat_rule).transform(json_cats))\n",
    "scf_cat_df['type'] = [urlstr.split('/')[-1] for urlstr in scf_cat_df['url']]"
   ]
  },
  {
   "cell_type": "code",
   "execution_count": 6,
   "metadata": {
    "collapsed": false
   },
   "outputs": [
    {
     "name": "stdout",
     "output_type": "stream",
     "text": [
      "Number of categories for New Haven: 25\n"
     ]
    },
    {
     "data": {
      "text/html": [
       "<div style=\"max-height:1000px;max-width:1500px;overflow:auto;\">\n",
       "<table border=\"1\" class=\"dataframe\">\n",
       "  <thead>\n",
       "    <tr style=\"text-align: right;\">\n",
       "      <th></th>\n",
       "      <th>organization</th>\n",
       "      <th>title</th>\n",
       "      <th>url</th>\n",
       "      <th>type</th>\n",
       "    </tr>\n",
       "  </thead>\n",
       "  <tbody>\n",
       "    <tr>\n",
       "      <th>0</th>\n",
       "      <td>City of New Haven</td>\n",
       "      <td>SNOW RELATED</td>\n",
       "      <td>https://seeclickfix.com/api/v2/request_types/8516</td>\n",
       "      <td>8516</td>\n",
       "    </tr>\n",
       "    <tr>\n",
       "      <th>1</th>\n",
       "      <td>City of New Haven</td>\n",
       "      <td>Bins for Trash &amp; Recycling</td>\n",
       "      <td>https://seeclickfix.com/api/v2/request_types/5743</td>\n",
       "      <td>5743</td>\n",
       "    </tr>\n",
       "    <tr>\n",
       "      <th>2</th>\n",
       "      <td>City of New Haven</td>\n",
       "      <td>Graffiti</td>\n",
       "      <td>https://seeclickfix.com/api/v2/request_types/122</td>\n",
       "      <td>122</td>\n",
       "    </tr>\n",
       "    <tr>\n",
       "      <th>3</th>\n",
       "      <td>City of New Haven</td>\n",
       "      <td>Hangers</td>\n",
       "      <td>https://seeclickfix.com/api/v2/request_types/6215</td>\n",
       "      <td>6215</td>\n",
       "    </tr>\n",
       "    <tr>\n",
       "      <th>4</th>\n",
       "      <td>City of New Haven</td>\n",
       "      <td>Health Complaints</td>\n",
       "      <td>https://seeclickfix.com/api/v2/request_types/5185</td>\n",
       "      <td>5185</td>\n",
       "    </tr>\n",
       "  </tbody>\n",
       "</table>\n",
       "</div>"
      ],
      "text/plain": [
       "        organization                       title  \\\n",
       "0  City of New Haven                SNOW RELATED   \n",
       "1  City of New Haven  Bins for Trash & Recycling   \n",
       "2  City of New Haven                    Graffiti   \n",
       "3  City of New Haven                     Hangers   \n",
       "4  City of New Haven           Health Complaints   \n",
       "\n",
       "                                                 url  type  \n",
       "0  https://seeclickfix.com/api/v2/request_types/8516  8516  \n",
       "1  https://seeclickfix.com/api/v2/request_types/5743  5743  \n",
       "2   https://seeclickfix.com/api/v2/request_types/122   122  \n",
       "3  https://seeclickfix.com/api/v2/request_types/6215  6215  \n",
       "4  https://seeclickfix.com/api/v2/request_types/5185  5185  "
      ]
     },
     "execution_count": 6,
     "metadata": {},
     "output_type": "execute_result"
    }
   ],
   "source": [
    "print('Number of categories for New Haven: {}'.format(len(scf_cat_df)))\n",
    "scf_cat_df.head(5)"
   ]
  },
  {
   "cell_type": "markdown",
   "metadata": {},
   "source": [
    "## Extracting the Issues"
   ]
  },
  {
   "cell_type": "code",
   "execution_count": 7,
   "metadata": {
    "collapsed": true
   },
   "outputs": [],
   "source": [
    "#json_data = json.load(urllib2.urlopen('https://seeclickfix.com/api/v2/issues?place_url=new-haven&page=1&per_page=10'))\n",
    "json_data = json.load(urllib2.urlopen('https://seeclickfix.com/api/v2/issues?request_types=116&per_page=100000'))"
   ]
  },
  {
   "cell_type": "code",
   "execution_count": 12,
   "metadata": {
    "collapsed": false,
    "scrolled": true
   },
   "outputs": [],
   "source": [
    "#json_data"
   ]
  },
  {
   "cell_type": "code",
   "execution_count": 8,
   "metadata": {
    "collapsed": false
   },
   "outputs": [
    {
     "data": {
      "text/plain": [
       "[u'errors', u'issues', u'metadata']"
      ]
     },
     "execution_count": 8,
     "metadata": {},
     "output_type": "execute_result"
    }
   ],
   "source": [
    "json_data.keys()"
   ]
  },
  {
   "cell_type": "code",
   "execution_count": 5,
   "metadata": {
    "collapsed": false,
    "scrolled": false
   },
   "outputs": [
    {
     "data": {
      "text/plain": [
       "{u'acknowledged_at': u'2015-03-30T16:06:17-04:00',\n",
       " u'address': u'Fairmont Ave  New Haven, Connecticut',\n",
       " u'closed_at': None,\n",
       " u'comment_url': u'https://seeclickfix.com/api/v2/issues/1561282/comments',\n",
       " u'created_at': u'2015-03-30T15:10:43-04:00',\n",
       " u'description': u'From Fairmount Ave right down to Forbes Ave the pot holes are like driving through a mine field. Something has to be done. Been pointing this stretch for years and nothing is getting done. \"NOTHING\"! ',\n",
       " u'flag_url': u'https://seeclickfix.com/api/v2/issues/1561282/flag',\n",
       " u'html_url': u'https://seeclickfix.com/issues/1561282',\n",
       " u'id': 1561282,\n",
       " u'lat': 41.2967237,\n",
       " u'lng': -72.8939387,\n",
       " u'media': {u'image_full': None,\n",
       "  u'image_square_100x100': None,\n",
       "  u'representative_image_url': u'https://seeclickfix.com/assets/categories_trans/no-image.png',\n",
       "  u'video_url': None},\n",
       " u'point': {u'coordinates': [-72.8939387, 41.2967237], u'type': u'Point'},\n",
       " u'rating': 3,\n",
       " u'reporter': {u'avatar': {u'full': u'https://seeclickfix.com/assets/no-avatar-100-0e1ba3fad46692e1a3e9a4b333e91ce5.png',\n",
       "   u'square_100x100': u'https://seeclickfix.com/assets/no-avatar-100-0e1ba3fad46692e1a3e9a4b333e91ce5.png'},\n",
       "  u'civic_points': 860,\n",
       "  u'id': 5248,\n",
       "  u'name': u'dmrowka',\n",
       "  u'role': u'Registered User',\n",
       "  u'witty_title': u'Municipal Avenger'},\n",
       " u'shortened_url': u'http://bit.ly/1abCoSL',\n",
       " u'status': u'Acknowledged',\n",
       " u'summary': u'Potholes',\n",
       " u'transitions': {},\n",
       " u'updated_at': u'2015-03-30T16:06:17-04:00',\n",
       " u'url': u'https://seeclickfix.com/api/v2/issues/1561282'}"
      ]
     },
     "execution_count": 5,
     "metadata": {},
     "output_type": "execute_result"
    }
   ],
   "source": [
    "json_data['issues'][0]"
   ]
  },
  {
   "cell_type": "code",
   "execution_count": null,
   "metadata": {
    "collapsed": true
   },
   "outputs": [],
   "source": [
    "scf_iss_rule = '.issues | {id: .[] .id, status: .[] .status, lat: .[] .lat, lng: .[] .lng}'\n",
    "scf_issues = jq(scf_iss_rule).transform(json_data)"
   ]
  },
  {
   "cell_type": "code",
   "execution_count": 6,
   "metadata": {
    "collapsed": true
   },
   "outputs": [],
   "source": [
    "#scf_issues"
   ]
  },
  {
   "cell_type": "code",
   "execution_count": 7,
   "metadata": {
    "collapsed": false
   },
   "outputs": [],
   "source": [
    "dict_lst_rule = '.issues | {id: [.[] .id], status: [.[] .status]}'\n",
    "#jq(dict_lst_rule).transform(json_data)"
   ]
  },
  {
   "cell_type": "code",
   "execution_count": 9,
   "metadata": {
    "collapsed": false
   },
   "outputs": [],
   "source": [
    "record_rule = (\"[.issues | .[] | {\"\n",
    "               \"id: .id, \"\n",
    "               \"status: .status,\"\n",
    "               \"summary: .summary,\"\n",
    "               \"description: .description,\"\n",
    "               \"address: .address,\"\n",
    "               \"lat: .lat,\"\n",
    "               \"lng: .lng,\"\n",
    "               \"closed_at: .closed_at,\"\n",
    "               \"acknowledged_at: .acknowledged_at,\"\n",
    "               \"created_at: .created_at,\"\n",
    "               \"updated_at: .updated_at,\"\n",
    "               \"shortened_url: .shortened_url,\"\n",
    "               \"reporter_id: .reporter.id,\"\n",
    "               \"reporter_name: .reporter.name,\"\n",
    "               \"reporter_role: .reporter.role,\"\n",
    "               \"}]\")\n",
    "#jq(record_rule).transform(json_data)"
   ]
  },
  {
   "cell_type": "code",
   "execution_count": 44,
   "metadata": {
    "collapsed": false
   },
   "outputs": [],
   "source": [
    "\n",
    "scf_df = pd.DataFrame(jq(record_rule).transform(json_data))"
   ]
  },
  {
   "cell_type": "code",
   "execution_count": 26,
   "metadata": {
    "collapsed": false
   },
   "outputs": [
    {
     "name": "stdout",
     "output_type": "stream",
     "text": [
      "number of records: 835\n"
     ]
    },
    {
     "data": {
      "text/html": [
       "<div style=\"max-height:1000px;max-width:1500px;overflow:auto;\">\n",
       "<table border=\"1\" class=\"dataframe\">\n",
       "  <thead>\n",
       "    <tr style=\"text-align: right;\">\n",
       "      <th></th>\n",
       "      <th>acknowledged_at</th>\n",
       "      <th>address</th>\n",
       "      <th>closed_at</th>\n",
       "      <th>created_at</th>\n",
       "      <th>description</th>\n",
       "      <th>id</th>\n",
       "      <th>lat</th>\n",
       "      <th>lng</th>\n",
       "      <th>reporter_id</th>\n",
       "      <th>reporter_name</th>\n",
       "      <th>reporter_role</th>\n",
       "      <th>shortened_url</th>\n",
       "      <th>status</th>\n",
       "      <th>summary</th>\n",
       "      <th>updated_at</th>\n",
       "    </tr>\n",
       "  </thead>\n",
       "  <tbody>\n",
       "    <tr>\n",
       "      <th>0</th>\n",
       "      <td>None</td>\n",
       "      <td>204-210 Edgewood Avenue New Haven, CT 06511, USA</td>\n",
       "      <td>None</td>\n",
       "      <td>2015-04-10T08:41:59-04:00</td>\n",
       "      <td>Can the secondary question of block be removed...</td>\n",
       "      <td>1582951</td>\n",
       "      <td>41.312336</td>\n",
       "      <td>-72.940659</td>\n",
       "      <td>2</td>\n",
       "      <td>Ben</td>\n",
       "      <td>Admin</td>\n",
       "      <td>http://bit.ly/1chAu3J</td>\n",
       "      <td>Open</td>\n",
       "      <td>Potholes</td>\n",
       "      <td>2015-04-10T08:41:59-04:00</td>\n",
       "    </tr>\n",
       "    <tr>\n",
       "      <th>1</th>\n",
       "      <td>None</td>\n",
       "      <td>331-341 Clifton Street New Haven, CT 06513, USA</td>\n",
       "      <td>None</td>\n",
       "      <td>2015-04-09T17:57:21-04:00</td>\n",
       "      <td>Huge pothole and collapsed curb at intersection</td>\n",
       "      <td>1581476</td>\n",
       "      <td>41.308563</td>\n",
       "      <td>-72.873829</td>\n",
       "      <td>92781</td>\n",
       "      <td>Tech75</td>\n",
       "      <td>Registered User</td>\n",
       "      <td>http://bit.ly/1Ix47eT</td>\n",
       "      <td>Open</td>\n",
       "      <td>Potholes</td>\n",
       "      <td>2015-04-10T06:32:48-04:00</td>\n",
       "    </tr>\n",
       "    <tr>\n",
       "      <th>2</th>\n",
       "      <td>None</td>\n",
       "      <td>63-85 Eastern Street New Haven, CT 06513, USA</td>\n",
       "      <td>None</td>\n",
       "      <td>2015-04-09T17:55:14-04:00</td>\n",
       "      <td>Deep hole 4 feet long</td>\n",
       "      <td>1581470</td>\n",
       "      <td>41.308647</td>\n",
       "      <td>-72.873724</td>\n",
       "      <td>92781</td>\n",
       "      <td>Tech75</td>\n",
       "      <td>Registered User</td>\n",
       "      <td>http://bit.ly/1Ix3JwH</td>\n",
       "      <td>Open</td>\n",
       "      <td>Potholes</td>\n",
       "      <td>2015-04-09T17:55:14-04:00</td>\n",
       "    </tr>\n",
       "  </tbody>\n",
       "</table>\n",
       "</div>"
      ],
      "text/plain": [
       "  acknowledged_at                                           address closed_at  \\\n",
       "0            None  204-210 Edgewood Avenue New Haven, CT 06511, USA      None   \n",
       "1            None   331-341 Clifton Street New Haven, CT 06513, USA      None   \n",
       "2            None     63-85 Eastern Street New Haven, CT 06513, USA      None   \n",
       "\n",
       "                  created_at  \\\n",
       "0  2015-04-10T08:41:59-04:00   \n",
       "1  2015-04-09T17:57:21-04:00   \n",
       "2  2015-04-09T17:55:14-04:00   \n",
       "\n",
       "                                         description       id        lat  \\\n",
       "0  Can the secondary question of block be removed...  1582951  41.312336   \n",
       "1    Huge pothole and collapsed curb at intersection  1581476  41.308563   \n",
       "2                              Deep hole 4 feet long  1581470  41.308647   \n",
       "\n",
       "         lng  reporter_id reporter_name    reporter_role  \\\n",
       "0 -72.940659            2           Ben            Admin   \n",
       "1 -72.873829        92781        Tech75  Registered User   \n",
       "2 -72.873724        92781        Tech75  Registered User   \n",
       "\n",
       "           shortened_url status   summary                 updated_at  \n",
       "0  http://bit.ly/1chAu3J   Open  Potholes  2015-04-10T08:41:59-04:00  \n",
       "1  http://bit.ly/1Ix47eT   Open  Potholes  2015-04-10T06:32:48-04:00  \n",
       "2  http://bit.ly/1Ix3JwH   Open  Potholes  2015-04-09T17:55:14-04:00  "
      ]
     },
     "execution_count": 26,
     "metadata": {},
     "output_type": "execute_result"
    }
   ],
   "source": [
    "print('number of records: {}'.format(len(scf_df)))\n",
    "scf_df.head(3)"
   ]
  },
  {
   "cell_type": "markdown",
   "metadata": {},
   "source": [
    "### Merge two DataFrames"
   ]
  },
  {
   "cell_type": "code",
   "execution_count": 39,
   "metadata": {
    "collapsed": false
   },
   "outputs": [
    {
     "name": "stdout",
     "output_type": "stream",
     "text": [
      "(u'SNOW RELATED', u'8516')\n"
     ]
    }
   ],
   "source": [
    "i=0\n",
    "print(scf_cat_df.loc[i, 'title'], scf_cat_df.loc[i, 'type'])\n",
    "issurl = 'https://seeclickfix.com/api/v2/issues?request_types='+scf_cat_df.loc[i, 'type']+'&per_page=100000'\n",
    "json_data = json.load(urllib2.urlopen(issurl))\n",
    "scf_iss_df = pd.DataFrame(jq(record_rule).transform(json_data))"
   ]
  },
  {
   "cell_type": "code",
   "execution_count": 41,
   "metadata": {
    "collapsed": false
   },
   "outputs": [
    {
     "name": "stdout",
     "output_type": "stream",
     "text": [
      "569\n"
     ]
    }
   ],
   "source": [
    "print(len(scf_iss_df))"
   ]
  },
  {
   "cell_type": "code",
   "execution_count": 42,
   "metadata": {
    "collapsed": false
   },
   "outputs": [],
   "source": [
    "scf_df = scf_df.append(scf_iss_df, ignore_index=True)"
   ]
  },
  {
   "cell_type": "code",
   "execution_count": 43,
   "metadata": {
    "collapsed": false
   },
   "outputs": [
    {
     "data": {
      "text/plain": [
       "1539"
      ]
     },
     "execution_count": 43,
     "metadata": {},
     "output_type": "execute_result"
    }
   ],
   "source": [
    "len(scf_df)"
   ]
  },
  {
   "cell_type": "markdown",
   "metadata": {},
   "source": [
    "### Looping over all issue categories"
   ]
  },
  {
   "cell_type": "markdown",
   "metadata": {},
   "source": [
    "So far we have seen how to get the SeeClickFix issue categories for a municipality, request all issues for a particular category, and merge the results to an existing DataFrame. The next step is to loop over all categories, request all issues, and save them all to a huge DataFrame."
   ]
  },
  {
   "cell_type": "code",
   "execution_count": 45,
   "metadata": {
    "collapsed": false
   },
   "outputs": [
    {
     "data": {
      "text/html": [
       "<div style=\"max-height:1000px;max-width:1500px;overflow:auto;\">\n",
       "<table border=\"1\" class=\"dataframe\">\n",
       "  <thead>\n",
       "    <tr style=\"text-align: right;\">\n",
       "      <th></th>\n",
       "      <th>id</th>\n",
       "      <th>status</th>\n",
       "      <th>summary</th>\n",
       "      <th>address</th>\n",
       "      <th>lat</th>\n",
       "      <th>lng</th>\n",
       "      <th>closed_at</th>\n",
       "      <th>acknowledged_at</th>\n",
       "      <th>created_at</th>\n",
       "      <th>updated_at</th>\n",
       "      <th>shortened_url</th>\n",
       "    </tr>\n",
       "  </thead>\n",
       "  <tbody>\n",
       "  </tbody>\n",
       "</table>\n",
       "</div>"
      ],
      "text/plain": [
       "Empty DataFrame\n",
       "Columns: [id, status, summary, address, lat, lng, closed_at, acknowledged_at, created_at, updated_at, shortened_url]\n",
       "Index: []"
      ]
     },
     "execution_count": 45,
     "metadata": {},
     "output_type": "execute_result"
    }
   ],
   "source": [
    "tstdf = pd.DataFrame(columns=['id', 'status', 'summary', 'address', 'lat', 'lng', 'closed_at', 'acknowledged_at',\n",
    "                              'created_at', 'updated_at', 'shortened_url', 'issue_id', 'category'])\n",
    "tstdf"
   ]
  },
  {
   "cell_type": "code",
   "execution_count": 50,
   "metadata": {
    "collapsed": false
   },
   "outputs": [
    {
     "name": "stdout",
     "output_type": "stream",
     "text": [
      "(u'SNOW RELATED', u'8516')\n",
      "(u'Bins for Trash & Recycling', u'5743')\n",
      "(u'Graffiti', u'122')\n",
      "(u'Hangers', u'6215')\n",
      "(u'Health Complaints', u'5185')\n",
      "(u'Illegal Dumping', u'1250')\n",
      "(u'Other', u'374')\n",
      "(u'Other - city responsibility', u'3018')\n",
      "(u'Parking Meter', u'372')\n",
      "(u'Parking Violation/Abandoned Auto', u'121')\n",
      "(u'Parks Request', u'126')\n",
      "(u'Policing Issue', u'2626')\n",
      "(u'Potholes', u'116')\n",
      "(u'Public Space, Streets and Drains', u'1249')\n",
      "(u'Private Property Issue', u'1251')\n",
      "(u'Sidewalks and Curb damage', u'117')\n",
      "(u'Signs / Bus Shelters / Pavement Markings', u'373')\n",
      "(u'Street Lamp', u'124')\n",
      "(u'Traffic/Road Safety', u'2625')\n",
      "(u'Traffic Signal / Pedestrian Signal', u'51')\n",
      "(u'Trash & Recycling', u'1966')\n",
      "(u'Tree Trimming', u'1853')\n",
      "(u'Request for volunteers', u'5998')\n",
      "(u'General Bus Request/Incident', u'4947')\n",
      "(u'Post to Neighbors', u'other')\n"
     ]
    }
   ],
   "source": [
    "scf_df = pd.DataFrame(columns=['id', 'status', 'summary', 'address', 'lat', 'lng', 'closed_at', 'acknowledged_at',\n",
    "                              'created_at', 'updated_at', 'shortened_url', \n",
    "                              'reporter_id', 'reporter_name', 'reporter_role',\n",
    "                              'issue_id', 'category'])\n",
    "\n",
    "for i in scf_cat_df.index:\n",
    "    print(scf_cat_df.loc[i, 'title'], scf_cat_df.loc[i, 'type'])\n",
    "    issurl = 'https://seeclickfix.com/api/v2/issues?request_types='+scf_cat_df.loc[i, 'type']+'&per_page=10000'\n",
    "    json_data = json.load(urllib2.urlopen(issurl))\n",
    "    scf_iss_df = pd.DataFrame(jq(record_rule).transform(json_data))\n",
    "    scf_iss_df['issue_id'] = scf_cat_df.loc[i, 'type']\n",
    "    scf_iss_df['category'] = scf_cat_df.loc[i, 'title']\n",
    "    scf_df = scf_df.append(scf_iss_df, ignore_index=True)"
   ]
  },
  {
   "cell_type": "code",
   "execution_count": 45,
   "metadata": {
    "collapsed": false
   },
   "outputs": [
    {
     "name": "stdout",
     "output_type": "stream",
     "text": [
      "835\n"
     ]
    },
    {
     "data": {
      "text/html": [
       "<div style=\"max-height:1000px;max-width:1500px;overflow:auto;\">\n",
       "<table border=\"1\" class=\"dataframe\">\n",
       "  <thead>\n",
       "    <tr style=\"text-align: right;\">\n",
       "      <th></th>\n",
       "      <th>acknowledged_at</th>\n",
       "      <th>address</th>\n",
       "      <th>closed_at</th>\n",
       "      <th>created_at</th>\n",
       "      <th>description</th>\n",
       "      <th>id</th>\n",
       "      <th>lat</th>\n",
       "      <th>lng</th>\n",
       "      <th>reporter_id</th>\n",
       "      <th>reporter_name</th>\n",
       "      <th>reporter_role</th>\n",
       "      <th>shortened_url</th>\n",
       "      <th>status</th>\n",
       "      <th>summary</th>\n",
       "      <th>updated_at</th>\n",
       "    </tr>\n",
       "  </thead>\n",
       "  <tbody>\n",
       "    <tr>\n",
       "      <th>0</th>\n",
       "      <td>None</td>\n",
       "      <td>204-210 Edgewood Avenue New Haven, CT 06511, USA</td>\n",
       "      <td>None</td>\n",
       "      <td>2015-04-10T08:41:59-04:00</td>\n",
       "      <td>Can the secondary question of block be removed...</td>\n",
       "      <td>1582951</td>\n",
       "      <td>41.312336</td>\n",
       "      <td>-72.940659</td>\n",
       "      <td>2</td>\n",
       "      <td>Ben</td>\n",
       "      <td>Admin</td>\n",
       "      <td>http://bit.ly/1chAu3J</td>\n",
       "      <td>Open</td>\n",
       "      <td>Potholes</td>\n",
       "      <td>2015-04-10T08:41:59-04:00</td>\n",
       "    </tr>\n",
       "    <tr>\n",
       "      <th>1</th>\n",
       "      <td>None</td>\n",
       "      <td>331-341 Clifton Street New Haven, CT 06513, USA</td>\n",
       "      <td>None</td>\n",
       "      <td>2015-04-09T17:57:21-04:00</td>\n",
       "      <td>Huge pothole and collapsed curb at intersection</td>\n",
       "      <td>1581476</td>\n",
       "      <td>41.308563</td>\n",
       "      <td>-72.873829</td>\n",
       "      <td>92781</td>\n",
       "      <td>Tech75</td>\n",
       "      <td>Registered User</td>\n",
       "      <td>http://bit.ly/1Ix47eT</td>\n",
       "      <td>Open</td>\n",
       "      <td>Potholes</td>\n",
       "      <td>2015-04-10T06:32:48-04:00</td>\n",
       "    </tr>\n",
       "    <tr>\n",
       "      <th>2</th>\n",
       "      <td>None</td>\n",
       "      <td>63-85 Eastern Street New Haven, CT 06513, USA</td>\n",
       "      <td>None</td>\n",
       "      <td>2015-04-09T17:55:14-04:00</td>\n",
       "      <td>Deep hole 4 feet long</td>\n",
       "      <td>1581470</td>\n",
       "      <td>41.308647</td>\n",
       "      <td>-72.873724</td>\n",
       "      <td>92781</td>\n",
       "      <td>Tech75</td>\n",
       "      <td>Registered User</td>\n",
       "      <td>http://bit.ly/1Ix3JwH</td>\n",
       "      <td>Open</td>\n",
       "      <td>Potholes</td>\n",
       "      <td>2015-04-09T17:55:14-04:00</td>\n",
       "    </tr>\n",
       "  </tbody>\n",
       "</table>\n",
       "</div>"
      ],
      "text/plain": [
       "  acknowledged_at                                           address closed_at  \\\n",
       "0            None  204-210 Edgewood Avenue New Haven, CT 06511, USA      None   \n",
       "1            None   331-341 Clifton Street New Haven, CT 06513, USA      None   \n",
       "2            None     63-85 Eastern Street New Haven, CT 06513, USA      None   \n",
       "\n",
       "                  created_at  \\\n",
       "0  2015-04-10T08:41:59-04:00   \n",
       "1  2015-04-09T17:57:21-04:00   \n",
       "2  2015-04-09T17:55:14-04:00   \n",
       "\n",
       "                                         description       id        lat  \\\n",
       "0  Can the secondary question of block be removed...  1582951  41.312336   \n",
       "1    Huge pothole and collapsed curb at intersection  1581476  41.308563   \n",
       "2                              Deep hole 4 feet long  1581470  41.308647   \n",
       "\n",
       "         lng  reporter_id reporter_name    reporter_role  \\\n",
       "0 -72.940659            2           Ben            Admin   \n",
       "1 -72.873829        92781        Tech75  Registered User   \n",
       "2 -72.873724        92781        Tech75  Registered User   \n",
       "\n",
       "           shortened_url status   summary                 updated_at  \n",
       "0  http://bit.ly/1chAu3J   Open  Potholes  2015-04-10T08:41:59-04:00  \n",
       "1  http://bit.ly/1Ix47eT   Open  Potholes  2015-04-10T06:32:48-04:00  \n",
       "2  http://bit.ly/1Ix3JwH   Open  Potholes  2015-04-09T17:55:14-04:00  "
      ]
     },
     "execution_count": 45,
     "metadata": {},
     "output_type": "execute_result"
    }
   ],
   "source": [
    "print(len(scf_df))\n",
    "scf_df.head(3)"
   ]
  },
  {
   "cell_type": "markdown",
   "metadata": {},
   "source": [
    "### Remove timezone from DateTimes for querying"
   ]
  },
  {
   "cell_type": "code",
   "execution_count": 52,
   "metadata": {
    "collapsed": true
   },
   "outputs": [],
   "source": [
    "csv_scf_df = scf_df.copy()"
   ]
  },
  {
   "cell_type": "code",
   "execution_count": 53,
   "metadata": {
    "collapsed": false
   },
   "outputs": [
    {
     "data": {
      "text/html": [
       "<div style=\"max-height:1000px;max-width:1500px;overflow:auto;\">\n",
       "<table border=\"1\" class=\"dataframe\">\n",
       "  <thead>\n",
       "    <tr style=\"text-align: right;\">\n",
       "      <th></th>\n",
       "      <th>acknowledged_at</th>\n",
       "      <th>address</th>\n",
       "      <th>closed_at</th>\n",
       "      <th>created_at</th>\n",
       "      <th>description</th>\n",
       "      <th>id</th>\n",
       "      <th>lat</th>\n",
       "      <th>lng</th>\n",
       "      <th>reporter_id</th>\n",
       "      <th>reporter_name</th>\n",
       "      <th>reporter_role</th>\n",
       "      <th>shortened_url</th>\n",
       "      <th>status</th>\n",
       "      <th>summary</th>\n",
       "      <th>updated_at</th>\n",
       "    </tr>\n",
       "  </thead>\n",
       "  <tbody>\n",
       "    <tr>\n",
       "      <th>0</th>\n",
       "      <td>None</td>\n",
       "      <td>204-210 Edgewood Avenue New Haven, CT 06511, USA</td>\n",
       "      <td>None</td>\n",
       "      <td>2015-04-10T08:41:59-04:00</td>\n",
       "      <td>Can the secondary question of block be removed...</td>\n",
       "      <td>1582951</td>\n",
       "      <td>41.312336</td>\n",
       "      <td>-72.940659</td>\n",
       "      <td>2</td>\n",
       "      <td>Ben</td>\n",
       "      <td>Admin</td>\n",
       "      <td>http://bit.ly/1chAu3J</td>\n",
       "      <td>Open</td>\n",
       "      <td>Potholes</td>\n",
       "      <td>2015-04-10T08:41:59-04:00</td>\n",
       "    </tr>\n",
       "    <tr>\n",
       "      <th>1</th>\n",
       "      <td>None</td>\n",
       "      <td>331-341 Clifton Street New Haven, CT 06513, USA</td>\n",
       "      <td>None</td>\n",
       "      <td>2015-04-09T17:57:21-04:00</td>\n",
       "      <td>Huge pothole and collapsed curb at intersection</td>\n",
       "      <td>1581476</td>\n",
       "      <td>41.308563</td>\n",
       "      <td>-72.873829</td>\n",
       "      <td>92781</td>\n",
       "      <td>Tech75</td>\n",
       "      <td>Registered User</td>\n",
       "      <td>http://bit.ly/1Ix47eT</td>\n",
       "      <td>Open</td>\n",
       "      <td>Potholes</td>\n",
       "      <td>2015-04-10T06:32:48-04:00</td>\n",
       "    </tr>\n",
       "    <tr>\n",
       "      <th>2</th>\n",
       "      <td>None</td>\n",
       "      <td>63-85 Eastern Street New Haven, CT 06513, USA</td>\n",
       "      <td>None</td>\n",
       "      <td>2015-04-09T17:55:14-04:00</td>\n",
       "      <td>Deep hole 4 feet long</td>\n",
       "      <td>1581470</td>\n",
       "      <td>41.308647</td>\n",
       "      <td>-72.873724</td>\n",
       "      <td>92781</td>\n",
       "      <td>Tech75</td>\n",
       "      <td>Registered User</td>\n",
       "      <td>http://bit.ly/1Ix3JwH</td>\n",
       "      <td>Open</td>\n",
       "      <td>Potholes</td>\n",
       "      <td>2015-04-09T17:55:14-04:00</td>\n",
       "    </tr>\n",
       "  </tbody>\n",
       "</table>\n",
       "</div>"
      ],
      "text/plain": [
       "  acknowledged_at                                           address closed_at  \\\n",
       "0            None  204-210 Edgewood Avenue New Haven, CT 06511, USA      None   \n",
       "1            None   331-341 Clifton Street New Haven, CT 06513, USA      None   \n",
       "2            None     63-85 Eastern Street New Haven, CT 06513, USA      None   \n",
       "\n",
       "                  created_at  \\\n",
       "0  2015-04-10T08:41:59-04:00   \n",
       "1  2015-04-09T17:57:21-04:00   \n",
       "2  2015-04-09T17:55:14-04:00   \n",
       "\n",
       "                                         description       id        lat  \\\n",
       "0  Can the secondary question of block be removed...  1582951  41.312336   \n",
       "1    Huge pothole and collapsed curb at intersection  1581476  41.308563   \n",
       "2                              Deep hole 4 feet long  1581470  41.308647   \n",
       "\n",
       "         lng  reporter_id reporter_name    reporter_role  \\\n",
       "0 -72.940659            2           Ben            Admin   \n",
       "1 -72.873829        92781        Tech75  Registered User   \n",
       "2 -72.873724        92781        Tech75  Registered User   \n",
       "\n",
       "           shortened_url status   summary                 updated_at  \n",
       "0  http://bit.ly/1chAu3J   Open  Potholes  2015-04-10T08:41:59-04:00  \n",
       "1  http://bit.ly/1Ix47eT   Open  Potholes  2015-04-10T06:32:48-04:00  \n",
       "2  http://bit.ly/1Ix3JwH   Open  Potholes  2015-04-09T17:55:14-04:00  "
      ]
     },
     "execution_count": 53,
     "metadata": {},
     "output_type": "execute_result"
    }
   ],
   "source": [
    "csv_scf_df.head(3)"
   ]
  },
  {
   "cell_type": "code",
   "execution_count": 54,
   "metadata": {
    "collapsed": false
   },
   "outputs": [],
   "source": [
    "csv_scf_df['created_at'] = ['-'.join(str(ndatetime).split('-')[:-1]) if ndatetime is not None else None for ndatetime in csv_scf_df['created_at']]\n",
    "csv_scf_df['acknowledged_at'] = ['-'.join(str(ndatetime).split('-')[:-1]) if ndatetime is not None else None for ndatetime in csv_scf_df['acknowledged_at']]\n",
    "csv_scf_df['closed_at'] = ['-'.join(str(ndatetime).split('-')[:-1]) if ndatetime is not None else None for ndatetime in csv_scf_df['closed_at']]\n",
    "csv_scf_df['updated_at'] = ['-'.join(str(ndatetime).split('-')[:-1]) if ndatetime is not None else None for ndatetime in csv_scf_df['updated_at']]"
   ]
  },
  {
   "cell_type": "code",
   "execution_count": 55,
   "metadata": {
    "collapsed": false
   },
   "outputs": [
    {
     "data": {
      "text/html": [
       "<div style=\"max-height:1000px;max-width:1500px;overflow:auto;\">\n",
       "<table border=\"1\" class=\"dataframe\">\n",
       "  <thead>\n",
       "    <tr style=\"text-align: right;\">\n",
       "      <th></th>\n",
       "      <th>acknowledged_at</th>\n",
       "      <th>address</th>\n",
       "      <th>closed_at</th>\n",
       "      <th>created_at</th>\n",
       "      <th>description</th>\n",
       "      <th>id</th>\n",
       "      <th>lat</th>\n",
       "      <th>lng</th>\n",
       "      <th>reporter_id</th>\n",
       "      <th>reporter_name</th>\n",
       "      <th>reporter_role</th>\n",
       "      <th>shortened_url</th>\n",
       "      <th>status</th>\n",
       "      <th>summary</th>\n",
       "      <th>updated_at</th>\n",
       "    </tr>\n",
       "  </thead>\n",
       "  <tbody>\n",
       "    <tr>\n",
       "      <th>0</th>\n",
       "      <td>None</td>\n",
       "      <td>204-210 Edgewood Avenue New Haven, CT 06511, USA</td>\n",
       "      <td>None</td>\n",
       "      <td>2015-04-10T08:41:59</td>\n",
       "      <td>Can the secondary question of block be removed...</td>\n",
       "      <td>1582951</td>\n",
       "      <td>41.312336</td>\n",
       "      <td>-72.940659</td>\n",
       "      <td>2</td>\n",
       "      <td>Ben</td>\n",
       "      <td>Admin</td>\n",
       "      <td>http://bit.ly/1chAu3J</td>\n",
       "      <td>Open</td>\n",
       "      <td>Potholes</td>\n",
       "      <td>2015-04-10T08:41:59</td>\n",
       "    </tr>\n",
       "    <tr>\n",
       "      <th>1</th>\n",
       "      <td>None</td>\n",
       "      <td>331-341 Clifton Street New Haven, CT 06513, USA</td>\n",
       "      <td>None</td>\n",
       "      <td>2015-04-09T17:57:21</td>\n",
       "      <td>Huge pothole and collapsed curb at intersection</td>\n",
       "      <td>1581476</td>\n",
       "      <td>41.308563</td>\n",
       "      <td>-72.873829</td>\n",
       "      <td>92781</td>\n",
       "      <td>Tech75</td>\n",
       "      <td>Registered User</td>\n",
       "      <td>http://bit.ly/1Ix47eT</td>\n",
       "      <td>Open</td>\n",
       "      <td>Potholes</td>\n",
       "      <td>2015-04-10T06:32:48</td>\n",
       "    </tr>\n",
       "    <tr>\n",
       "      <th>2</th>\n",
       "      <td>None</td>\n",
       "      <td>63-85 Eastern Street New Haven, CT 06513, USA</td>\n",
       "      <td>None</td>\n",
       "      <td>2015-04-09T17:55:14</td>\n",
       "      <td>Deep hole 4 feet long</td>\n",
       "      <td>1581470</td>\n",
       "      <td>41.308647</td>\n",
       "      <td>-72.873724</td>\n",
       "      <td>92781</td>\n",
       "      <td>Tech75</td>\n",
       "      <td>Registered User</td>\n",
       "      <td>http://bit.ly/1Ix3JwH</td>\n",
       "      <td>Open</td>\n",
       "      <td>Potholes</td>\n",
       "      <td>2015-04-09T17:55:14</td>\n",
       "    </tr>\n",
       "  </tbody>\n",
       "</table>\n",
       "</div>"
      ],
      "text/plain": [
       "  acknowledged_at                                           address closed_at  \\\n",
       "0            None  204-210 Edgewood Avenue New Haven, CT 06511, USA      None   \n",
       "1            None   331-341 Clifton Street New Haven, CT 06513, USA      None   \n",
       "2            None     63-85 Eastern Street New Haven, CT 06513, USA      None   \n",
       "\n",
       "            created_at                                        description  \\\n",
       "0  2015-04-10T08:41:59  Can the secondary question of block be removed...   \n",
       "1  2015-04-09T17:57:21    Huge pothole and collapsed curb at intersection   \n",
       "2  2015-04-09T17:55:14                              Deep hole 4 feet long   \n",
       "\n",
       "        id        lat        lng  reporter_id reporter_name    reporter_role  \\\n",
       "0  1582951  41.312336 -72.940659            2           Ben            Admin   \n",
       "1  1581476  41.308563 -72.873829        92781        Tech75  Registered User   \n",
       "2  1581470  41.308647 -72.873724        92781        Tech75  Registered User   \n",
       "\n",
       "           shortened_url status   summary           updated_at  \n",
       "0  http://bit.ly/1chAu3J   Open  Potholes  2015-04-10T08:41:59  \n",
       "1  http://bit.ly/1Ix47eT   Open  Potholes  2015-04-10T06:32:48  \n",
       "2  http://bit.ly/1Ix3JwH   Open  Potholes  2015-04-09T17:55:14  "
      ]
     },
     "execution_count": 55,
     "metadata": {},
     "output_type": "execute_result"
    }
   ],
   "source": [
    "csv_scf_df.head(3)"
   ]
  },
  {
   "cell_type": "code",
   "execution_count": 56,
   "metadata": {
    "collapsed": false
   },
   "outputs": [],
   "source": [
    "csv_scf_df.to_csv('/Users/matt/projects/nhrc2/data/scf_data_full.csv', sep=',', encoding='utf-8')"
   ]
  },
  {
   "cell_type": "code",
   "execution_count": null,
   "metadata": {
    "collapsed": true
   },
   "outputs": [],
   "source": []
  }
 ],
 "metadata": {
  "kernelspec": {
   "display_name": "Python 2",
   "language": "python",
   "name": "python2"
  },
  "language_info": {
   "codemirror_mode": {
    "name": "ipython",
    "version": 2
   },
   "file_extension": ".py",
   "mimetype": "text/x-python",
   "name": "python",
   "nbconvert_exporter": "python",
   "pygments_lexer": "ipython2",
   "version": "2.7.9"
  }
 },
 "nbformat": 4,
 "nbformat_minor": 0
}
