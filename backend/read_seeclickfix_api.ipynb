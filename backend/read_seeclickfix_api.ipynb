{
 "metadata": {
  "kernelspec": {
   "display_name": "Python 2",
   "language": "python",
   "name": "python2"
  },
  "language_info": {
   "codemirror_mode": {
    "name": "ipython",
    "version": 2
   },
   "file_extension": ".py",
   "mimetype": "text/x-python",
   "name": "python",
   "nbconvert_exporter": "python",
   "pygments_lexer": "ipython2",
   "version": "2.7.9"
  },
  "name": "",
  "signature": "sha256:016dde359a0b078258d9c3b1d3c1c5a889e3b875dabfdd7b20ebf1443e18346d"
 },
 "nbformat": 3,
 "nbformat_minor": 0,
 "worksheets": [
  {
   "cells": [
    {
     "cell_type": "heading",
     "level": 1,
     "metadata": {},
     "source": [
      "read_seeclickfix_api"
     ]
    },
    {
     "cell_type": "markdown",
     "metadata": {},
     "source": [
      "This notebook describes how to use python to read in the seeclickfix API to a pandas DataFrame"
     ]
    },
    {
     "cell_type": "code",
     "collapsed": false,
     "input": [
      "import json\n",
      "import urllib2\n",
      "import pandas as pd\n",
      "from jq import jq\n",
      "import matplotlib.pyplot as plt"
     ],
     "language": "python",
     "metadata": {},
     "outputs": [],
     "prompt_number": 52
    },
    {
     "cell_type": "heading",
     "level": 2,
     "metadata": {},
     "source": [
      "Extracting the Categories"
     ]
    },
    {
     "cell_type": "markdown",
     "metadata": {},
     "source": [
      "The SeeClickFix Public API does not include the category in the output. Furthermore, the categories are non-standard (i.e., they vary from municipality to municipality). However, there is a solution! We can request all the categories from New Haven from the SeeClickFix API, and then request the issues for each category individually. This will allow us to associate a category with each issue."
     ]
    },
    {
     "cell_type": "code",
     "collapsed": false,
     "input": [
      "json_cats = json.load(urllib2.urlopen('https://seeclickfix.com/api/v2/issues/new?address=New+Haven,+CT'))"
     ],
     "language": "python",
     "metadata": {},
     "outputs": [],
     "prompt_number": 29
    },
    {
     "cell_type": "code",
     "collapsed": false,
     "input": [
      "#json_cats['request_types']"
     ],
     "language": "python",
     "metadata": {},
     "outputs": [],
     "prompt_number": 84
    },
    {
     "cell_type": "code",
     "collapsed": false,
     "input": [
      "scf_cat_rule = '.[] | {title: .[] .title, org: .[] .organization}'\n",
      "scf_cat_rule = '.[] | [.[] .title]'\n",
      "#jq(scf_cat_rule).transform(json_cats)\n",
      "scf_nice_cats = jq(scf_cat_rule).transform(json_cats)\n",
      "scf_org_rule = '.[] | [.[] .organization]'\n",
      "scf_nice_orgs = jq(scf_org_rule).transform(json_cats)\n",
      "scf_url_rule = '.[] | [.[] .url]'\n",
      "scf_nice_urls = jq(scf_url_rule).transform(json_cats)"
     ],
     "language": "python",
     "metadata": {},
     "outputs": [],
     "prompt_number": 30
    },
    {
     "cell_type": "code",
     "collapsed": false,
     "input": [
      "scf_cat_df = pd.DataFrame(scf_nice_cats, columns=['title'])\n",
      "scf_cat_df['organization'] = scf_nice_orgs\n",
      "scf_cat_df['url'] = scf_nice_urls\n",
      "scf_cat_df['type'] = [urlstr.split('/')[-1] for urlstr in scf_cat_df['url']]"
     ],
     "language": "python",
     "metadata": {},
     "outputs": [],
     "prompt_number": 31
    },
    {
     "cell_type": "code",
     "collapsed": false,
     "input": [
      "scf_cat_df"
     ],
     "language": "python",
     "metadata": {},
     "outputs": [
      {
       "html": [
        "<div style=\"max-height:1000px;max-width:1500px;overflow:auto;\">\n",
        "<table border=\"1\" class=\"dataframe\">\n",
        "  <thead>\n",
        "    <tr style=\"text-align: right;\">\n",
        "      <th></th>\n",
        "      <th>title</th>\n",
        "      <th>organization</th>\n",
        "      <th>url</th>\n",
        "      <th>type</th>\n",
        "    </tr>\n",
        "  </thead>\n",
        "  <tbody>\n",
        "    <tr>\n",
        "      <th>0 </th>\n",
        "      <td>                             SNOW RELATED</td>\n",
        "      <td>       City of New Haven</td>\n",
        "      <td> https://seeclickfix.com/api/v2/request_types/8516</td>\n",
        "      <td>  8516</td>\n",
        "    </tr>\n",
        "    <tr>\n",
        "      <th>1 </th>\n",
        "      <td>               Bins for Trash &amp; Recycling</td>\n",
        "      <td>       City of New Haven</td>\n",
        "      <td> https://seeclickfix.com/api/v2/request_types/5743</td>\n",
        "      <td>  5743</td>\n",
        "    </tr>\n",
        "    <tr>\n",
        "      <th>2 </th>\n",
        "      <td>                                 Graffiti</td>\n",
        "      <td>       City of New Haven</td>\n",
        "      <td>  https://seeclickfix.com/api/v2/request_types/122</td>\n",
        "      <td>   122</td>\n",
        "    </tr>\n",
        "    <tr>\n",
        "      <th>3 </th>\n",
        "      <td>                                  Hangers</td>\n",
        "      <td>       City of New Haven</td>\n",
        "      <td> https://seeclickfix.com/api/v2/request_types/6215</td>\n",
        "      <td>  6215</td>\n",
        "    </tr>\n",
        "    <tr>\n",
        "      <th>4 </th>\n",
        "      <td>                        Health Complaints</td>\n",
        "      <td>       City of New Haven</td>\n",
        "      <td> https://seeclickfix.com/api/v2/request_types/5185</td>\n",
        "      <td>  5185</td>\n",
        "    </tr>\n",
        "    <tr>\n",
        "      <th>5 </th>\n",
        "      <td>                          Illegal Dumping</td>\n",
        "      <td>       City of New Haven</td>\n",
        "      <td> https://seeclickfix.com/api/v2/request_types/1250</td>\n",
        "      <td>  1250</td>\n",
        "    </tr>\n",
        "    <tr>\n",
        "      <th>6 </th>\n",
        "      <td>                                    Other</td>\n",
        "      <td>       City of New Haven</td>\n",
        "      <td>  https://seeclickfix.com/api/v2/request_types/374</td>\n",
        "      <td>   374</td>\n",
        "    </tr>\n",
        "    <tr>\n",
        "      <th>7 </th>\n",
        "      <td>              Other - city responsibility</td>\n",
        "      <td>       City of New Haven</td>\n",
        "      <td> https://seeclickfix.com/api/v2/request_types/3018</td>\n",
        "      <td>  3018</td>\n",
        "    </tr>\n",
        "    <tr>\n",
        "      <th>8 </th>\n",
        "      <td>                            Parking Meter</td>\n",
        "      <td>       City of New Haven</td>\n",
        "      <td>  https://seeclickfix.com/api/v2/request_types/372</td>\n",
        "      <td>   372</td>\n",
        "    </tr>\n",
        "    <tr>\n",
        "      <th>9 </th>\n",
        "      <td>         Parking Violation/Abandoned Auto</td>\n",
        "      <td>       City of New Haven</td>\n",
        "      <td>  https://seeclickfix.com/api/v2/request_types/121</td>\n",
        "      <td>   121</td>\n",
        "    </tr>\n",
        "    <tr>\n",
        "      <th>10</th>\n",
        "      <td>                            Parks Request</td>\n",
        "      <td>       City of New Haven</td>\n",
        "      <td>  https://seeclickfix.com/api/v2/request_types/126</td>\n",
        "      <td>   126</td>\n",
        "    </tr>\n",
        "    <tr>\n",
        "      <th>11</th>\n",
        "      <td>                           Policing Issue</td>\n",
        "      <td>       City of New Haven</td>\n",
        "      <td> https://seeclickfix.com/api/v2/request_types/2626</td>\n",
        "      <td>  2626</td>\n",
        "    </tr>\n",
        "    <tr>\n",
        "      <th>12</th>\n",
        "      <td>                                 Potholes</td>\n",
        "      <td>       City of New Haven</td>\n",
        "      <td>  https://seeclickfix.com/api/v2/request_types/116</td>\n",
        "      <td>   116</td>\n",
        "    </tr>\n",
        "    <tr>\n",
        "      <th>13</th>\n",
        "      <td>         Public Space, Streets and Drains</td>\n",
        "      <td>       City of New Haven</td>\n",
        "      <td> https://seeclickfix.com/api/v2/request_types/1249</td>\n",
        "      <td>  1249</td>\n",
        "    </tr>\n",
        "    <tr>\n",
        "      <th>14</th>\n",
        "      <td>                   Private Property Issue</td>\n",
        "      <td>       City of New Haven</td>\n",
        "      <td> https://seeclickfix.com/api/v2/request_types/1251</td>\n",
        "      <td>  1251</td>\n",
        "    </tr>\n",
        "    <tr>\n",
        "      <th>15</th>\n",
        "      <td>                Sidewalks and Curb damage</td>\n",
        "      <td>       City of New Haven</td>\n",
        "      <td>  https://seeclickfix.com/api/v2/request_types/117</td>\n",
        "      <td>   117</td>\n",
        "    </tr>\n",
        "    <tr>\n",
        "      <th>16</th>\n",
        "      <td> Signs / Bus Shelters / Pavement Markings</td>\n",
        "      <td>       City of New Haven</td>\n",
        "      <td>  https://seeclickfix.com/api/v2/request_types/373</td>\n",
        "      <td>   373</td>\n",
        "    </tr>\n",
        "    <tr>\n",
        "      <th>17</th>\n",
        "      <td>                              Street Lamp</td>\n",
        "      <td>       City of New Haven</td>\n",
        "      <td>  https://seeclickfix.com/api/v2/request_types/124</td>\n",
        "      <td>   124</td>\n",
        "    </tr>\n",
        "    <tr>\n",
        "      <th>18</th>\n",
        "      <td>                      Traffic/Road Safety</td>\n",
        "      <td>       City of New Haven</td>\n",
        "      <td> https://seeclickfix.com/api/v2/request_types/2625</td>\n",
        "      <td>  2625</td>\n",
        "    </tr>\n",
        "    <tr>\n",
        "      <th>19</th>\n",
        "      <td>       Traffic Signal / Pedestrian Signal</td>\n",
        "      <td>       City of New Haven</td>\n",
        "      <td>   https://seeclickfix.com/api/v2/request_types/51</td>\n",
        "      <td>    51</td>\n",
        "    </tr>\n",
        "    <tr>\n",
        "      <th>20</th>\n",
        "      <td>                        Trash &amp; Recycling</td>\n",
        "      <td>       City of New Haven</td>\n",
        "      <td> https://seeclickfix.com/api/v2/request_types/1966</td>\n",
        "      <td>  1966</td>\n",
        "    </tr>\n",
        "    <tr>\n",
        "      <th>21</th>\n",
        "      <td>                            Tree Trimming</td>\n",
        "      <td>       City of New Haven</td>\n",
        "      <td> https://seeclickfix.com/api/v2/request_types/1853</td>\n",
        "      <td>  1853</td>\n",
        "    </tr>\n",
        "    <tr>\n",
        "      <th>22</th>\n",
        "      <td>                   Request for volunteers</td>\n",
        "      <td> Neighborhood Volunteers</td>\n",
        "      <td> https://seeclickfix.com/api/v2/request_types/5998</td>\n",
        "      <td>  5998</td>\n",
        "    </tr>\n",
        "    <tr>\n",
        "      <th>23</th>\n",
        "      <td>             General Bus Request/Incident</td>\n",
        "      <td>              CT Transit</td>\n",
        "      <td> https://seeclickfix.com/api/v2/request_types/4947</td>\n",
        "      <td>  4947</td>\n",
        "    </tr>\n",
        "    <tr>\n",
        "      <th>24</th>\n",
        "      <td>                        Post to Neighbors</td>\n",
        "      <td>               Community</td>\n",
        "      <td> https://seeclickfix.com/api/v2/request_types/o...</td>\n",
        "      <td> other</td>\n",
        "    </tr>\n",
        "  </tbody>\n",
        "</table>\n",
        "</div>"
       ],
       "metadata": {},
       "output_type": "pyout",
       "prompt_number": 32,
       "text": [
        "                                       title             organization  \\\n",
        "0                               SNOW RELATED        City of New Haven   \n",
        "1                 Bins for Trash & Recycling        City of New Haven   \n",
        "2                                   Graffiti        City of New Haven   \n",
        "3                                    Hangers        City of New Haven   \n",
        "4                          Health Complaints        City of New Haven   \n",
        "5                            Illegal Dumping        City of New Haven   \n",
        "6                                      Other        City of New Haven   \n",
        "7                Other - city responsibility        City of New Haven   \n",
        "8                              Parking Meter        City of New Haven   \n",
        "9           Parking Violation/Abandoned Auto        City of New Haven   \n",
        "10                             Parks Request        City of New Haven   \n",
        "11                            Policing Issue        City of New Haven   \n",
        "12                                  Potholes        City of New Haven   \n",
        "13          Public Space, Streets and Drains        City of New Haven   \n",
        "14                    Private Property Issue        City of New Haven   \n",
        "15                 Sidewalks and Curb damage        City of New Haven   \n",
        "16  Signs / Bus Shelters / Pavement Markings        City of New Haven   \n",
        "17                               Street Lamp        City of New Haven   \n",
        "18                       Traffic/Road Safety        City of New Haven   \n",
        "19        Traffic Signal / Pedestrian Signal        City of New Haven   \n",
        "20                         Trash & Recycling        City of New Haven   \n",
        "21                             Tree Trimming        City of New Haven   \n",
        "22                    Request for volunteers  Neighborhood Volunteers   \n",
        "23              General Bus Request/Incident               CT Transit   \n",
        "24                         Post to Neighbors                Community   \n",
        "\n",
        "                                                  url   type  \n",
        "0   https://seeclickfix.com/api/v2/request_types/8516   8516  \n",
        "1   https://seeclickfix.com/api/v2/request_types/5743   5743  \n",
        "2    https://seeclickfix.com/api/v2/request_types/122    122  \n",
        "3   https://seeclickfix.com/api/v2/request_types/6215   6215  \n",
        "4   https://seeclickfix.com/api/v2/request_types/5185   5185  \n",
        "5   https://seeclickfix.com/api/v2/request_types/1250   1250  \n",
        "6    https://seeclickfix.com/api/v2/request_types/374    374  \n",
        "7   https://seeclickfix.com/api/v2/request_types/3018   3018  \n",
        "8    https://seeclickfix.com/api/v2/request_types/372    372  \n",
        "9    https://seeclickfix.com/api/v2/request_types/121    121  \n",
        "10   https://seeclickfix.com/api/v2/request_types/126    126  \n",
        "11  https://seeclickfix.com/api/v2/request_types/2626   2626  \n",
        "12   https://seeclickfix.com/api/v2/request_types/116    116  \n",
        "13  https://seeclickfix.com/api/v2/request_types/1249   1249  \n",
        "14  https://seeclickfix.com/api/v2/request_types/1251   1251  \n",
        "15   https://seeclickfix.com/api/v2/request_types/117    117  \n",
        "16   https://seeclickfix.com/api/v2/request_types/373    373  \n",
        "17   https://seeclickfix.com/api/v2/request_types/124    124  \n",
        "18  https://seeclickfix.com/api/v2/request_types/2625   2625  \n",
        "19    https://seeclickfix.com/api/v2/request_types/51     51  \n",
        "20  https://seeclickfix.com/api/v2/request_types/1966   1966  \n",
        "21  https://seeclickfix.com/api/v2/request_types/1853   1853  \n",
        "22  https://seeclickfix.com/api/v2/request_types/5998   5998  \n",
        "23  https://seeclickfix.com/api/v2/request_types/4947   4947  \n",
        "24  https://seeclickfix.com/api/v2/request_types/o...  other  "
       ]
      }
     ],
     "prompt_number": 32
    },
    {
     "cell_type": "heading",
     "level": 2,
     "metadata": {},
     "source": [
      "Extracting the Issues"
     ]
    },
    {
     "cell_type": "code",
     "collapsed": true,
     "input": [
      "#json_data = json.load(urllib2.urlopen('https://seeclickfix.com/api/v2/issues?place_url=new-haven&page=1&per_page=10'))\n",
      "json_data = json.load(urllib2.urlopen('https://seeclickfix.com/api/v2/issues?request_types=116&per_page=100000'))"
     ],
     "language": "python",
     "metadata": {},
     "outputs": [],
     "prompt_number": 21
    },
    {
     "cell_type": "code",
     "collapsed": false,
     "input": [
      "#json_data"
     ],
     "language": "python",
     "metadata": {
      "scrolled": true
     },
     "outputs": [],
     "prompt_number": 12
    },
    {
     "cell_type": "code",
     "collapsed": false,
     "input": [
      "json_data.keys()"
     ],
     "language": "python",
     "metadata": {},
     "outputs": [
      {
       "metadata": {},
       "output_type": "pyout",
       "prompt_number": 4,
       "text": [
        "[u'errors', u'issues', u'metadata']"
       ]
      }
     ],
     "prompt_number": 4
    },
    {
     "cell_type": "code",
     "collapsed": false,
     "input": [
      "json_data['issues'][0]"
     ],
     "language": "python",
     "metadata": {
      "scrolled": false
     },
     "outputs": [
      {
       "metadata": {},
       "output_type": "pyout",
       "prompt_number": 5,
       "text": [
        "{u'acknowledged_at': u'2015-03-30T16:06:17-04:00',\n",
        " u'address': u'Fairmont Ave  New Haven, Connecticut',\n",
        " u'closed_at': None,\n",
        " u'comment_url': u'https://seeclickfix.com/api/v2/issues/1561282/comments',\n",
        " u'created_at': u'2015-03-30T15:10:43-04:00',\n",
        " u'description': u'From Fairmount Ave right down to Forbes Ave the pot holes are like driving through a mine field. Something has to be done. Been pointing this stretch for years and nothing is getting done. \"NOTHING\"! ',\n",
        " u'flag_url': u'https://seeclickfix.com/api/v2/issues/1561282/flag',\n",
        " u'html_url': u'https://seeclickfix.com/issues/1561282',\n",
        " u'id': 1561282,\n",
        " u'lat': 41.2967237,\n",
        " u'lng': -72.8939387,\n",
        " u'media': {u'image_full': None,\n",
        "  u'image_square_100x100': None,\n",
        "  u'representative_image_url': u'https://seeclickfix.com/assets/categories_trans/no-image.png',\n",
        "  u'video_url': None},\n",
        " u'point': {u'coordinates': [-72.8939387, 41.2967237], u'type': u'Point'},\n",
        " u'rating': 3,\n",
        " u'reporter': {u'avatar': {u'full': u'https://seeclickfix.com/assets/no-avatar-100-0e1ba3fad46692e1a3e9a4b333e91ce5.png',\n",
        "   u'square_100x100': u'https://seeclickfix.com/assets/no-avatar-100-0e1ba3fad46692e1a3e9a4b333e91ce5.png'},\n",
        "  u'civic_points': 860,\n",
        "  u'id': 5248,\n",
        "  u'name': u'dmrowka',\n",
        "  u'role': u'Registered User',\n",
        "  u'witty_title': u'Municipal Avenger'},\n",
        " u'shortened_url': u'http://bit.ly/1abCoSL',\n",
        " u'status': u'Acknowledged',\n",
        " u'summary': u'Potholes',\n",
        " u'transitions': {},\n",
        " u'updated_at': u'2015-03-30T16:06:17-04:00',\n",
        " u'url': u'https://seeclickfix.com/api/v2/issues/1561282'}"
       ]
      }
     ],
     "prompt_number": 5
    },
    {
     "cell_type": "code",
     "collapsed": true,
     "input": [
      "scf_iss_rule = '.issues | {id: .[] .id, status: .[] .status, lat: .[] .lat, lng: .[] .lng}'\n",
      "scf_issues = jq(scf_iss_rule).transform(json_data)"
     ],
     "language": "python",
     "metadata": {},
     "outputs": [],
     "prompt_number": 88
    },
    {
     "cell_type": "code",
     "collapsed": true,
     "input": [
      "#scf_issues"
     ],
     "language": "python",
     "metadata": {},
     "outputs": [],
     "prompt_number": 6
    },
    {
     "cell_type": "code",
     "collapsed": false,
     "input": [
      "dict_lst_rule = '.issues | {id: [.[] .id], status: [.[] .status]}'\n",
      "#jq(dict_lst_rule).transform(json_data)"
     ],
     "language": "python",
     "metadata": {},
     "outputs": [],
     "prompt_number": 7
    },
    {
     "cell_type": "code",
     "collapsed": false,
     "input": [
      "record_rule = (\"[.issues | .[] | {\"\n",
      "               \"id: .id, \"\n",
      "               \"status: .status,\"\n",
      "               \"summary: .summary,\"\n",
      "               \"address: .address,\"\n",
      "               \"lat: .lat,\"\n",
      "               \"lng: .lng,\"\n",
      "               \"closed_at: .closed_at,\"\n",
      "               \"acknowledged_at: .acknowledged_at,\"\n",
      "               \"created_at: .created_at,\"\n",
      "               \"updated_at: .updated_at,\"\n",
      "               \"shortened_url: .shortened_url,\"\n",
      "               \"reporter_id: .reporter.id,\"\n",
      "               \"reporter_name: .reporter.name,\"\n",
      "               \"reporter_role: .reporter.role,\"\n",
      "               \"}]\")\n",
      "#jq(record_rule).transform(json_data)"
     ],
     "language": "python",
     "metadata": {},
     "outputs": [],
     "prompt_number": 48
    },
    {
     "cell_type": "code",
     "collapsed": false,
     "input": [
      "scf_df = pd.DataFrame(jq(record_rule).transform(json_data))"
     ],
     "language": "python",
     "metadata": {},
     "outputs": [],
     "prompt_number": 26
    },
    {
     "cell_type": "code",
     "collapsed": false,
     "input": [
      "print('number of records: {}'.format(len(scf_df)))\n",
      "scf_df.head(10)"
     ],
     "language": "python",
     "metadata": {},
     "outputs": [
      {
       "output_type": "stream",
       "stream": "stdout",
       "text": [
        "number of records: 970\n"
       ]
      },
      {
       "html": [
        "<div style=\"max-height:1000px;max-width:1500px;overflow:auto;\">\n",
        "<table border=\"1\" class=\"dataframe\">\n",
        "  <thead>\n",
        "    <tr style=\"text-align: right;\">\n",
        "      <th></th>\n",
        "      <th>acknowledged_at</th>\n",
        "      <th>address</th>\n",
        "      <th>closed_at</th>\n",
        "      <th>created_at</th>\n",
        "      <th>id</th>\n",
        "      <th>lat</th>\n",
        "      <th>lng</th>\n",
        "      <th>shortened_url</th>\n",
        "      <th>status</th>\n",
        "      <th>summary</th>\n",
        "      <th>updated_at</th>\n",
        "    </tr>\n",
        "  </thead>\n",
        "  <tbody>\n",
        "    <tr>\n",
        "      <th>0</th>\n",
        "      <td> 2015-03-30T16:06:17-04:00</td>\n",
        "      <td>            Fairmont Ave  New Haven, Connecticut</td>\n",
        "      <td> None</td>\n",
        "      <td> 2015-03-30T15:10:43-04:00</td>\n",
        "      <td> 1561282</td>\n",
        "      <td> 41.296724</td>\n",
        "      <td>-72.893939</td>\n",
        "      <td> http://bit.ly/1abCoSL</td>\n",
        "      <td> Acknowledged</td>\n",
        "      <td>                              Potholes</td>\n",
        "      <td> 2015-03-30T16:06:17-04:00</td>\n",
        "    </tr>\n",
        "    <tr>\n",
        "      <th>1</th>\n",
        "      <td> 2015-03-30T16:06:49-04:00</td>\n",
        "      <td>        422 West Rock Ave New Haven, Connecticut</td>\n",
        "      <td> None</td>\n",
        "      <td> 2015-03-30T13:00:27-04:00</td>\n",
        "      <td> 1560970</td>\n",
        "      <td> 41.310373</td>\n",
        "      <td>-72.924160</td>\n",
        "      <td> http://bit.ly/1NuPYg9</td>\n",
        "      <td> Acknowledged</td>\n",
        "      <td>                              Potholes</td>\n",
        "      <td> 2015-03-30T16:06:49-04:00</td>\n",
        "    </tr>\n",
        "    <tr>\n",
        "      <th>2</th>\n",
        "      <td> 2015-03-30T16:07:06-04:00</td>\n",
        "      <td> Burwell &amp; Chester Street New Haven, Connecticut</td>\n",
        "      <td> None</td>\n",
        "      <td> 2015-03-30T12:51:03-04:00</td>\n",
        "      <td> 1560961</td>\n",
        "      <td> 41.291623</td>\n",
        "      <td>-72.891071</td>\n",
        "      <td> http://bit.ly/1NuNNJA</td>\n",
        "      <td> Acknowledged</td>\n",
        "      <td>                              Potholes</td>\n",
        "      <td> 2015-03-30T16:25:45-04:00</td>\n",
        "    </tr>\n",
        "    <tr>\n",
        "      <th>3</th>\n",
        "      <td> 2015-03-30T16:07:41-04:00</td>\n",
        "      <td>  125-127 Foxon Hill Road New Haven, Connecticut</td>\n",
        "      <td> None</td>\n",
        "      <td> 2015-03-30T11:36:29-04:00</td>\n",
        "      <td> 1560625</td>\n",
        "      <td> 41.331581</td>\n",
        "      <td>-72.864828</td>\n",
        "      <td> http://bit.ly/1NutAUh</td>\n",
        "      <td> Acknowledged</td>\n",
        "      <td>                              Potholes</td>\n",
        "      <td> 2015-03-30T16:07:41-04:00</td>\n",
        "    </tr>\n",
        "    <tr>\n",
        "      <th>4</th>\n",
        "      <td> 2015-03-30T16:08:04-04:00</td>\n",
        "      <td>      130 Hamilton Street New Haven, Connecticut</td>\n",
        "      <td> None</td>\n",
        "      <td> 2015-03-30T11:22:59-04:00</td>\n",
        "      <td> 1560603</td>\n",
        "      <td> 41.307181</td>\n",
        "      <td>-72.913159</td>\n",
        "      <td> http://bit.ly/1GH0bGv</td>\n",
        "      <td> Acknowledged</td>\n",
        "      <td>                              Potholes</td>\n",
        "      <td> 2015-03-30T16:08:04-04:00</td>\n",
        "    </tr>\n",
        "    <tr>\n",
        "      <th>5</th>\n",
        "      <td> 2015-03-30T16:08:30-04:00</td>\n",
        "      <td>            Irving Street New Haven, Connecticut</td>\n",
        "      <td> None</td>\n",
        "      <td> 2015-03-30T10:46:31-04:00</td>\n",
        "      <td> 1560445</td>\n",
        "      <td> 41.311754</td>\n",
        "      <td>-72.950828</td>\n",
        "      <td> http://bit.ly/1GGVaxy</td>\n",
        "      <td> Acknowledged</td>\n",
        "      <td>                              Potholes</td>\n",
        "      <td> 2015-03-30T16:08:30-04:00</td>\n",
        "    </tr>\n",
        "    <tr>\n",
        "      <th>6</th>\n",
        "      <td> 2015-03-30T16:05:04-04:00</td>\n",
        "      <td>      703 Whitney Avenue  New Haven, Connecticut</td>\n",
        "      <td> None</td>\n",
        "      <td> 2015-03-30T09:31:36-04:00</td>\n",
        "      <td> 1560123</td>\n",
        "      <td> 41.329436</td>\n",
        "      <td>-72.913558</td>\n",
        "      <td> http://bit.ly/1yswORb</td>\n",
        "      <td> Acknowledged</td>\n",
        "      <td>                              Potholes</td>\n",
        "      <td> 2015-03-30T16:05:04-04:00</td>\n",
        "    </tr>\n",
        "    <tr>\n",
        "      <th>7</th>\n",
        "      <td> 2015-03-30T08:55:09-04:00</td>\n",
        "      <td>        143 Rowe Street New Haven, CT 06513, USA</td>\n",
        "      <td> None</td>\n",
        "      <td> 2015-03-30T06:17:20-04:00</td>\n",
        "      <td> 1559906</td>\n",
        "      <td> 41.316952</td>\n",
        "      <td>-72.895774</td>\n",
        "      <td> http://bit.ly/1G7ROTP</td>\n",
        "      <td> Acknowledged</td>\n",
        "      <td>                              Potholes</td>\n",
        "      <td> 2015-03-30T08:55:10-04:00</td>\n",
        "    </tr>\n",
        "    <tr>\n",
        "      <th>8</th>\n",
        "      <td> 2015-03-30T08:55:10-04:00</td>\n",
        "      <td>           Farnam Drive New Haven, CT 06511, USA</td>\n",
        "      <td> None</td>\n",
        "      <td> 2015-03-29T22:10:35-04:00</td>\n",
        "      <td> 1559822</td>\n",
        "      <td> 41.327643</td>\n",
        "      <td>-72.908235</td>\n",
        "      <td> http://bit.ly/1IIzxfy</td>\n",
        "      <td> Acknowledged</td>\n",
        "      <td>                              Potholes</td>\n",
        "      <td> 2015-03-30T08:55:10-04:00</td>\n",
        "    </tr>\n",
        "    <tr>\n",
        "      <th>9</th>\n",
        "      <td> 2015-03-30T16:02:52-04:00</td>\n",
        "      <td>      111 Linden Street New Haven, CT 06511, USA</td>\n",
        "      <td> None</td>\n",
        "      <td> 2015-03-29T13:00:10-04:00</td>\n",
        "      <td> 1559298</td>\n",
        "      <td> 41.321984</td>\n",
        "      <td>-72.913699</td>\n",
        "      <td> http://bit.ly/1FZwukI</td>\n",
        "      <td> Acknowledged</td>\n",
        "      <td> Testing for scf #seeclickfix #pothole</td>\n",
        "      <td> 2015-03-30T16:02:52-04:00</td>\n",
        "    </tr>\n",
        "  </tbody>\n",
        "</table>\n",
        "</div>"
       ],
       "metadata": {},
       "output_type": "pyout",
       "prompt_number": 27,
       "text": [
        "             acknowledged_at                                          address  \\\n",
        "0  2015-03-30T16:06:17-04:00             Fairmont Ave  New Haven, Connecticut   \n",
        "1  2015-03-30T16:06:49-04:00         422 West Rock Ave New Haven, Connecticut   \n",
        "2  2015-03-30T16:07:06-04:00  Burwell & Chester Street New Haven, Connecticut   \n",
        "3  2015-03-30T16:07:41-04:00   125-127 Foxon Hill Road New Haven, Connecticut   \n",
        "4  2015-03-30T16:08:04-04:00       130 Hamilton Street New Haven, Connecticut   \n",
        "5  2015-03-30T16:08:30-04:00             Irving Street New Haven, Connecticut   \n",
        "6  2015-03-30T16:05:04-04:00       703 Whitney Avenue  New Haven, Connecticut   \n",
        "7  2015-03-30T08:55:09-04:00         143 Rowe Street New Haven, CT 06513, USA   \n",
        "8  2015-03-30T08:55:10-04:00            Farnam Drive New Haven, CT 06511, USA   \n",
        "9  2015-03-30T16:02:52-04:00       111 Linden Street New Haven, CT 06511, USA   \n",
        "\n",
        "  closed_at                 created_at       id        lat        lng  \\\n",
        "0      None  2015-03-30T15:10:43-04:00  1561282  41.296724 -72.893939   \n",
        "1      None  2015-03-30T13:00:27-04:00  1560970  41.310373 -72.924160   \n",
        "2      None  2015-03-30T12:51:03-04:00  1560961  41.291623 -72.891071   \n",
        "3      None  2015-03-30T11:36:29-04:00  1560625  41.331581 -72.864828   \n",
        "4      None  2015-03-30T11:22:59-04:00  1560603  41.307181 -72.913159   \n",
        "5      None  2015-03-30T10:46:31-04:00  1560445  41.311754 -72.950828   \n",
        "6      None  2015-03-30T09:31:36-04:00  1560123  41.329436 -72.913558   \n",
        "7      None  2015-03-30T06:17:20-04:00  1559906  41.316952 -72.895774   \n",
        "8      None  2015-03-29T22:10:35-04:00  1559822  41.327643 -72.908235   \n",
        "9      None  2015-03-29T13:00:10-04:00  1559298  41.321984 -72.913699   \n",
        "\n",
        "           shortened_url        status                                summary  \\\n",
        "0  http://bit.ly/1abCoSL  Acknowledged                               Potholes   \n",
        "1  http://bit.ly/1NuPYg9  Acknowledged                               Potholes   \n",
        "2  http://bit.ly/1NuNNJA  Acknowledged                               Potholes   \n",
        "3  http://bit.ly/1NutAUh  Acknowledged                               Potholes   \n",
        "4  http://bit.ly/1GH0bGv  Acknowledged                               Potholes   \n",
        "5  http://bit.ly/1GGVaxy  Acknowledged                               Potholes   \n",
        "6  http://bit.ly/1yswORb  Acknowledged                               Potholes   \n",
        "7  http://bit.ly/1G7ROTP  Acknowledged                               Potholes   \n",
        "8  http://bit.ly/1IIzxfy  Acknowledged                               Potholes   \n",
        "9  http://bit.ly/1FZwukI  Acknowledged  Testing for scf #seeclickfix #pothole   \n",
        "\n",
        "                  updated_at  \n",
        "0  2015-03-30T16:06:17-04:00  \n",
        "1  2015-03-30T16:06:49-04:00  \n",
        "2  2015-03-30T16:25:45-04:00  \n",
        "3  2015-03-30T16:07:41-04:00  \n",
        "4  2015-03-30T16:08:04-04:00  \n",
        "5  2015-03-30T16:08:30-04:00  \n",
        "6  2015-03-30T16:05:04-04:00  \n",
        "7  2015-03-30T08:55:10-04:00  \n",
        "8  2015-03-30T08:55:10-04:00  \n",
        "9  2015-03-30T16:02:52-04:00  "
       ]
      }
     ],
     "prompt_number": 27
    },
    {
     "cell_type": "heading",
     "level": 3,
     "metadata": {},
     "source": [
      "Merge two DataFrames"
     ]
    },
    {
     "cell_type": "code",
     "collapsed": false,
     "input": [
      "i=0\n",
      "print(scf_cat_df.loc[i, 'title'], scf_cat_df.loc[i, 'type'])\n",
      "issurl = 'https://seeclickfix.com/api/v2/issues?request_types='+scf_cat_df.loc[i, 'type']+'&per_page=100000'\n",
      "json_data = json.load(urllib2.urlopen(issurl))\n",
      "scf_iss_df = pd.DataFrame(jq(record_rule).transform(json_data))"
     ],
     "language": "python",
     "metadata": {},
     "outputs": [
      {
       "output_type": "stream",
       "stream": "stdout",
       "text": [
        "(u'SNOW RELATED', u'8516')\n"
       ]
      }
     ],
     "prompt_number": 39
    },
    {
     "cell_type": "code",
     "collapsed": false,
     "input": [
      "print(len(scf_iss_df))"
     ],
     "language": "python",
     "metadata": {},
     "outputs": [
      {
       "output_type": "stream",
       "stream": "stdout",
       "text": [
        "569\n"
       ]
      }
     ],
     "prompt_number": 41
    },
    {
     "cell_type": "code",
     "collapsed": false,
     "input": [
      "scf_df = scf_df.append(scf_iss_df, ignore_index=True)"
     ],
     "language": "python",
     "metadata": {},
     "outputs": [],
     "prompt_number": 42
    },
    {
     "cell_type": "code",
     "collapsed": false,
     "input": [
      "len(scf_df)"
     ],
     "language": "python",
     "metadata": {},
     "outputs": [
      {
       "metadata": {},
       "output_type": "pyout",
       "prompt_number": 43,
       "text": [
        "1539"
       ]
      }
     ],
     "prompt_number": 43
    },
    {
     "cell_type": "heading",
     "level": 3,
     "metadata": {},
     "source": [
      "Looping over all issue categories"
     ]
    },
    {
     "cell_type": "markdown",
     "metadata": {},
     "source": [
      "So far we have seen how to get the SeeClickFix issue categories for a municipality, request all issues for a particular category, and merge the results to an existing DataFrame. The next step is to loop over all categories, request all issues, and save them all to a huge DataFrame."
     ]
    },
    {
     "cell_type": "code",
     "collapsed": false,
     "input": [
      "tstdf = pd.DataFrame(columns=['id', 'status', 'summary', 'address', 'lat', 'lng', 'closed_at', 'acknowledged_at',\n",
      "                              'created_at', 'updated_at', 'shortened_url', 'issue_id', 'category'])\n",
      "tstdf"
     ],
     "language": "python",
     "metadata": {},
     "outputs": [
      {
       "html": [
        "<div style=\"max-height:1000px;max-width:1500px;overflow:auto;\">\n",
        "<table border=\"1\" class=\"dataframe\">\n",
        "  <thead>\n",
        "    <tr style=\"text-align: right;\">\n",
        "      <th></th>\n",
        "      <th>id</th>\n",
        "      <th>status</th>\n",
        "      <th>summary</th>\n",
        "      <th>address</th>\n",
        "      <th>lat</th>\n",
        "      <th>lng</th>\n",
        "      <th>closed_at</th>\n",
        "      <th>acknowledged_at</th>\n",
        "      <th>created_at</th>\n",
        "      <th>updated_at</th>\n",
        "      <th>shortened_url</th>\n",
        "    </tr>\n",
        "  </thead>\n",
        "  <tbody>\n",
        "  </tbody>\n",
        "</table>\n",
        "</div>"
       ],
       "metadata": {},
       "output_type": "pyout",
       "prompt_number": 45,
       "text": [
        "Empty DataFrame\n",
        "Columns: [id, status, summary, address, lat, lng, closed_at, acknowledged_at, created_at, updated_at, shortened_url]\n",
        "Index: []"
       ]
      }
     ],
     "prompt_number": 45
    },
    {
     "cell_type": "code",
     "collapsed": false,
     "input": [
      "scf_df = pd.DataFrame(columns=['id', 'status', 'summary', 'address', 'lat', 'lng', 'closed_at', 'acknowledged_at',\n",
      "                              'created_at', 'updated_at', 'shortened_url', \n",
      "                              'reporter_id', 'reporter_name', 'reporter_role',\n",
      "                              'issue_id', 'category'])\n",
      "\n",
      "for i in scf_cat_df.index:\n",
      "    print(scf_cat_df.loc[i, 'title'], scf_cat_df.loc[i, 'type'])\n",
      "    issurl = 'https://seeclickfix.com/api/v2/issues?request_types='+scf_cat_df.loc[i, 'type']+'&per_page=10000'\n",
      "    json_data = json.load(urllib2.urlopen(issurl))\n",
      "    scf_iss_df = pd.DataFrame(jq(record_rule).transform(json_data))\n",
      "    scf_iss_df['issue_id'] = scf_cat_df.loc[i, 'type']\n",
      "    scf_iss_df['category'] = scf_cat_df.loc[i, 'title']\n",
      "    scf_df = scf_df.append(scf_iss_df, ignore_index=True)"
     ],
     "language": "python",
     "metadata": {},
     "outputs": [
      {
       "output_type": "stream",
       "stream": "stdout",
       "text": [
        "(u'SNOW RELATED', u'8516')\n",
        "(u'Bins for Trash & Recycling', u'5743')"
       ]
      },
      {
       "output_type": "stream",
       "stream": "stdout",
       "text": [
        "\n",
        "(u'Graffiti', u'122')"
       ]
      },
      {
       "output_type": "stream",
       "stream": "stdout",
       "text": [
        "\n",
        "(u'Hangers', u'6215')"
       ]
      },
      {
       "output_type": "stream",
       "stream": "stdout",
       "text": [
        "\n",
        "(u'Health Complaints', u'5185')"
       ]
      },
      {
       "output_type": "stream",
       "stream": "stdout",
       "text": [
        "\n",
        "(u'Illegal Dumping', u'1250')"
       ]
      },
      {
       "output_type": "stream",
       "stream": "stdout",
       "text": [
        "\n",
        "(u'Other', u'374')"
       ]
      },
      {
       "output_type": "stream",
       "stream": "stdout",
       "text": [
        "\n",
        "(u'Other - city responsibility', u'3018')"
       ]
      },
      {
       "output_type": "stream",
       "stream": "stdout",
       "text": [
        "\n",
        "(u'Parking Meter', u'372')"
       ]
      },
      {
       "output_type": "stream",
       "stream": "stdout",
       "text": [
        "\n",
        "(u'Parking Violation/Abandoned Auto', u'121')"
       ]
      },
      {
       "output_type": "stream",
       "stream": "stdout",
       "text": [
        "\n",
        "(u'Parks Request', u'126')"
       ]
      },
      {
       "output_type": "stream",
       "stream": "stdout",
       "text": [
        "\n",
        "(u'Policing Issue', u'2626')"
       ]
      },
      {
       "output_type": "stream",
       "stream": "stdout",
       "text": [
        "\n",
        "(u'Potholes', u'116')"
       ]
      },
      {
       "output_type": "stream",
       "stream": "stdout",
       "text": [
        "\n",
        "(u'Public Space, Streets and Drains', u'1249')"
       ]
      },
      {
       "output_type": "stream",
       "stream": "stdout",
       "text": [
        "\n",
        "(u'Private Property Issue', u'1251')"
       ]
      },
      {
       "output_type": "stream",
       "stream": "stdout",
       "text": [
        "\n",
        "(u'Sidewalks and Curb damage', u'117')"
       ]
      },
      {
       "output_type": "stream",
       "stream": "stdout",
       "text": [
        "\n",
        "(u'Signs / Bus Shelters / Pavement Markings', u'373')"
       ]
      },
      {
       "output_type": "stream",
       "stream": "stdout",
       "text": [
        "\n",
        "(u'Street Lamp', u'124')"
       ]
      },
      {
       "output_type": "stream",
       "stream": "stdout",
       "text": [
        "\n",
        "(u'Traffic/Road Safety', u'2625')"
       ]
      },
      {
       "output_type": "stream",
       "stream": "stdout",
       "text": [
        "\n",
        "(u'Traffic Signal / Pedestrian Signal', u'51')"
       ]
      },
      {
       "output_type": "stream",
       "stream": "stdout",
       "text": [
        "\n",
        "(u'Trash & Recycling', u'1966')"
       ]
      },
      {
       "output_type": "stream",
       "stream": "stdout",
       "text": [
        "\n",
        "(u'Tree Trimming', u'1853')"
       ]
      },
      {
       "output_type": "stream",
       "stream": "stdout",
       "text": [
        "\n",
        "(u'Request for volunteers', u'5998')"
       ]
      },
      {
       "output_type": "stream",
       "stream": "stdout",
       "text": [
        "\n",
        "(u'General Bus Request/Incident', u'4947')"
       ]
      },
      {
       "output_type": "stream",
       "stream": "stdout",
       "text": [
        "\n",
        "(u'Post to Neighbors', u'other')"
       ]
      },
      {
       "output_type": "stream",
       "stream": "stdout",
       "text": [
        "\n"
       ]
      }
     ],
     "prompt_number": 50
    },
    {
     "cell_type": "code",
     "collapsed": false,
     "input": [
      "print(len(scf_df))\n",
      "scf_df.head(5)"
     ],
     "language": "python",
     "metadata": {},
     "outputs": [
      {
       "output_type": "stream",
       "stream": "stdout",
       "text": [
        "9037\n"
       ]
      },
      {
       "html": [
        "<div style=\"max-height:1000px;max-width:1500px;overflow:auto;\">\n",
        "<table border=\"1\" class=\"dataframe\">\n",
        "  <thead>\n",
        "    <tr style=\"text-align: right;\">\n",
        "      <th></th>\n",
        "      <th>acknowledged_at</th>\n",
        "      <th>address</th>\n",
        "      <th>category</th>\n",
        "      <th>closed_at</th>\n",
        "      <th>created_at</th>\n",
        "      <th>id</th>\n",
        "      <th>issue_id</th>\n",
        "      <th>lat</th>\n",
        "      <th>lng</th>\n",
        "      <th>reporter_id</th>\n",
        "      <th>reporter_name</th>\n",
        "      <th>reporter_role</th>\n",
        "      <th>shortened_url</th>\n",
        "      <th>status</th>\n",
        "      <th>summary</th>\n",
        "      <th>updated_at</th>\n",
        "    </tr>\n",
        "  </thead>\n",
        "  <tbody>\n",
        "    <tr>\n",
        "      <th>0</th>\n",
        "      <td> 2015-03-30T16:03:33-04:00</td>\n",
        "      <td>            25 Elmer Street New Haven, Connecticut</td>\n",
        "      <td> SNOW RELATED</td>\n",
        "      <td> None</td>\n",
        "      <td> 2015-03-29T17:18:53-04:00</td>\n",
        "      <td> 1559551</td>\n",
        "      <td> 8516</td>\n",
        "      <td> 41.310373</td>\n",
        "      <td>-72.924160</td>\n",
        "      <td>    0</td>\n",
        "      <td>             CAROL  SANTACROCE</td>\n",
        "      <td>   Registered User</td>\n",
        "      <td> http://bit.ly/1HVR8D7</td>\n",
        "      <td> Acknowledged</td>\n",
        "      <td>         SNOW RELATED</td>\n",
        "      <td> 2015-03-30T16:03:33-04:00</td>\n",
        "    </tr>\n",
        "    <tr>\n",
        "      <th>1</th>\n",
        "      <td>                      None</td>\n",
        "      <td> Lenox Street And Clifton Street  New Haven, Co...</td>\n",
        "      <td> SNOW RELATED</td>\n",
        "      <td> None</td>\n",
        "      <td> 2015-03-17T12:04:30-04:00</td>\n",
        "      <td> 1536264</td>\n",
        "      <td> 8516</td>\n",
        "      <td> 41.309046</td>\n",
        "      <td>-72.884204</td>\n",
        "      <td> 6774</td>\n",
        "      <td>    Department of Public Works</td>\n",
        "      <td> Verified Official</td>\n",
        "      <td> http://bit.ly/19w8mbW</td>\n",
        "      <td>         Open</td>\n",
        "      <td> Unshoveled Sidewalks</td>\n",
        "      <td> 2015-03-17T12:04:30-04:00</td>\n",
        "    </tr>\n",
        "    <tr>\n",
        "      <th>2</th>\n",
        "      <td>                      None</td>\n",
        "      <td>         591 Whitney Avenue New Haven, Connecticut</td>\n",
        "      <td> SNOW RELATED</td>\n",
        "      <td> None</td>\n",
        "      <td> 2015-03-16T17:17:58-04:00</td>\n",
        "      <td> 1534432</td>\n",
        "      <td> 8516</td>\n",
        "      <td> 41.326617</td>\n",
        "      <td>-72.915233</td>\n",
        "      <td>    0</td>\n",
        "      <td> An anonymous SeeClickFix user</td>\n",
        "      <td>   Registered User</td>\n",
        "      <td> http://bit.ly/1GeXnOd</td>\n",
        "      <td>         Open</td>\n",
        "      <td>         SNOW RELATED</td>\n",
        "      <td> 2015-03-16T17:17:58-04:00</td>\n",
        "    </tr>\n",
        "    <tr>\n",
        "      <th>3</th>\n",
        "      <td> 2015-03-16T11:04:17-04:00</td>\n",
        "      <td>      900 Block Of State St New Haven, Connecticut</td>\n",
        "      <td> SNOW RELATED</td>\n",
        "      <td> None</td>\n",
        "      <td> 2015-03-16T10:21:24-04:00</td>\n",
        "      <td> 1533208</td>\n",
        "      <td> 8516</td>\n",
        "      <td> 41.314704</td>\n",
        "      <td>-72.911942</td>\n",
        "      <td>    0</td>\n",
        "      <td>                          PamB</td>\n",
        "      <td>   Registered User</td>\n",
        "      <td> http://bit.ly/1Ds46Xu</td>\n",
        "      <td> Acknowledged</td>\n",
        "      <td>         SNOW RELATED</td>\n",
        "      <td> 2015-03-16T15:36:34-04:00</td>\n",
        "    </tr>\n",
        "    <tr>\n",
        "      <th>4</th>\n",
        "      <td>                      None</td>\n",
        "      <td>       112-116 Court Street New Haven, Connecticut</td>\n",
        "      <td> SNOW RELATED</td>\n",
        "      <td> None</td>\n",
        "      <td> 2015-03-16T08:34:55-04:00</td>\n",
        "      <td> 1532841</td>\n",
        "      <td> 8516</td>\n",
        "      <td> 41.305827</td>\n",
        "      <td>-72.922153</td>\n",
        "      <td>    0</td>\n",
        "      <td> An anonymous SeeClickFix user</td>\n",
        "      <td>   Registered User</td>\n",
        "      <td> http://bit.ly/1BJ8azg</td>\n",
        "      <td>         Open</td>\n",
        "      <td>         SNOW RELATED</td>\n",
        "      <td> 2015-03-16T08:58:48-04:00</td>\n",
        "    </tr>\n",
        "  </tbody>\n",
        "</table>\n",
        "</div>"
       ],
       "metadata": {},
       "output_type": "pyout",
       "prompt_number": 51,
       "text": [
        "             acknowledged_at  \\\n",
        "0  2015-03-30T16:03:33-04:00   \n",
        "1                       None   \n",
        "2                       None   \n",
        "3  2015-03-16T11:04:17-04:00   \n",
        "4                       None   \n",
        "\n",
        "                                             address      category closed_at  \\\n",
        "0             25 Elmer Street New Haven, Connecticut  SNOW RELATED      None   \n",
        "1  Lenox Street And Clifton Street  New Haven, Co...  SNOW RELATED      None   \n",
        "2          591 Whitney Avenue New Haven, Connecticut  SNOW RELATED      None   \n",
        "3       900 Block Of State St New Haven, Connecticut  SNOW RELATED      None   \n",
        "4        112-116 Court Street New Haven, Connecticut  SNOW RELATED      None   \n",
        "\n",
        "                  created_at       id issue_id        lat        lng  \\\n",
        "0  2015-03-29T17:18:53-04:00  1559551     8516  41.310373 -72.924160   \n",
        "1  2015-03-17T12:04:30-04:00  1536264     8516  41.309046 -72.884204   \n",
        "2  2015-03-16T17:17:58-04:00  1534432     8516  41.326617 -72.915233   \n",
        "3  2015-03-16T10:21:24-04:00  1533208     8516  41.314704 -72.911942   \n",
        "4  2015-03-16T08:34:55-04:00  1532841     8516  41.305827 -72.922153   \n",
        "\n",
        "   reporter_id                  reporter_name      reporter_role  \\\n",
        "0            0              CAROL  SANTACROCE    Registered User   \n",
        "1         6774     Department of Public Works  Verified Official   \n",
        "2            0  An anonymous SeeClickFix user    Registered User   \n",
        "3            0                           PamB    Registered User   \n",
        "4            0  An anonymous SeeClickFix user    Registered User   \n",
        "\n",
        "           shortened_url        status               summary  \\\n",
        "0  http://bit.ly/1HVR8D7  Acknowledged          SNOW RELATED   \n",
        "1  http://bit.ly/19w8mbW          Open  Unshoveled Sidewalks   \n",
        "2  http://bit.ly/1GeXnOd          Open          SNOW RELATED   \n",
        "3  http://bit.ly/1Ds46Xu  Acknowledged          SNOW RELATED   \n",
        "4  http://bit.ly/1BJ8azg          Open          SNOW RELATED   \n",
        "\n",
        "                  updated_at  \n",
        "0  2015-03-30T16:03:33-04:00  \n",
        "1  2015-03-17T12:04:30-04:00  \n",
        "2  2015-03-16T17:17:58-04:00  \n",
        "3  2015-03-16T15:36:34-04:00  \n",
        "4  2015-03-16T08:58:48-04:00  "
       ]
      }
     ],
     "prompt_number": 51
    },
    {
     "cell_type": "code",
     "collapsed": false,
     "input": [
      "scf_df.to_csv('/Users/matt/projects/nhrc2/data/scf_data_full.csv', sep=',', encoding='utf-8')"
     ],
     "language": "python",
     "metadata": {},
     "outputs": [],
     "prompt_number": 60
    },
    {
     "cell_type": "code",
     "collapsed": false,
     "input": [],
     "language": "python",
     "metadata": {},
     "outputs": []
    }
   ],
   "metadata": {}
  }
 ]
}