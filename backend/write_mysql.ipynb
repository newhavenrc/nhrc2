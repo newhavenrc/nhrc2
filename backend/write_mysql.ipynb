{
 "cells": [
  {
   "cell_type": "markdown",
   "metadata": {},
   "source": [
    "# write_mysql"
   ]
  },
  {
   "cell_type": "markdown",
   "metadata": {},
   "source": [
    "**a notebook describing the code to write the data to a mysql database**"
   ]
  },
  {
   "cell_type": "code",
   "execution_count": 8,
   "metadata": {
    "collapsed": false
   },
   "outputs": [
    {
     "name": "stdout",
     "output_type": "stream",
     "text": [
      "The autoreload extension is already loaded. To reload it, use:\n",
      "  %reload_ext autoreload\n"
     ]
    }
   ],
   "source": [
    "%matplotlib inline\n",
    "%load_ext autoreload\n",
    "%autoreload 2"
   ]
  },
  {
   "cell_type": "code",
   "execution_count": 73,
   "metadata": {
    "collapsed": true
   },
   "outputs": [],
   "source": [
    "import nhrc2\n",
    "from nhrc2.backend import get_neighborhoods as get_ngbrhd\n",
    "from nhrc2.backend import read_issues as ri\n",
    "import unicodedata\n",
    "import pandas as pd"
   ]
  },
  {
   "cell_type": "code",
   "execution_count": 3,
   "metadata": {
    "collapsed": false
   },
   "outputs": [
    {
     "name": "stdout",
     "output_type": "stream",
     "text": [
      "Category: SNOW RELATED, id: 8516, readfile: True\n",
      "Category: Bins for Trash & Recycling, id: 5743, readfile: True\n",
      "Category: Graffiti, id: 122, readfile: True\n",
      "Category: Hangers, id: 6215, readfile: True\n",
      "Category: Health Complaints, id: 5185, readfile: True\n",
      "Category: Illegal Dumping, id: 1250, readfile: True\n",
      "Category: Other, id: 374, readfile: True\n",
      "Category: Other - city responsibility, id: 3018, readfile: True\n",
      "Category: Parking Meter, id: 372, readfile: True\n",
      "Category: Parking Violation/Abandoned Auto, id: 121, readfile: True\n",
      "Category: Parks Request, id: 126, readfile: True\n",
      "Category: Policing Issue, id: 2626, readfile: True\n",
      "Category: Potholes, id: 116, readfile: True\n",
      "Category: Public Space, Streets and Drains, id: 1249, readfile: True\n",
      "Category: Private Property Issue, id: 1251, readfile: True\n",
      "Category: Sidewalks and Curb damage, id: 117, readfile: True\n",
      "Category: Signs / Bus Shelters / Pavement Markings, id: 373, readfile: True\n",
      "Category: Street Lamp, id: 124, readfile: True\n",
      "Category: Traffic/Road Safety, id: 2625, readfile: True\n",
      "Category: Traffic Signal / Pedestrian Signal, id: 51, readfile: True\n",
      "Category: Trash & Recycling, id: 1966, readfile: True\n",
      "Category: Tree Trimming, id: 1853, readfile: True\n",
      "Category: Request for volunteers, id: 5998, readfile: True\n",
      "Category: General Bus Request/Incident, id: 4947, readfile: True\n",
      "Category: Post to Neighbors, id: other, readfile: True\n",
      "Category: SNOW RELATED, id: 8516, readfile: True\n",
      "Category: Bins for Trash & Recycling, id: 5743, readfile: True\n",
      "Category: Graffiti, id: 122, readfile: True\n",
      "Category: Hangers, id: 6215, readfile: True\n",
      "Category: Health Complaints, id: 5185, readfile: True\n",
      "Category: Illegal Dumping, id: 1250, readfile: True\n",
      "Category: Other, id: 374, readfile: True\n",
      "Category: Other - city responsibility, id: 3018, readfile: True\n",
      "Category: Parking Meter, id: 372, readfile: True\n",
      "Category: Parking Violation/Abandoned Auto, id: 121, readfile: True\n",
      "Category: Parks Request, id: 126, readfile: True\n",
      "Category: Policing Issue, id: 2626, readfile: True\n",
      "Category: Potholes, id: 116, readfile: True\n",
      "Category: Public Space, Streets and Drains, id: 1249, readfile: True\n",
      "Category: Private Property Issue, id: 1251, readfile: True\n",
      "Category: Sidewalks and Curb damage, id: 117, readfile: True\n",
      "Category: Signs / Bus Shelters / Pavement Markings, id: 373, readfile: True\n",
      "Category: Street Lamp, id: 124, readfile: True\n",
      "Category: Traffic/Road Safety, id: 2625, readfile: True\n",
      "Category: Traffic Signal / Pedestrian Signal, id: 51, readfile: True\n",
      "Category: Trash & Recycling, id: 1966, readfile: True\n",
      "Category: Tree Trimming, id: 1853, readfile: True\n",
      "Category: Request for volunteers, id: 5998, readfile: True\n",
      "Category: General Bus Request/Incident, id: 4947, readfile: True\n",
      "Category: Post to Neighbors, id: other, readfile: True\n"
     ]
    }
   ],
   "source": [
    "readfile=True\n",
    "writejson=False\n",
    "scf_df = ri.get_issues(readfile=readfile, writejson=writejson)\n",
    "\n",
    "hoods = get_ngbrhd.get_neighborhoods()\n",
    "\n",
    "scf_df['neighborhood'] = hoods\n"
   ]
  },
  {
   "cell_type": "code",
   "execution_count": 69,
   "metadata": {
    "collapsed": true
   },
   "outputs": [],
   "source": [
    "from nhrc2.backend import connect_nhrc_db as conndb"
   ]
  },
  {
   "cell_type": "code",
   "execution_count": 70,
   "metadata": {
    "collapsed": false
   },
   "outputs": [],
   "source": [
    "engine = conndb.connect_nhrc_db()"
   ]
  },
  {
   "cell_type": "code",
   "execution_count": 44,
   "metadata": {
    "collapsed": false
   },
   "outputs": [
    {
     "data": {
      "text/plain": [
       "Index([u'acknowledged_at', u'address', u'category', u'closed_at', u'created_at', u'description', u'id', u'issue_id', u'lat', u'lng', u'reporter_id', u'reporter_name', u'reporter_role', u'shortened_url', u'status', u'summary', u'updated_at', u'int_issue_id', u'neighborhood'], dtype='object')"
      ]
     },
     "execution_count": 44,
     "metadata": {},
     "output_type": "execute_result"
    }
   ],
   "source": [
    "scf_df.columns"
   ]
  },
  {
   "cell_type": "code",
   "execution_count": 93,
   "metadata": {
    "collapsed": false
   },
   "outputs": [],
   "source": [
    "#scf_df['summary'] = scf_df['summary'].str.replace('\"', '')\n",
    "scf_df['summary'] = [el.encode('ascii', 'ignore') for el in scf_df['summary'].values]\n",
    "#scf_df['description'] = scf_df['description'].str.replace(u'\\u2019', '')\n",
    "#scf_df['description'] = scf_df['description'].str.replace(u'\\u201c', '')\n",
    "#scf_df['description'] = scf_df['description'].str.replace(u'\\u201d', '')\n",
    "#scf_df['description'] = scf_df['description'].str.replace(u'\\u2013', '')\n",
    "scf_df['description'] = [el.encode('ascii', 'ignore') for el in scf_df['description'].values]"
   ]
  },
  {
   "cell_type": "code",
   "execution_count": 94,
   "metadata": {
    "collapsed": false,
    "scrolled": true
   },
   "outputs": [],
   "source": [
    "#for el in scf_df['description'].values:\n",
    "#    print(' ')\n",
    "#    print('########################################################')\n",
    "#    print(el)\n",
    "#    el.encode('ascii', 'ignore')"
   ]
  },
  {
   "cell_type": "code",
   "execution_count": 85,
   "metadata": {
    "collapsed": false
   },
   "outputs": [
    {
     "name": "stdout",
     "output_type": "stream",
     "text": [
      "Help on method_descriptor:\n",
      "\n",
      "encode(...)\n",
      "    S.encode([encoding[,errors]]) -> object\n",
      "    \n",
      "    Encodes S using the codec registered for encoding. encoding defaults\n",
      "    to the default encoding. errors may be given to set a different error\n",
      "    handling scheme. Default is 'strict' meaning that encoding errors raise\n",
      "    a UnicodeEncodeError. Other possible values are 'ignore', 'replace' and\n",
      "    'xmlcharrefreplace' as well as any other name registered with\n",
      "    codecs.register_error that is able to handle UnicodeEncodeErrors.\n",
      "\n"
     ]
    }
   ],
   "source": [
    "help(str.encode)"
   ]
  },
  {
   "cell_type": "code",
   "execution_count": 95,
   "metadata": {
    "collapsed": true
   },
   "outputs": [],
   "source": [
    "#scf_df_to_write = scf_df[['acknowledged_at', 'address', 'category', 'closed_at', 'created_at', 'description']]"
   ]
  },
  {
   "cell_type": "code",
   "execution_count": 98,
   "metadata": {
    "collapsed": false,
    "scrolled": true
   },
   "outputs": [],
   "source": [
    "scf_df.to_sql('nhrc', engine, if_exists='replace', index=False)"
   ]
  },
  {
   "cell_type": "code",
   "execution_count": null,
   "metadata": {
    "collapsed": true
   },
   "outputs": [],
   "source": []
  }
 ],
 "metadata": {
  "kernelspec": {
   "display_name": "Python 2",
   "language": "python",
   "name": "python2"
  },
  "language_info": {
   "codemirror_mode": {
    "name": "ipython",
    "version": 2
   },
   "file_extension": ".py",
   "mimetype": "text/x-python",
   "name": "python",
   "nbconvert_exporter": "python",
   "pygments_lexer": "ipython2",
   "version": "2.7.9"
  }
 },
 "nbformat": 4,
 "nbformat_minor": 0
}
