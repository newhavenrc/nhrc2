{
 "cells": [
  {
   "cell_type": "markdown",
   "metadata": {},
   "source": [
    "# write_mysql"
   ]
  },
  {
   "cell_type": "markdown",
   "metadata": {},
   "source": [
    "**a notebook describing the code to write the data to a mysql database**"
   ]
  },
  {
   "cell_type": "code",
   "execution_count": 8,
   "metadata": {
    "collapsed": false
   },
   "outputs": [
    {
     "name": "stdout",
     "output_type": "stream",
     "text": [
      "The autoreload extension is already loaded. To reload it, use:\n",
      "  %reload_ext autoreload\n"
     ]
    }
   ],
   "source": [
    "%matplotlib inline\n",
    "%load_ext autoreload\n",
    "%autoreload 2"
   ]
  },
  {
   "cell_type": "code",
   "execution_count": 73,
   "metadata": {
    "collapsed": true
   },
   "outputs": [],
   "source": [
    "import nhrc2\n",
    "from nhrc2.backend import get_neighborhoods as get_ngbrhd\n",
    "from nhrc2.backend import read_issues as ri\n",
    "import unicodedata\n",
    "import pandas as pd"
   ]
  },
  {
   "cell_type": "code",
   "execution_count": 3,
   "metadata": {
    "collapsed": false
   },
   "outputs": [
    {
     "name": "stdout",
     "output_type": "stream",
     "text": [
      "Category: SNOW RELATED, id: 8516, readfile: True\n",
      "Category: Bins for Trash & Recycling, id: 5743, readfile: True\n",
      "Category: Graffiti, id: 122, readfile: True\n",
      "Category: Hangers, id: 6215, readfile: True\n",
      "Category: Health Complaints, id: 5185, readfile: True\n",
      "Category: Illegal Dumping, id: 1250, readfile: True\n",
      "Category: Other, id: 374, readfile: True\n",
      "Category: Other - city responsibility, id: 3018, readfile: True\n",
      "Category: Parking Meter, id: 372, readfile: True\n",
      "Category: Parking Violation/Abandoned Auto, id: 121, readfile: True\n",
      "Category: Parks Request, id: 126, readfile: True\n",
      "Category: Policing Issue, id: 2626, readfile: True\n",
      "Category: Potholes, id: 116, readfile: True\n",
      "Category: Public Space, Streets and Drains, id: 1249, readfile: True\n",
      "Category: Private Property Issue, id: 1251, readfile: True\n",
      "Category: Sidewalks and Curb damage, id: 117, readfile: True\n",
      "Category: Signs / Bus Shelters / Pavement Markings, id: 373, readfile: True\n",
      "Category: Street Lamp, id: 124, readfile: True\n",
      "Category: Traffic/Road Safety, id: 2625, readfile: True\n",
      "Category: Traffic Signal / Pedestrian Signal, id: 51, readfile: True\n",
      "Category: Trash & Recycling, id: 1966, readfile: True\n",
      "Category: Tree Trimming, id: 1853, readfile: True\n",
      "Category: Request for volunteers, id: 5998, readfile: True\n",
      "Category: General Bus Request/Incident, id: 4947, readfile: True\n",
      "Category: Post to Neighbors, id: other, readfile: True\n",
      "Category: SNOW RELATED, id: 8516, readfile: True\n",
      "Category: Bins for Trash & Recycling, id: 5743, readfile: True\n",
      "Category: Graffiti, id: 122, readfile: True\n",
      "Category: Hangers, id: 6215, readfile: True\n",
      "Category: Health Complaints, id: 5185, readfile: True\n",
      "Category: Illegal Dumping, id: 1250, readfile: True\n",
      "Category: Other, id: 374, readfile: True\n",
      "Category: Other - city responsibility, id: 3018, readfile: True\n",
      "Category: Parking Meter, id: 372, readfile: True\n",
      "Category: Parking Violation/Abandoned Auto, id: 121, readfile: True\n",
      "Category: Parks Request, id: 126, readfile: True\n",
      "Category: Policing Issue, id: 2626, readfile: True\n",
      "Category: Potholes, id: 116, readfile: True\n",
      "Category: Public Space, Streets and Drains, id: 1249, readfile: True\n",
      "Category: Private Property Issue, id: 1251, readfile: True\n",
      "Category: Sidewalks and Curb damage, id: 117, readfile: True\n",
      "Category: Signs / Bus Shelters / Pavement Markings, id: 373, readfile: True\n",
      "Category: Street Lamp, id: 124, readfile: True\n",
      "Category: Traffic/Road Safety, id: 2625, readfile: True\n",
      "Category: Traffic Signal / Pedestrian Signal, id: 51, readfile: True\n",
      "Category: Trash & Recycling, id: 1966, readfile: True\n",
      "Category: Tree Trimming, id: 1853, readfile: True\n",
      "Category: Request for volunteers, id: 5998, readfile: True\n",
      "Category: General Bus Request/Incident, id: 4947, readfile: True\n",
      "Category: Post to Neighbors, id: other, readfile: True\n"
     ]
    }
   ],
   "source": [
    "readfile=True\n",
    "writejson=False\n",
    "scf_df = ri.get_issues(readfile=readfile, writejson=writejson)\n",
    "\n",
    "hoods = get_ngbrhd.get_neighborhoods()\n",
    "\n",
    "scf_df['neighborhood'] = hoods\n"
   ]
  },
  {
   "cell_type": "code",
   "execution_count": 69,
   "metadata": {
    "collapsed": true
   },
   "outputs": [],
   "source": [
    "from nhrc2.backend import connect_nhrc_db as conndb"
   ]
  },
  {
   "cell_type": "code",
   "execution_count": 102,
   "metadata": {
    "collapsed": false
   },
   "outputs": [],
   "source": [
    "engine = conndb.connect_nhrc_db()"
   ]
  },
  {
   "cell_type": "code",
   "execution_count": 44,
   "metadata": {
    "collapsed": false
   },
   "outputs": [
    {
     "data": {
      "text/plain": [
       "Index([u'acknowledged_at', u'address', u'category', u'closed_at', u'created_at', u'description', u'id', u'issue_id', u'lat', u'lng', u'reporter_id', u'reporter_name', u'reporter_role', u'shortened_url', u'status', u'summary', u'updated_at', u'int_issue_id', u'neighborhood'], dtype='object')"
      ]
     },
     "execution_count": 44,
     "metadata": {},
     "output_type": "execute_result"
    }
   ],
   "source": [
    "scf_df.columns"
   ]
  },
  {
   "cell_type": "code",
   "execution_count": 93,
   "metadata": {
    "collapsed": false
   },
   "outputs": [],
   "source": [
    "#scf_df['summary'] = scf_df['summary'].str.replace('\"', '')\n",
    "scf_df['summary'] = [el.encode('ascii', 'ignore') for el in scf_df['summary'].values]\n",
    "#scf_df['description'] = scf_df['description'].str.replace(u'\\u2019', '')\n",
    "#scf_df['description'] = scf_df['description'].str.replace(u'\\u201c', '')\n",
    "#scf_df['description'] = scf_df['description'].str.replace(u'\\u201d', '')\n",
    "#scf_df['description'] = scf_df['description'].str.replace(u'\\u2013', '')\n",
    "scf_df['description'] = [el.encode('ascii', 'ignore') for el in scf_df['description'].values]"
   ]
  },
  {
   "cell_type": "code",
   "execution_count": 94,
   "metadata": {
    "collapsed": false,
    "scrolled": true
   },
   "outputs": [],
   "source": [
    "#for el in scf_df['description'].values:\n",
    "#    print(' ')\n",
    "#    print('########################################################')\n",
    "#    print(el)\n",
    "#    el.encode('ascii', 'ignore')"
   ]
  },
  {
   "cell_type": "code",
   "execution_count": 85,
   "metadata": {
    "collapsed": false
   },
   "outputs": [
    {
     "name": "stdout",
     "output_type": "stream",
     "text": [
      "Help on method_descriptor:\n",
      "\n",
      "encode(...)\n",
      "    S.encode([encoding[,errors]]) -> object\n",
      "    \n",
      "    Encodes S using the codec registered for encoding. encoding defaults\n",
      "    to the default encoding. errors may be given to set a different error\n",
      "    handling scheme. Default is 'strict' meaning that encoding errors raise\n",
      "    a UnicodeEncodeError. Other possible values are 'ignore', 'replace' and\n",
      "    'xmlcharrefreplace' as well as any other name registered with\n",
      "    codecs.register_error that is able to handle UnicodeEncodeErrors.\n",
      "\n"
     ]
    }
   ],
   "source": [
    "help(str.encode)"
   ]
  },
  {
   "cell_type": "code",
   "execution_count": 95,
   "metadata": {
    "collapsed": true
   },
   "outputs": [],
   "source": [
    "#scf_df_to_write = scf_df[['acknowledged_at', 'address', 'category', 'closed_at', 'created_at', 'description']]"
   ]
  },
  {
   "cell_type": "code",
   "execution_count": 99,
   "metadata": {
    "collapsed": false
   },
   "outputs": [
    {
     "data": {
      "text/html": [
       "<div style=\"max-height:1000px;max-width:1500px;overflow:auto;\">\n",
       "<table border=\"1\" class=\"dataframe\">\n",
       "  <thead>\n",
       "    <tr style=\"text-align: right;\">\n",
       "      <th></th>\n",
       "      <th>acknowledged_at</th>\n",
       "      <th>address</th>\n",
       "      <th>category</th>\n",
       "      <th>closed_at</th>\n",
       "      <th>created_at</th>\n",
       "      <th>description</th>\n",
       "      <th>id</th>\n",
       "      <th>issue_id</th>\n",
       "      <th>lat</th>\n",
       "      <th>lng</th>\n",
       "      <th>reporter_id</th>\n",
       "      <th>reporter_name</th>\n",
       "      <th>reporter_role</th>\n",
       "      <th>shortened_url</th>\n",
       "      <th>status</th>\n",
       "      <th>summary</th>\n",
       "      <th>updated_at</th>\n",
       "      <th>int_issue_id</th>\n",
       "      <th>neighborhood</th>\n",
       "    </tr>\n",
       "  </thead>\n",
       "  <tbody>\n",
       "    <tr>\n",
       "      <th>0</th>\n",
       "      <td>2015-03-30T16:03:33-04:00</td>\n",
       "      <td>25 Elmer Street New Haven, Connecticut</td>\n",
       "      <td>SNOW RELATED</td>\n",
       "      <td>None</td>\n",
       "      <td>2015-03-29T17:18:53-04:00</td>\n",
       "      <td>Snow storm weekend of 3/21/15  I witnessed sno...</td>\n",
       "      <td>1559551</td>\n",
       "      <td>8516</td>\n",
       "      <td>41.310373</td>\n",
       "      <td>-72.924160</td>\n",
       "      <td>0</td>\n",
       "      <td>CAROL  SANTACROCE</td>\n",
       "      <td>Registered User</td>\n",
       "      <td>http://bit.ly/1HVR8D7</td>\n",
       "      <td>Acknowledged</td>\n",
       "      <td>SNOW RELATED</td>\n",
       "      <td>2015-03-30T16:03:33-04:00</td>\n",
       "      <td>8516</td>\n",
       "      <td>Downtown</td>\n",
       "    </tr>\n",
       "    <tr>\n",
       "      <th>1</th>\n",
       "      <td>None</td>\n",
       "      <td>Lenox Street And Clifton Street  New Haven, Co...</td>\n",
       "      <td>SNOW RELATED</td>\n",
       "      <td>None</td>\n",
       "      <td>2015-03-17T12:04:30-04:00</td>\n",
       "      <td>Resident reports that the sidewalks at the cor...</td>\n",
       "      <td>1536264</td>\n",
       "      <td>8516</td>\n",
       "      <td>41.309046</td>\n",
       "      <td>-72.884204</td>\n",
       "      <td>6774</td>\n",
       "      <td>Department of Public Works</td>\n",
       "      <td>Verified Official</td>\n",
       "      <td>http://bit.ly/19w8mbW</td>\n",
       "      <td>Open</td>\n",
       "      <td>Unshoveled Sidewalks</td>\n",
       "      <td>2015-03-17T12:04:30-04:00</td>\n",
       "      <td>8516</td>\n",
       "      <td>Fair Haven Heights</td>\n",
       "    </tr>\n",
       "    <tr>\n",
       "      <th>2</th>\n",
       "      <td>None</td>\n",
       "      <td>591 Whitney Avenue New Haven, Connecticut</td>\n",
       "      <td>SNOW RELATED</td>\n",
       "      <td>None</td>\n",
       "      <td>2015-03-16T17:17:58-04:00</td>\n",
       "      <td>CT Transit bus driver of J2 bus leaving downto...</td>\n",
       "      <td>1534432</td>\n",
       "      <td>8516</td>\n",
       "      <td>41.326617</td>\n",
       "      <td>-72.915233</td>\n",
       "      <td>0</td>\n",
       "      <td>An anonymous SeeClickFix user</td>\n",
       "      <td>Registered User</td>\n",
       "      <td>http://bit.ly/1GeXnOd</td>\n",
       "      <td>Open</td>\n",
       "      <td>SNOW RELATED</td>\n",
       "      <td>2015-03-16T17:17:58-04:00</td>\n",
       "      <td>8516</td>\n",
       "      <td>East Rock</td>\n",
       "    </tr>\n",
       "  </tbody>\n",
       "</table>\n",
       "</div>"
      ],
      "text/plain": [
       "             acknowledged_at  \\\n",
       "0  2015-03-30T16:03:33-04:00   \n",
       "1                       None   \n",
       "2                       None   \n",
       "\n",
       "                                             address      category closed_at  \\\n",
       "0             25 Elmer Street New Haven, Connecticut  SNOW RELATED      None   \n",
       "1  Lenox Street And Clifton Street  New Haven, Co...  SNOW RELATED      None   \n",
       "2          591 Whitney Avenue New Haven, Connecticut  SNOW RELATED      None   \n",
       "\n",
       "                  created_at  \\\n",
       "0  2015-03-29T17:18:53-04:00   \n",
       "1  2015-03-17T12:04:30-04:00   \n",
       "2  2015-03-16T17:17:58-04:00   \n",
       "\n",
       "                                         description       id issue_id  \\\n",
       "0  Snow storm weekend of 3/21/15  I witnessed sno...  1559551     8516   \n",
       "1  Resident reports that the sidewalks at the cor...  1536264     8516   \n",
       "2  CT Transit bus driver of J2 bus leaving downto...  1534432     8516   \n",
       "\n",
       "         lat        lng  reporter_id                  reporter_name  \\\n",
       "0  41.310373 -72.924160            0              CAROL  SANTACROCE   \n",
       "1  41.309046 -72.884204         6774     Department of Public Works   \n",
       "2  41.326617 -72.915233            0  An anonymous SeeClickFix user   \n",
       "\n",
       "       reporter_role          shortened_url        status  \\\n",
       "0    Registered User  http://bit.ly/1HVR8D7  Acknowledged   \n",
       "1  Verified Official  http://bit.ly/19w8mbW          Open   \n",
       "2    Registered User  http://bit.ly/1GeXnOd          Open   \n",
       "\n",
       "                summary                 updated_at  int_issue_id  \\\n",
       "0          SNOW RELATED  2015-03-30T16:03:33-04:00          8516   \n",
       "1  Unshoveled Sidewalks  2015-03-17T12:04:30-04:00          8516   \n",
       "2          SNOW RELATED  2015-03-16T17:17:58-04:00          8516   \n",
       "\n",
       "         neighborhood  \n",
       "0            Downtown  \n",
       "1  Fair Haven Heights  \n",
       "2           East Rock  "
      ]
     },
     "execution_count": 99,
     "metadata": {},
     "output_type": "execute_result"
    }
   ],
   "source": [
    "scf_df.head(3)"
   ]
  },
  {
   "cell_type": "code",
   "execution_count": 100,
   "metadata": {
    "collapsed": true
   },
   "outputs": [],
   "source": [
    "import sqlalchemy"
   ]
  },
  {
   "cell_type": "code",
   "execution_count": 104,
   "metadata": {
    "collapsed": false,
    "scrolled": true
   },
   "outputs": [],
   "source": [
    "#list datatypes:\n",
    "my_data_types = {'acknowledged_at': sqlalchemy.types.DateTime(timezone=True),\n",
    "                 'address': sqlalchemy.types.Text,\n",
    "                 'category': sqlalchemy.types.Text,\n",
    "                 'closed_at': sqlalchemy.types.DateTime(timezone=True),\n",
    "                 'created_at': sqlalchemy.types.DateTime(timezone=True),\n",
    "                 'description': sqlalchemy.types.Text,\n",
    "                 'id': sqlalchemy.types.INTEGER,\n",
    "                 'issue_id': sqlalchemy.types.INTEGER,\n",
    "                 'lat': sqlalchemy.types.FLOAT,\n",
    "                 'lng': sqlalchemy.types.FLOAT,\n",
    "                 'reporter_id': sqlalchemy.types.INTEGER,\n",
    "                 'reporter_name': sqlalchemy.types.Text,\n",
    "                 'reporter_role': sqlalchemy.types.Text,\n",
    "                 'shortened_url': sqlalchemy.types.Text,\n",
    "                 'status': sqlalchemy.types.Text,\n",
    "                 'summary': sqlalchemy.types.Text,\n",
    "                 'updated_at': sqlalchemy.types.DateTime(timezone=True),\n",
    "                 'int_issue_id': sqlalchemy.types.INTEGER,\n",
    "                 'neighborhood': sqlalchemy.types.Text}\n",
    "                 \n",
    "                 \n",
    "\n",
    "scf_df.to_sql('nhrc', engine, if_exists='replace', index=False, dtype=my_data_types)"
   ]
  },
  {
   "cell_type": "code",
   "execution_count": 110,
   "metadata": {
    "collapsed": false
   },
   "outputs": [
    {
     "data": {
      "text/plain": [
       "False"
      ]
     },
     "execution_count": 110,
     "metadata": {},
     "output_type": "execute_result"
    }
   ],
   "source": [
    "len(scf_df) == 0"
   ]
  },
  {
   "cell_type": "code",
   "execution_count": 109,
   "metadata": {
    "collapsed": false
   },
   "outputs": [
    {
     "data": {
      "text/plain": [
       "True"
      ]
     },
     "execution_count": 109,
     "metadata": {},
     "output_type": "execute_result"
    }
   ],
   "source": [
    "len('') == 0"
   ]
  },
  {
   "cell_type": "code",
   "execution_count": null,
   "metadata": {
    "collapsed": true
   },
   "outputs": [],
   "source": []
  }
 ],
 "metadata": {
  "kernelspec": {
   "display_name": "Python 2",
   "language": "python",
   "name": "python2"
  },
  "language_info": {
   "codemirror_mode": {
    "name": "ipython",
    "version": 2
   },
   "file_extension": ".py",
   "mimetype": "text/x-python",
   "name": "python",
   "nbconvert_exporter": "python",
   "pygments_lexer": "ipython2",
   "version": "2.7.9"
  }
 },
 "nbformat": 4,
 "nbformat_minor": 0
}
