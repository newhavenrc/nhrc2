{
 "cells": [
  {
   "cell_type": "markdown",
   "metadata": {},
   "source": [
    "# full_backend"
   ]
  },
  {
   "cell_type": "markdown",
   "metadata": {},
   "source": [
    "**debugging the full backend code**"
   ]
  },
  {
   "cell_type": "code",
   "execution_count": 11,
   "metadata": {
    "collapsed": false
   },
   "outputs": [
    {
     "name": "stdout",
     "output_type": "stream",
     "text": [
      "The autoreload extension is already loaded. To reload it, use:\n",
      "  %reload_ext autoreload\n"
     ]
    }
   ],
   "source": [
    "%matplotlib inline\n",
    "%load_ext autoreload\n",
    "%autoreload 2"
   ]
  },
  {
   "cell_type": "markdown",
   "metadata": {},
   "source": [
    "import the new haven report card module"
   ]
  },
  {
   "cell_type": "code",
   "execution_count": 15,
   "metadata": {
    "collapsed": true
   },
   "outputs": [],
   "source": [
    "import nhrc2\n",
    "from nhrc2.backend import get_neighborhoods as get_ngbrhd\n",
    "from nhrc2.backend import read_issues as ri\n"
   ]
  },
  {
   "cell_type": "markdown",
   "metadata": {},
   "source": [
    "now determine the root directory for the repo:"
   ]
  },
  {
   "cell_type": "code",
   "execution_count": 16,
   "metadata": {
    "collapsed": true
   },
   "outputs": [],
   "source": [
    "nhrc2dir = '/'.join(str(nhrc2.__file__).split('/')[:-1])+'/'\n"
   ]
  },
  {
   "cell_type": "markdown",
   "metadata": {},
   "source": [
    "read in the issue data from file (to speed things up)"
   ]
  },
  {
   "cell_type": "code",
   "execution_count": 17,
   "metadata": {
    "collapsed": false
   },
   "outputs": [
    {
     "name": "stdout",
     "output_type": "stream",
     "text": [
      "Category: SNOW RELATED, id: 8516, readfile: True\n",
      "Category: Bins for Trash & Recycling, id: 5743, readfile: True\n",
      "Category: Graffiti, id: 122, readfile: True\n",
      "Category: Hangers, id: 6215, readfile: True\n",
      "Category: Health Complaints, id: 5185, readfile: True\n",
      "Category: Illegal Dumping, id: 1250, readfile: True\n",
      "Category: Other, id: 374, readfile: True\n",
      "Category: Other - city responsibility, id: 3018, readfile: True\n",
      "Category: Parking Meter, id: 372, readfile: True\n",
      "Category: Parking Violation/Abandoned Auto, id: 121, readfile: True\n",
      "Category: Parks Request, id: 126, readfile: True\n",
      "Category: Policing Issue, id: 2626, readfile: True\n",
      "Category: Potholes, id: 116, readfile: True\n",
      "Category: Public Space, Streets and Drains, id: 1249, readfile: True\n",
      "Category: Private Property Issue, id: 1251, readfile: True\n",
      "Category: Sidewalks and Curb damage, id: 117, readfile: True\n",
      "Category: Signs / Bus Shelters / Pavement Markings, id: 373, readfile: True\n",
      "Category: Street Lamp, id: 124, readfile: True\n",
      "Category: Traffic/Road Safety, id: 2625, readfile: True\n",
      "Category: Traffic Signal / Pedestrian Signal, id: 51, readfile: True\n",
      "Category: Trash & Recycling, id: 1966, readfile: True\n",
      "Category: Tree Trimming, id: 1853, readfile: True\n",
      "Category: Request for volunteers, id: 5998, readfile: True\n",
      "Category: General Bus Request/Incident, id: 4947, readfile: True\n",
      "Category: Post to Neighbors, id: other, readfile: True\n"
     ]
    }
   ],
   "source": [
    "readfile=True\n",
    "writejson=False\n",
    "scf_df = ri.get_issues(readfile=readfile, writejson=writejson)"
   ]
  },
  {
   "cell_type": "markdown",
   "metadata": {},
   "source": [
    "now determine the neighborhoods for each issue using the get_neighborhoods routine:"
   ]
  },
  {
   "cell_type": "code",
   "execution_count": 18,
   "metadata": {
    "collapsed": false
   },
   "outputs": [
    {
     "name": "stdout",
     "output_type": "stream",
     "text": [
      "Category: SNOW RELATED, id: 8516, readfile: True\n",
      "Category: Bins for Trash & Recycling, id: 5743, readfile: True\n",
      "Category: Graffiti, id: 122, readfile: True\n",
      "Category: Hangers, id: 6215, readfile: True\n",
      "Category: Health Complaints, id: 5185, readfile: True\n",
      "Category: Illegal Dumping, id: 1250, readfile: True\n",
      "Category: Other, id: 374, readfile: True\n",
      "Category: Other - city responsibility, id: 3018, readfile: True\n",
      "Category: Parking Meter, id: 372, readfile: True\n",
      "Category: Parking Violation/Abandoned Auto, id: 121, readfile: True\n",
      "Category: Parks Request, id: 126, readfile: True\n",
      "Category: Policing Issue, id: 2626, readfile: True\n",
      "Category: Potholes, id: 116, readfile: True\n",
      "Category: Public Space, Streets and Drains, id: 1249, readfile: True\n",
      "Category: Private Property Issue, id: 1251, readfile: True\n",
      "Category: Sidewalks and Curb damage, id: 117, readfile: True\n",
      "Category: Signs / Bus Shelters / Pavement Markings, id: 373, readfile: True\n",
      "Category: Street Lamp, id: 124, readfile: True\n",
      "Category: Traffic/Road Safety, id: 2625, readfile: True\n",
      "Category: Traffic Signal / Pedestrian Signal, id: 51, readfile: True\n",
      "Category: Trash & Recycling, id: 1966, readfile: True\n",
      "Category: Tree Trimming, id: 1853, readfile: True\n",
      "Category: Request for volunteers, id: 5998, readfile: True\n",
      "Category: General Bus Request/Incident, id: 4947, readfile: True\n",
      "Category: Post to Neighbors, id: other, readfile: True\n"
     ]
    }
   ],
   "source": [
    "hoods = get_ngbrhd.get_neighborhoods()"
   ]
  },
  {
   "cell_type": "markdown",
   "metadata": {},
   "source": [
    "now add the neighborhoods to the DataFrame:"
   ]
  },
  {
   "cell_type": "code",
   "execution_count": 20,
   "metadata": {
    "collapsed": true
   },
   "outputs": [],
   "source": [
    "scf_df['neighborhood'] = hoods"
   ]
  },
  {
   "cell_type": "markdown",
   "metadata": {
    "collapsed": true
   },
   "source": [
    "### Statistics to calculate:"
   ]
  },
  {
   "cell_type": "markdown",
   "metadata": {},
   "source": [
    "There are a few things that it would be nice to calculate. Namely, \n",
    "\n",
    "- The time to acknowledgement\n",
    "- The time to completion\n",
    "- "
   ]
  }
 ],
 "metadata": {
  "kernelspec": {
   "display_name": "Python 2",
   "language": "python",
   "name": "python2"
  },
  "language_info": {
   "codemirror_mode": {
    "name": "ipython",
    "version": 2
   },
   "file_extension": ".py",
   "mimetype": "text/x-python",
   "name": "python",
   "nbconvert_exporter": "python",
   "pygments_lexer": "ipython2",
   "version": "2.7.9"
  }
 },
 "nbformat": 4,
 "nbformat_minor": 0
}
