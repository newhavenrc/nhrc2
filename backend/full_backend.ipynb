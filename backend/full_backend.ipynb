{
 "cells": [
  {
   "cell_type": "markdown",
   "metadata": {},
   "source": [
    "# full_backend"
   ]
  },
  {
   "cell_type": "markdown",
   "metadata": {},
   "source": [
    "**debugging the full backend code**"
   ]
  },
  {
   "cell_type": "code",
   "execution_count": 3,
   "metadata": {
    "collapsed": false
   },
   "outputs": [
    {
     "name": "stdout",
     "output_type": "stream",
     "text": [
      "The autoreload extension is already loaded. To reload it, use:\n",
      "  %reload_ext autoreload\n"
     ]
    }
   ],
   "source": [
    "%matplotlib inline\n",
    "%load_ext autoreload\n",
    "%autoreload 2"
   ]
  },
  {
   "cell_type": "markdown",
   "metadata": {},
   "source": [
    "import the new haven report card module"
   ]
  },
  {
   "cell_type": "code",
   "execution_count": 34,
   "metadata": {
    "collapsed": true
   },
   "outputs": [],
   "source": [
    "import nhrc2\n",
    "from nhrc2.backend import get_neighborhoods as get_ngbrhd\n",
    "from nhrc2.backend import read_issues as ri\n",
    "import pandas as pd\n",
    "import numpy as np"
   ]
  },
  {
   "cell_type": "markdown",
   "metadata": {},
   "source": [
    "now determine the root directory for the repo:"
   ]
  },
  {
   "cell_type": "code",
   "execution_count": 5,
   "metadata": {
    "collapsed": true
   },
   "outputs": [],
   "source": [
    "nhrc2dir = '/'.join(str(nhrc2.__file__).split('/')[:-1])+'/'\n"
   ]
  },
  {
   "cell_type": "markdown",
   "metadata": {},
   "source": [
    "read in the issue data from file (to speed things up)"
   ]
  },
  {
   "cell_type": "code",
   "execution_count": 7,
   "metadata": {
    "collapsed": false
   },
   "outputs": [
    {
     "name": "stdout",
     "output_type": "stream",
     "text": [
      "Category: Bins for Trash & Recycling, id: 5743, readfile: False\n",
      "now reading from url...\n",
      "Category: Graffiti, id: 122, readfile: False\n",
      "now reading from url...\n",
      "Category: Hangers, id: 6215, readfile: False\n",
      "now reading from url...\n",
      "Category: Health Complaints, id: 5185, readfile: False\n",
      "now reading from url...\n",
      "Category: Illegal Dumping, id: 1250, readfile: False\n",
      "now reading from url...\n",
      "Category: Other, id: 374, readfile: False\n",
      "now reading from url...\n",
      "Category: Other - city responsibility, id: 3018, readfile: False\n",
      "now reading from url...\n",
      "Category: Parking Meter, id: 372, readfile: False\n",
      "now reading from url...\n",
      "Category: Parking Violation/Abandoned Auto, id: 121, readfile: False\n",
      "now reading from url...\n",
      "Category: Parks Request, id: 126, readfile: False\n",
      "now reading from url...\n",
      "Category: Policing Issue, id: 2626, readfile: False\n",
      "now reading from url...\n",
      "Category: Potholes, id: 116, readfile: False\n",
      "now reading from url...\n",
      "Category: Public Space, Streets and Drains, id: 1249, readfile: False\n",
      "now reading from url...\n",
      "Category: Private Property Issue, id: 1251, readfile: False\n",
      "now reading from url...\n",
      "Category: Sidewalks and Curb damage, id: 117, readfile: False\n",
      "now reading from url...\n",
      "Category: Signs / Bus Shelters / Pavement Markings, id: 373, readfile: False\n",
      "now reading from url...\n",
      "Category: Street Lamp, id: 124, readfile: False\n",
      "now reading from url...\n",
      "Category: Street Sweeping, id: 5251, readfile: False\n",
      "now reading from url...\n",
      "Category: Traffic/Road Safety, id: 2625, readfile: False\n",
      "now reading from url...\n",
      "Category: Traffic Signal / Pedestrian Signal, id: 51, readfile: False\n",
      "now reading from url...\n",
      "Category: Trash & Recycling, id: 1966, readfile: False\n",
      "now reading from url...\n",
      "Category: Tree Trimming, id: 1853, readfile: False\n",
      "now reading from url...\n",
      "Category: Request for volunteers, id: 5998, readfile: False\n",
      "now reading from url...\n",
      "Category: General Bus Request/Incident, id: 4947, readfile: False\n",
      "now reading from url...\n",
      "Category: Post to Neighbors, id: other, readfile: False\n",
      "now reading from url...\n"
     ]
    }
   ],
   "source": [
    "readfile=False\n",
    "writejson=False\n",
    "scf_df = ri.get_issues(readfile=readfile, writejson=writejson)"
   ]
  },
  {
   "cell_type": "markdown",
   "metadata": {},
   "source": [
    "now determine the neighborhoods for each issue using the get_neighborhoods routine:"
   ]
  },
  {
   "cell_type": "code",
   "execution_count": 8,
   "metadata": {
    "collapsed": false
   },
   "outputs": [
    {
     "name": "stdout",
     "output_type": "stream",
     "text": [
      "Category: Bins for Trash & Recycling, id: 5743, readfile: False\n",
      "now reading from url...\n",
      "Category: Graffiti, id: 122, readfile: False\n",
      "now reading from url...\n",
      "Category: Hangers, id: 6215, readfile: False\n",
      "now reading from url...\n",
      "Category: Health Complaints, id: 5185, readfile: False\n",
      "now reading from url...\n",
      "Category: Illegal Dumping, id: 1250, readfile: False\n",
      "now reading from url...\n",
      "Category: Other, id: 374, readfile: False\n",
      "now reading from url...\n",
      "Category: Other - city responsibility, id: 3018, readfile: False\n",
      "now reading from url...\n",
      "Category: Parking Meter, id: 372, readfile: False\n",
      "now reading from url...\n",
      "Category: Parking Violation/Abandoned Auto, id: 121, readfile: False\n",
      "now reading from url...\n",
      "Category: Parks Request, id: 126, readfile: False\n",
      "now reading from url...\n",
      "Category: Policing Issue, id: 2626, readfile: False\n",
      "now reading from url...\n",
      "Category: Potholes, id: 116, readfile: False\n",
      "now reading from url...\n",
      "Category: Public Space, Streets and Drains, id: 1249, readfile: False\n",
      "now reading from url...\n",
      "Category: Private Property Issue, id: 1251, readfile: False\n",
      "now reading from url...\n",
      "Category: Sidewalks and Curb damage, id: 117, readfile: False\n",
      "now reading from url...\n",
      "Category: Signs / Bus Shelters / Pavement Markings, id: 373, readfile: False\n",
      "now reading from url...\n",
      "Category: Street Lamp, id: 124, readfile: False\n",
      "now reading from url...\n",
      "Category: Street Sweeping, id: 5251, readfile: False\n",
      "now reading from url...\n",
      "Category: Traffic/Road Safety, id: 2625, readfile: False\n",
      "now reading from url...\n",
      "Category: Traffic Signal / Pedestrian Signal, id: 51, readfile: False\n",
      "now reading from url...\n",
      "Category: Trash & Recycling, id: 1966, readfile: False\n",
      "now reading from url...\n",
      "Category: Tree Trimming, id: 1853, readfile: False\n",
      "now reading from url...\n",
      "Category: Request for volunteers, id: 5998, readfile: False\n",
      "now reading from url...\n",
      "Category: General Bus Request/Incident, id: 4947, readfile: False\n",
      "now reading from url...\n",
      "Category: Post to Neighbors, id: other, readfile: False\n",
      "now reading from url...\n"
     ]
    }
   ],
   "source": [
    "hoods = get_ngbrhd.get_neighborhoods()"
   ]
  },
  {
   "cell_type": "markdown",
   "metadata": {},
   "source": [
    "now add the neighborhoods to the DataFrame:"
   ]
  },
  {
   "cell_type": "code",
   "execution_count": 9,
   "metadata": {
    "collapsed": true
   },
   "outputs": [],
   "source": [
    "scf_df['neighborhood'] = hoods"
   ]
  },
  {
   "cell_type": "markdown",
   "metadata": {
    "collapsed": true
   },
   "source": [
    "### Statistics to calculate:"
   ]
  },
  {
   "cell_type": "markdown",
   "metadata": {},
   "source": [
    "There are a few things that it would be nice to calculate. Namely, \n",
    "\n",
    "- The time to acknowledgement\n",
    "- The time to completion\n",
    "- Acknowledgement Improvement\n",
    "- Completion Improvement"
   ]
  },
  {
   "cell_type": "markdown",
   "metadata": {},
   "source": [
    "### Computing the Time to Acknowledgement"
   ]
  },
  {
   "cell_type": "code",
   "execution_count": 10,
   "metadata": {
    "collapsed": false
   },
   "outputs": [
    {
     "data": {
      "text/plain": [
       "Index([u'acknowledged_at', u'address', u'category', u'closed_at', u'created_at', u'description', u'id', u'issue_id', u'lat', u'lng', u'reporter_id', u'reporter_name', u'reporter_role', u'shortened_url', u'status', u'summary', u'updated_at', u'int_issue_id', u'neighborhood'], dtype='object')"
      ]
     },
     "execution_count": 10,
     "metadata": {},
     "output_type": "execute_result"
    }
   ],
   "source": [
    "scf_df.columns"
   ]
  },
  {
   "cell_type": "code",
   "execution_count": 18,
   "metadata": {
    "collapsed": false
   },
   "outputs": [
    {
     "data": {
      "text/plain": [
       "0    2015-04-12T14:58:29-04:00\n",
       "1    2015-03-27T15:57:26-04:00\n",
       "Name: created_at, dtype: object"
      ]
     },
     "execution_count": 18,
     "metadata": {},
     "output_type": "execute_result"
    }
   ],
   "source": [
    "scf_df.loc[0:1, 'created_at']"
   ]
  },
  {
   "cell_type": "code",
   "execution_count": 15,
   "metadata": {
    "collapsed": false
   },
   "outputs": [
    {
     "data": {
      "text/plain": [
       "Timestamp('2015-04-12 18:58:29')"
      ]
     },
     "execution_count": 15,
     "metadata": {},
     "output_type": "execute_result"
    }
   ],
   "source": [
    "pd.to_datetime(scf_df.loc[0, 'created_at'])"
   ]
  },
  {
   "cell_type": "code",
   "execution_count": 29,
   "metadata": {
    "collapsed": false
   },
   "outputs": [],
   "source": [
    "scf_df['time_to_acknowledge'] = (pd.to_datetime(scf_df['acknowledged_at']) - pd.to_datetime(scf_df['created_at']))/pd.Timedelta('1d')"
   ]
  },
  {
   "cell_type": "code",
   "execution_count": 33,
   "metadata": {
    "collapsed": false
   },
   "outputs": [],
   "source": [
    "scf_df['time_to_close'] = (pd.to_datetime(scf_df['closed_at']) - pd.to_datetime(scf_df['created_at']))/pd.Timedelta('1d')"
   ]
  },
  {
   "cell_type": "code",
   "execution_count": 32,
   "metadata": {
    "collapsed": false
   },
   "outputs": [
    {
     "data": {
      "text/plain": [
       "0         NaN\n",
       "1    2.705278\n",
       "Name: time_to_acknowledge, dtype: float64"
      ]
     },
     "execution_count": 32,
     "metadata": {},
     "output_type": "execute_result"
    }
   ],
   "source": [
    "scf_df.loc[0:1, 'time_to_acknowledge']"
   ]
  },
  {
   "cell_type": "code",
   "execution_count": 35,
   "metadata": {
    "collapsed": false
   },
   "outputs": [
    {
     "data": {
      "text/plain": [
       "63.65517361111111"
      ]
     },
     "execution_count": 35,
     "metadata": {},
     "output_type": "execute_result"
    }
   ],
   "source": [
    "np.median(scf_df['time_to_acknowledge'].values)"
   ]
  },
  {
   "cell_type": "code",
   "execution_count": 36,
   "metadata": {
    "collapsed": false
   },
   "outputs": [
    {
     "data": {
      "text/plain": [
       "nan"
      ]
     },
     "execution_count": 36,
     "metadata": {},
     "output_type": "execute_result"
    }
   ],
   "source": [
    "np.median(scf_df['time_to_close'].values)"
   ]
  },
  {
   "cell_type": "code",
   "execution_count": null,
   "metadata": {
    "collapsed": true
   },
   "outputs": [],
   "source": []
  }
 ],
 "metadata": {
  "kernelspec": {
   "display_name": "Python 2",
   "language": "python",
   "name": "python2"
  },
  "language_info": {
   "codemirror_mode": {
    "name": "ipython",
    "version": 2
   },
   "file_extension": ".py",
   "mimetype": "text/x-python",
   "name": "python",
   "nbconvert_exporter": "python",
   "pygments_lexer": "ipython2",
   "version": "2.7.9"
  }
 },
 "nbformat": 4,
 "nbformat_minor": 0
}
