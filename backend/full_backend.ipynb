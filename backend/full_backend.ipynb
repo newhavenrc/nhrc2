{
 "cells": [
  {
   "cell_type": "markdown",
   "metadata": {},
   "source": [
    "# full_backend"
   ]
  },
  {
   "cell_type": "markdown",
   "metadata": {},
   "source": [
    "**debugging the full backend code**"
   ]
  },
  {
   "cell_type": "code",
   "execution_count": 3,
   "metadata": {
    "collapsed": false
   },
   "outputs": [
    {
     "name": "stdout",
     "output_type": "stream",
     "text": [
      "The autoreload extension is already loaded. To reload it, use:\n",
      "  %reload_ext autoreload\n"
     ]
    }
   ],
   "source": [
    "%matplotlib inline\n",
    "%load_ext autoreload\n",
    "%autoreload 2"
   ]
  },
  {
   "cell_type": "markdown",
   "metadata": {},
   "source": [
    "import the new haven report card module"
   ]
  },
  {
   "cell_type": "code",
   "execution_count": 34,
   "metadata": {
    "collapsed": true
   },
   "outputs": [],
   "source": [
    "import nhrc2\n",
    "from nhrc2.backend import get_neighborhoods as get_ngbrhd\n",
    "from nhrc2.backend import read_issues as ri\n",
    "import pandas as pd\n",
    "import numpy as np"
   ]
  },
  {
   "cell_type": "markdown",
   "metadata": {},
   "source": [
    "now determine the root directory for the repo:"
   ]
  },
  {
   "cell_type": "code",
   "execution_count": 5,
   "metadata": {
    "collapsed": true
   },
   "outputs": [],
   "source": [
    "nhrc2dir = '/'.join(str(nhrc2.__file__).split('/')[:-1])+'/'\n"
   ]
  },
  {
   "cell_type": "code",
   "execution_count": null,
   "metadata": {
    "collapsed": true
   },
   "outputs": [],
   "source": []
  },
  {
   "cell_type": "code",
   "execution_count": 37,
   "metadata": {
    "collapsed": true
   },
   "outputs": [],
   "source": [
    "scf_df_cat = ri.read_categories()"
   ]
  },
  {
   "cell_type": "code",
   "execution_count": 38,
   "metadata": {
    "collapsed": false
   },
   "outputs": [
    {
     "data": {
      "text/html": [
       "<div style=\"max-height:1000px;max-width:1500px;overflow:auto;\">\n",
       "<table border=\"1\" class=\"dataframe\">\n",
       "  <thead>\n",
       "    <tr style=\"text-align: right;\">\n",
       "      <th></th>\n",
       "      <th>organization</th>\n",
       "      <th>title</th>\n",
       "      <th>url</th>\n",
       "      <th>type</th>\n",
       "    </tr>\n",
       "  </thead>\n",
       "  <tbody>\n",
       "    <tr>\n",
       "      <th>0</th>\n",
       "      <td>City of New Haven</td>\n",
       "      <td>Bins for Trash &amp; Recycling</td>\n",
       "      <td>https://seeclickfix.com/api/v2/request_types/5743</td>\n",
       "      <td>5743</td>\n",
       "    </tr>\n",
       "    <tr>\n",
       "      <th>1</th>\n",
       "      <td>City of New Haven</td>\n",
       "      <td>Graffiti</td>\n",
       "      <td>https://seeclickfix.com/api/v2/request_types/122</td>\n",
       "      <td>122</td>\n",
       "    </tr>\n",
       "    <tr>\n",
       "      <th>2</th>\n",
       "      <td>City of New Haven</td>\n",
       "      <td>Hangers</td>\n",
       "      <td>https://seeclickfix.com/api/v2/request_types/6215</td>\n",
       "      <td>6215</td>\n",
       "    </tr>\n",
       "    <tr>\n",
       "      <th>3</th>\n",
       "      <td>City of New Haven</td>\n",
       "      <td>Health Complaints</td>\n",
       "      <td>https://seeclickfix.com/api/v2/request_types/5185</td>\n",
       "      <td>5185</td>\n",
       "    </tr>\n",
       "    <tr>\n",
       "      <th>4</th>\n",
       "      <td>City of New Haven</td>\n",
       "      <td>Illegal Dumping</td>\n",
       "      <td>https://seeclickfix.com/api/v2/request_types/1250</td>\n",
       "      <td>1250</td>\n",
       "    </tr>\n",
       "    <tr>\n",
       "      <th>5</th>\n",
       "      <td>City of New Haven</td>\n",
       "      <td>Other</td>\n",
       "      <td>https://seeclickfix.com/api/v2/request_types/374</td>\n",
       "      <td>374</td>\n",
       "    </tr>\n",
       "    <tr>\n",
       "      <th>6</th>\n",
       "      <td>City of New Haven</td>\n",
       "      <td>Other - city responsibility</td>\n",
       "      <td>https://seeclickfix.com/api/v2/request_types/3018</td>\n",
       "      <td>3018</td>\n",
       "    </tr>\n",
       "    <tr>\n",
       "      <th>7</th>\n",
       "      <td>City of New Haven</td>\n",
       "      <td>Parking Meter</td>\n",
       "      <td>https://seeclickfix.com/api/v2/request_types/372</td>\n",
       "      <td>372</td>\n",
       "    </tr>\n",
       "    <tr>\n",
       "      <th>8</th>\n",
       "      <td>City of New Haven</td>\n",
       "      <td>Parking Violation/Abandoned Auto</td>\n",
       "      <td>https://seeclickfix.com/api/v2/request_types/121</td>\n",
       "      <td>121</td>\n",
       "    </tr>\n",
       "    <tr>\n",
       "      <th>9</th>\n",
       "      <td>City of New Haven</td>\n",
       "      <td>Parks Request</td>\n",
       "      <td>https://seeclickfix.com/api/v2/request_types/126</td>\n",
       "      <td>126</td>\n",
       "    </tr>\n",
       "    <tr>\n",
       "      <th>10</th>\n",
       "      <td>City of New Haven</td>\n",
       "      <td>Policing Issue</td>\n",
       "      <td>https://seeclickfix.com/api/v2/request_types/2626</td>\n",
       "      <td>2626</td>\n",
       "    </tr>\n",
       "    <tr>\n",
       "      <th>11</th>\n",
       "      <td>City of New Haven</td>\n",
       "      <td>Potholes</td>\n",
       "      <td>https://seeclickfix.com/api/v2/request_types/116</td>\n",
       "      <td>116</td>\n",
       "    </tr>\n",
       "    <tr>\n",
       "      <th>12</th>\n",
       "      <td>City of New Haven</td>\n",
       "      <td>Public Space, Streets and Drains</td>\n",
       "      <td>https://seeclickfix.com/api/v2/request_types/1249</td>\n",
       "      <td>1249</td>\n",
       "    </tr>\n",
       "    <tr>\n",
       "      <th>13</th>\n",
       "      <td>City of New Haven</td>\n",
       "      <td>Private Property Issue</td>\n",
       "      <td>https://seeclickfix.com/api/v2/request_types/1251</td>\n",
       "      <td>1251</td>\n",
       "    </tr>\n",
       "    <tr>\n",
       "      <th>14</th>\n",
       "      <td>City of New Haven</td>\n",
       "      <td>Sidewalks and Curb damage</td>\n",
       "      <td>https://seeclickfix.com/api/v2/request_types/117</td>\n",
       "      <td>117</td>\n",
       "    </tr>\n",
       "    <tr>\n",
       "      <th>15</th>\n",
       "      <td>City of New Haven</td>\n",
       "      <td>Signs / Bus Shelters / Pavement Markings</td>\n",
       "      <td>https://seeclickfix.com/api/v2/request_types/373</td>\n",
       "      <td>373</td>\n",
       "    </tr>\n",
       "    <tr>\n",
       "      <th>16</th>\n",
       "      <td>City of New Haven</td>\n",
       "      <td>Street Lamp</td>\n",
       "      <td>https://seeclickfix.com/api/v2/request_types/124</td>\n",
       "      <td>124</td>\n",
       "    </tr>\n",
       "    <tr>\n",
       "      <th>17</th>\n",
       "      <td>City of New Haven</td>\n",
       "      <td>Street Sweeping</td>\n",
       "      <td>https://seeclickfix.com/api/v2/request_types/5251</td>\n",
       "      <td>5251</td>\n",
       "    </tr>\n",
       "    <tr>\n",
       "      <th>18</th>\n",
       "      <td>City of New Haven</td>\n",
       "      <td>Traffic/Road Safety</td>\n",
       "      <td>https://seeclickfix.com/api/v2/request_types/2625</td>\n",
       "      <td>2625</td>\n",
       "    </tr>\n",
       "    <tr>\n",
       "      <th>19</th>\n",
       "      <td>City of New Haven</td>\n",
       "      <td>Traffic Signal / Pedestrian Signal</td>\n",
       "      <td>https://seeclickfix.com/api/v2/request_types/51</td>\n",
       "      <td>51</td>\n",
       "    </tr>\n",
       "    <tr>\n",
       "      <th>20</th>\n",
       "      <td>City of New Haven</td>\n",
       "      <td>Trash &amp; Recycling</td>\n",
       "      <td>https://seeclickfix.com/api/v2/request_types/1966</td>\n",
       "      <td>1966</td>\n",
       "    </tr>\n",
       "    <tr>\n",
       "      <th>21</th>\n",
       "      <td>City of New Haven</td>\n",
       "      <td>Tree Trimming</td>\n",
       "      <td>https://seeclickfix.com/api/v2/request_types/1853</td>\n",
       "      <td>1853</td>\n",
       "    </tr>\n",
       "    <tr>\n",
       "      <th>22</th>\n",
       "      <td>Neighborhood Volunteers</td>\n",
       "      <td>Request for volunteers</td>\n",
       "      <td>https://seeclickfix.com/api/v2/request_types/5998</td>\n",
       "      <td>5998</td>\n",
       "    </tr>\n",
       "    <tr>\n",
       "      <th>23</th>\n",
       "      <td>CT Transit</td>\n",
       "      <td>General Bus Request/Incident</td>\n",
       "      <td>https://seeclickfix.com/api/v2/request_types/4947</td>\n",
       "      <td>4947</td>\n",
       "    </tr>\n",
       "    <tr>\n",
       "      <th>24</th>\n",
       "      <td>Community</td>\n",
       "      <td>Post to Neighbors</td>\n",
       "      <td>https://seeclickfix.com/api/v2/request_types/o...</td>\n",
       "      <td>other</td>\n",
       "    </tr>\n",
       "  </tbody>\n",
       "</table>\n",
       "</div>"
      ],
      "text/plain": [
       "               organization                                     title  \\\n",
       "0         City of New Haven                Bins for Trash & Recycling   \n",
       "1         City of New Haven                                  Graffiti   \n",
       "2         City of New Haven                                   Hangers   \n",
       "3         City of New Haven                         Health Complaints   \n",
       "4         City of New Haven                           Illegal Dumping   \n",
       "5         City of New Haven                                     Other   \n",
       "6         City of New Haven               Other - city responsibility   \n",
       "7         City of New Haven                             Parking Meter   \n",
       "8         City of New Haven          Parking Violation/Abandoned Auto   \n",
       "9         City of New Haven                             Parks Request   \n",
       "10        City of New Haven                            Policing Issue   \n",
       "11        City of New Haven                                  Potholes   \n",
       "12        City of New Haven          Public Space, Streets and Drains   \n",
       "13        City of New Haven                    Private Property Issue   \n",
       "14        City of New Haven                 Sidewalks and Curb damage   \n",
       "15        City of New Haven  Signs / Bus Shelters / Pavement Markings   \n",
       "16        City of New Haven                               Street Lamp   \n",
       "17        City of New Haven                           Street Sweeping   \n",
       "18        City of New Haven                       Traffic/Road Safety   \n",
       "19        City of New Haven        Traffic Signal / Pedestrian Signal   \n",
       "20        City of New Haven                         Trash & Recycling   \n",
       "21        City of New Haven                             Tree Trimming   \n",
       "22  Neighborhood Volunteers                    Request for volunteers   \n",
       "23               CT Transit              General Bus Request/Incident   \n",
       "24                Community                         Post to Neighbors   \n",
       "\n",
       "                                                  url   type  \n",
       "0   https://seeclickfix.com/api/v2/request_types/5743   5743  \n",
       "1    https://seeclickfix.com/api/v2/request_types/122    122  \n",
       "2   https://seeclickfix.com/api/v2/request_types/6215   6215  \n",
       "3   https://seeclickfix.com/api/v2/request_types/5185   5185  \n",
       "4   https://seeclickfix.com/api/v2/request_types/1250   1250  \n",
       "5    https://seeclickfix.com/api/v2/request_types/374    374  \n",
       "6   https://seeclickfix.com/api/v2/request_types/3018   3018  \n",
       "7    https://seeclickfix.com/api/v2/request_types/372    372  \n",
       "8    https://seeclickfix.com/api/v2/request_types/121    121  \n",
       "9    https://seeclickfix.com/api/v2/request_types/126    126  \n",
       "10  https://seeclickfix.com/api/v2/request_types/2626   2626  \n",
       "11   https://seeclickfix.com/api/v2/request_types/116    116  \n",
       "12  https://seeclickfix.com/api/v2/request_types/1249   1249  \n",
       "13  https://seeclickfix.com/api/v2/request_types/1251   1251  \n",
       "14   https://seeclickfix.com/api/v2/request_types/117    117  \n",
       "15   https://seeclickfix.com/api/v2/request_types/373    373  \n",
       "16   https://seeclickfix.com/api/v2/request_types/124    124  \n",
       "17  https://seeclickfix.com/api/v2/request_types/5251   5251  \n",
       "18  https://seeclickfix.com/api/v2/request_types/2625   2625  \n",
       "19    https://seeclickfix.com/api/v2/request_types/51     51  \n",
       "20  https://seeclickfix.com/api/v2/request_types/1966   1966  \n",
       "21  https://seeclickfix.com/api/v2/request_types/1853   1853  \n",
       "22  https://seeclickfix.com/api/v2/request_types/5998   5998  \n",
       "23  https://seeclickfix.com/api/v2/request_types/4947   4947  \n",
       "24  https://seeclickfix.com/api/v2/request_types/o...  other  "
      ]
     },
     "execution_count": 38,
     "metadata": {},
     "output_type": "execute_result"
    }
   ],
   "source": [
    "scf_df_cat"
   ]
  },
  {
   "cell_type": "code",
   "execution_count": 39,
   "metadata": {
    "collapsed": false
   },
   "outputs": [
    {
     "data": {
      "text/html": [
       "<div style=\"max-height:1000px;max-width:1500px;overflow:auto;\">\n",
       "<table border=\"1\" class=\"dataframe\">\n",
       "  <thead>\n",
       "    <tr style=\"text-align: right;\">\n",
       "      <th></th>\n",
       "      <th>organization</th>\n",
       "      <th>title</th>\n",
       "      <th>url</th>\n",
       "      <th>type</th>\n",
       "    </tr>\n",
       "  </thead>\n",
       "  <tbody>\n",
       "    <tr>\n",
       "      <th>0</th>\n",
       "      <td>City of New Haven</td>\n",
       "      <td>Bins for Trash &amp; Recycling</td>\n",
       "      <td>https://seeclickfix.com/api/v2/request_types/5743</td>\n",
       "      <td>5743</td>\n",
       "    </tr>\n",
       "    <tr>\n",
       "      <th>1</th>\n",
       "      <td>City of New Haven</td>\n",
       "      <td>Graffiti</td>\n",
       "      <td>https://seeclickfix.com/api/v2/request_types/122</td>\n",
       "      <td>122</td>\n",
       "    </tr>\n",
       "    <tr>\n",
       "      <th>2</th>\n",
       "      <td>City of New Haven</td>\n",
       "      <td>Hangers</td>\n",
       "      <td>https://seeclickfix.com/api/v2/request_types/6215</td>\n",
       "      <td>6215</td>\n",
       "    </tr>\n",
       "    <tr>\n",
       "      <th>3</th>\n",
       "      <td>City of New Haven</td>\n",
       "      <td>Health Complaints</td>\n",
       "      <td>https://seeclickfix.com/api/v2/request_types/5185</td>\n",
       "      <td>5185</td>\n",
       "    </tr>\n",
       "    <tr>\n",
       "      <th>4</th>\n",
       "      <td>City of New Haven</td>\n",
       "      <td>Illegal Dumping</td>\n",
       "      <td>https://seeclickfix.com/api/v2/request_types/1250</td>\n",
       "      <td>1250</td>\n",
       "    </tr>\n",
       "    <tr>\n",
       "      <th>5</th>\n",
       "      <td>City of New Haven</td>\n",
       "      <td>Other</td>\n",
       "      <td>https://seeclickfix.com/api/v2/request_types/374</td>\n",
       "      <td>374</td>\n",
       "    </tr>\n",
       "    <tr>\n",
       "      <th>6</th>\n",
       "      <td>City of New Haven</td>\n",
       "      <td>Other - city responsibility</td>\n",
       "      <td>https://seeclickfix.com/api/v2/request_types/3018</td>\n",
       "      <td>3018</td>\n",
       "    </tr>\n",
       "    <tr>\n",
       "      <th>7</th>\n",
       "      <td>City of New Haven</td>\n",
       "      <td>Parking Meter</td>\n",
       "      <td>https://seeclickfix.com/api/v2/request_types/372</td>\n",
       "      <td>372</td>\n",
       "    </tr>\n",
       "    <tr>\n",
       "      <th>8</th>\n",
       "      <td>City of New Haven</td>\n",
       "      <td>Parking Violation/Abandoned Auto</td>\n",
       "      <td>https://seeclickfix.com/api/v2/request_types/121</td>\n",
       "      <td>121</td>\n",
       "    </tr>\n",
       "    <tr>\n",
       "      <th>9</th>\n",
       "      <td>City of New Haven</td>\n",
       "      <td>Parks Request</td>\n",
       "      <td>https://seeclickfix.com/api/v2/request_types/126</td>\n",
       "      <td>126</td>\n",
       "    </tr>\n",
       "    <tr>\n",
       "      <th>10</th>\n",
       "      <td>City of New Haven</td>\n",
       "      <td>Policing Issue</td>\n",
       "      <td>https://seeclickfix.com/api/v2/request_types/2626</td>\n",
       "      <td>2626</td>\n",
       "    </tr>\n",
       "    <tr>\n",
       "      <th>11</th>\n",
       "      <td>City of New Haven</td>\n",
       "      <td>Potholes</td>\n",
       "      <td>https://seeclickfix.com/api/v2/request_types/116</td>\n",
       "      <td>116</td>\n",
       "    </tr>\n",
       "    <tr>\n",
       "      <th>12</th>\n",
       "      <td>City of New Haven</td>\n",
       "      <td>Public Space, Streets and Drains</td>\n",
       "      <td>https://seeclickfix.com/api/v2/request_types/1249</td>\n",
       "      <td>1249</td>\n",
       "    </tr>\n",
       "    <tr>\n",
       "      <th>13</th>\n",
       "      <td>City of New Haven</td>\n",
       "      <td>Private Property Issue</td>\n",
       "      <td>https://seeclickfix.com/api/v2/request_types/1251</td>\n",
       "      <td>1251</td>\n",
       "    </tr>\n",
       "    <tr>\n",
       "      <th>14</th>\n",
       "      <td>City of New Haven</td>\n",
       "      <td>Sidewalks and Curb damage</td>\n",
       "      <td>https://seeclickfix.com/api/v2/request_types/117</td>\n",
       "      <td>117</td>\n",
       "    </tr>\n",
       "    <tr>\n",
       "      <th>15</th>\n",
       "      <td>City of New Haven</td>\n",
       "      <td>Signs / Bus Shelters / Pavement Markings</td>\n",
       "      <td>https://seeclickfix.com/api/v2/request_types/373</td>\n",
       "      <td>373</td>\n",
       "    </tr>\n",
       "    <tr>\n",
       "      <th>16</th>\n",
       "      <td>City of New Haven</td>\n",
       "      <td>Street Lamp</td>\n",
       "      <td>https://seeclickfix.com/api/v2/request_types/124</td>\n",
       "      <td>124</td>\n",
       "    </tr>\n",
       "    <tr>\n",
       "      <th>17</th>\n",
       "      <td>City of New Haven</td>\n",
       "      <td>Street Sweeping</td>\n",
       "      <td>https://seeclickfix.com/api/v2/request_types/5251</td>\n",
       "      <td>5251</td>\n",
       "    </tr>\n",
       "    <tr>\n",
       "      <th>18</th>\n",
       "      <td>City of New Haven</td>\n",
       "      <td>Traffic/Road Safety</td>\n",
       "      <td>https://seeclickfix.com/api/v2/request_types/2625</td>\n",
       "      <td>2625</td>\n",
       "    </tr>\n",
       "    <tr>\n",
       "      <th>19</th>\n",
       "      <td>City of New Haven</td>\n",
       "      <td>Traffic Signal / Pedestrian Signal</td>\n",
       "      <td>https://seeclickfix.com/api/v2/request_types/51</td>\n",
       "      <td>51</td>\n",
       "    </tr>\n",
       "    <tr>\n",
       "      <th>20</th>\n",
       "      <td>City of New Haven</td>\n",
       "      <td>Trash &amp; Recycling</td>\n",
       "      <td>https://seeclickfix.com/api/v2/request_types/1966</td>\n",
       "      <td>1966</td>\n",
       "    </tr>\n",
       "    <tr>\n",
       "      <th>21</th>\n",
       "      <td>City of New Haven</td>\n",
       "      <td>Tree Trimming</td>\n",
       "      <td>https://seeclickfix.com/api/v2/request_types/1853</td>\n",
       "      <td>1853</td>\n",
       "    </tr>\n",
       "  </tbody>\n",
       "</table>\n",
       "</div>"
      ],
      "text/plain": [
       "         organization                                     title  \\\n",
       "0   City of New Haven                Bins for Trash & Recycling   \n",
       "1   City of New Haven                                  Graffiti   \n",
       "2   City of New Haven                                   Hangers   \n",
       "3   City of New Haven                         Health Complaints   \n",
       "4   City of New Haven                           Illegal Dumping   \n",
       "5   City of New Haven                                     Other   \n",
       "6   City of New Haven               Other - city responsibility   \n",
       "7   City of New Haven                             Parking Meter   \n",
       "8   City of New Haven          Parking Violation/Abandoned Auto   \n",
       "9   City of New Haven                             Parks Request   \n",
       "10  City of New Haven                            Policing Issue   \n",
       "11  City of New Haven                                  Potholes   \n",
       "12  City of New Haven          Public Space, Streets and Drains   \n",
       "13  City of New Haven                    Private Property Issue   \n",
       "14  City of New Haven                 Sidewalks and Curb damage   \n",
       "15  City of New Haven  Signs / Bus Shelters / Pavement Markings   \n",
       "16  City of New Haven                               Street Lamp   \n",
       "17  City of New Haven                           Street Sweeping   \n",
       "18  City of New Haven                       Traffic/Road Safety   \n",
       "19  City of New Haven        Traffic Signal / Pedestrian Signal   \n",
       "20  City of New Haven                         Trash & Recycling   \n",
       "21  City of New Haven                             Tree Trimming   \n",
       "\n",
       "                                                  url  type  \n",
       "0   https://seeclickfix.com/api/v2/request_types/5743  5743  \n",
       "1    https://seeclickfix.com/api/v2/request_types/122   122  \n",
       "2   https://seeclickfix.com/api/v2/request_types/6215  6215  \n",
       "3   https://seeclickfix.com/api/v2/request_types/5185  5185  \n",
       "4   https://seeclickfix.com/api/v2/request_types/1250  1250  \n",
       "5    https://seeclickfix.com/api/v2/request_types/374   374  \n",
       "6   https://seeclickfix.com/api/v2/request_types/3018  3018  \n",
       "7    https://seeclickfix.com/api/v2/request_types/372   372  \n",
       "8    https://seeclickfix.com/api/v2/request_types/121   121  \n",
       "9    https://seeclickfix.com/api/v2/request_types/126   126  \n",
       "10  https://seeclickfix.com/api/v2/request_types/2626  2626  \n",
       "11   https://seeclickfix.com/api/v2/request_types/116   116  \n",
       "12  https://seeclickfix.com/api/v2/request_types/1249  1249  \n",
       "13  https://seeclickfix.com/api/v2/request_types/1251  1251  \n",
       "14   https://seeclickfix.com/api/v2/request_types/117   117  \n",
       "15   https://seeclickfix.com/api/v2/request_types/373   373  \n",
       "16   https://seeclickfix.com/api/v2/request_types/124   124  \n",
       "17  https://seeclickfix.com/api/v2/request_types/5251  5251  \n",
       "18  https://seeclickfix.com/api/v2/request_types/2625  2625  \n",
       "19    https://seeclickfix.com/api/v2/request_types/51    51  \n",
       "20  https://seeclickfix.com/api/v2/request_types/1966  1966  \n",
       "21  https://seeclickfix.com/api/v2/request_types/1853  1853  "
      ]
     },
     "execution_count": 39,
     "metadata": {},
     "output_type": "execute_result"
    }
   ],
   "source": [
    "scf_df_cat[scf_df_cat['organization'] == 'City of New Haven']"
   ]
  },
  {
   "cell_type": "markdown",
   "metadata": {},
   "source": [
    "read in the issue data from file (to speed things up)"
   ]
  },
  {
   "cell_type": "code",
   "execution_count": 7,
   "metadata": {
    "collapsed": false
   },
   "outputs": [
    {
     "name": "stdout",
     "output_type": "stream",
     "text": [
      "Category: Bins for Trash & Recycling, id: 5743, readfile: False\n",
      "now reading from url...\n",
      "Category: Graffiti, id: 122, readfile: False\n",
      "now reading from url...\n",
      "Category: Hangers, id: 6215, readfile: False\n",
      "now reading from url...\n",
      "Category: Health Complaints, id: 5185, readfile: False\n",
      "now reading from url...\n",
      "Category: Illegal Dumping, id: 1250, readfile: False\n",
      "now reading from url...\n",
      "Category: Other, id: 374, readfile: False\n",
      "now reading from url...\n",
      "Category: Other - city responsibility, id: 3018, readfile: False\n",
      "now reading from url...\n",
      "Category: Parking Meter, id: 372, readfile: False\n",
      "now reading from url...\n",
      "Category: Parking Violation/Abandoned Auto, id: 121, readfile: False\n",
      "now reading from url...\n",
      "Category: Parks Request, id: 126, readfile: False\n",
      "now reading from url...\n",
      "Category: Policing Issue, id: 2626, readfile: False\n",
      "now reading from url...\n",
      "Category: Potholes, id: 116, readfile: False\n",
      "now reading from url...\n",
      "Category: Public Space, Streets and Drains, id: 1249, readfile: False\n",
      "now reading from url...\n",
      "Category: Private Property Issue, id: 1251, readfile: False\n",
      "now reading from url...\n",
      "Category: Sidewalks and Curb damage, id: 117, readfile: False\n",
      "now reading from url...\n",
      "Category: Signs / Bus Shelters / Pavement Markings, id: 373, readfile: False\n",
      "now reading from url...\n",
      "Category: Street Lamp, id: 124, readfile: False\n",
      "now reading from url...\n",
      "Category: Street Sweeping, id: 5251, readfile: False\n",
      "now reading from url...\n",
      "Category: Traffic/Road Safety, id: 2625, readfile: False\n",
      "now reading from url...\n",
      "Category: Traffic Signal / Pedestrian Signal, id: 51, readfile: False\n",
      "now reading from url...\n",
      "Category: Trash & Recycling, id: 1966, readfile: False\n",
      "now reading from url...\n",
      "Category: Tree Trimming, id: 1853, readfile: False\n",
      "now reading from url...\n",
      "Category: Request for volunteers, id: 5998, readfile: False\n",
      "now reading from url...\n",
      "Category: General Bus Request/Incident, id: 4947, readfile: False\n",
      "now reading from url...\n",
      "Category: Post to Neighbors, id: other, readfile: False\n",
      "now reading from url...\n"
     ]
    }
   ],
   "source": [
    "readfile=False\n",
    "writejson=False\n",
    "scf_df = ri.get_issues(readfile=readfile, writejson=writejson)"
   ]
  },
  {
   "cell_type": "markdown",
   "metadata": {},
   "source": [
    "now determine the neighborhoods for each issue using the get_neighborhoods routine:"
   ]
  },
  {
   "cell_type": "code",
   "execution_count": 8,
   "metadata": {
    "collapsed": false
   },
   "outputs": [
    {
     "name": "stdout",
     "output_type": "stream",
     "text": [
      "Category: Bins for Trash & Recycling, id: 5743, readfile: False\n",
      "now reading from url...\n",
      "Category: Graffiti, id: 122, readfile: False\n",
      "now reading from url...\n",
      "Category: Hangers, id: 6215, readfile: False\n",
      "now reading from url...\n",
      "Category: Health Complaints, id: 5185, readfile: False\n",
      "now reading from url...\n",
      "Category: Illegal Dumping, id: 1250, readfile: False\n",
      "now reading from url...\n",
      "Category: Other, id: 374, readfile: False\n",
      "now reading from url...\n",
      "Category: Other - city responsibility, id: 3018, readfile: False\n",
      "now reading from url...\n",
      "Category: Parking Meter, id: 372, readfile: False\n",
      "now reading from url...\n",
      "Category: Parking Violation/Abandoned Auto, id: 121, readfile: False\n",
      "now reading from url...\n",
      "Category: Parks Request, id: 126, readfile: False\n",
      "now reading from url...\n",
      "Category: Policing Issue, id: 2626, readfile: False\n",
      "now reading from url...\n",
      "Category: Potholes, id: 116, readfile: False\n",
      "now reading from url...\n",
      "Category: Public Space, Streets and Drains, id: 1249, readfile: False\n",
      "now reading from url...\n",
      "Category: Private Property Issue, id: 1251, readfile: False\n",
      "now reading from url...\n",
      "Category: Sidewalks and Curb damage, id: 117, readfile: False\n",
      "now reading from url...\n",
      "Category: Signs / Bus Shelters / Pavement Markings, id: 373, readfile: False\n",
      "now reading from url...\n",
      "Category: Street Lamp, id: 124, readfile: False\n",
      "now reading from url...\n",
      "Category: Street Sweeping, id: 5251, readfile: False\n",
      "now reading from url...\n",
      "Category: Traffic/Road Safety, id: 2625, readfile: False\n",
      "now reading from url...\n",
      "Category: Traffic Signal / Pedestrian Signal, id: 51, readfile: False\n",
      "now reading from url...\n",
      "Category: Trash & Recycling, id: 1966, readfile: False\n",
      "now reading from url...\n",
      "Category: Tree Trimming, id: 1853, readfile: False\n",
      "now reading from url...\n",
      "Category: Request for volunteers, id: 5998, readfile: False\n",
      "now reading from url...\n",
      "Category: General Bus Request/Incident, id: 4947, readfile: False\n",
      "now reading from url...\n",
      "Category: Post to Neighbors, id: other, readfile: False\n",
      "now reading from url...\n"
     ]
    }
   ],
   "source": [
    "hoods = get_ngbrhd.get_neighborhoods()"
   ]
  },
  {
   "cell_type": "markdown",
   "metadata": {},
   "source": [
    "now add the neighborhoods to the DataFrame:"
   ]
  },
  {
   "cell_type": "code",
   "execution_count": 9,
   "metadata": {
    "collapsed": true
   },
   "outputs": [],
   "source": [
    "scf_df['neighborhood'] = hoods"
   ]
  },
  {
   "cell_type": "markdown",
   "metadata": {
    "collapsed": true
   },
   "source": [
    "### Statistics to calculate:"
   ]
  },
  {
   "cell_type": "markdown",
   "metadata": {},
   "source": [
    "There are a few things that it would be nice to calculate. Namely, \n",
    "\n",
    "- The time to acknowledgement\n",
    "- The time to completion\n",
    "- Acknowledgement Improvement\n",
    "- Completion Improvement"
   ]
  },
  {
   "cell_type": "markdown",
   "metadata": {},
   "source": [
    "### Computing the Time to Acknowledgement"
   ]
  },
  {
   "cell_type": "code",
   "execution_count": 10,
   "metadata": {
    "collapsed": false
   },
   "outputs": [
    {
     "data": {
      "text/plain": [
       "Index([u'acknowledged_at', u'address', u'category', u'closed_at', u'created_at', u'description', u'id', u'issue_id', u'lat', u'lng', u'reporter_id', u'reporter_name', u'reporter_role', u'shortened_url', u'status', u'summary', u'updated_at', u'int_issue_id', u'neighborhood'], dtype='object')"
      ]
     },
     "execution_count": 10,
     "metadata": {},
     "output_type": "execute_result"
    }
   ],
   "source": [
    "scf_df.columns"
   ]
  },
  {
   "cell_type": "code",
   "execution_count": 18,
   "metadata": {
    "collapsed": false
   },
   "outputs": [
    {
     "data": {
      "text/plain": [
       "0    2015-04-12T14:58:29-04:00\n",
       "1    2015-03-27T15:57:26-04:00\n",
       "Name: created_at, dtype: object"
      ]
     },
     "execution_count": 18,
     "metadata": {},
     "output_type": "execute_result"
    }
   ],
   "source": [
    "scf_df.loc[0:1, 'created_at']"
   ]
  },
  {
   "cell_type": "code",
   "execution_count": 15,
   "metadata": {
    "collapsed": false
   },
   "outputs": [
    {
     "data": {
      "text/plain": [
       "Timestamp('2015-04-12 18:58:29')"
      ]
     },
     "execution_count": 15,
     "metadata": {},
     "output_type": "execute_result"
    }
   ],
   "source": [
    "pd.to_datetime(scf_df.loc[0, 'created_at'])"
   ]
  },
  {
   "cell_type": "code",
   "execution_count": 29,
   "metadata": {
    "collapsed": false
   },
   "outputs": [],
   "source": [
    "scf_df['time_to_acknowledge'] = (pd.to_datetime(scf_df['acknowledged_at']) - pd.to_datetime(scf_df['created_at']))/pd.Timedelta('1d')"
   ]
  },
  {
   "cell_type": "code",
   "execution_count": 33,
   "metadata": {
    "collapsed": false
   },
   "outputs": [],
   "source": [
    "scf_df['time_to_close'] = (pd.to_datetime(scf_df['closed_at']) - pd.to_datetime(scf_df['created_at']))/pd.Timedelta('1d')"
   ]
  },
  {
   "cell_type": "code",
   "execution_count": 32,
   "metadata": {
    "collapsed": false
   },
   "outputs": [
    {
     "data": {
      "text/plain": [
       "0         NaN\n",
       "1    2.705278\n",
       "Name: time_to_acknowledge, dtype: float64"
      ]
     },
     "execution_count": 32,
     "metadata": {},
     "output_type": "execute_result"
    }
   ],
   "source": [
    "scf_df.loc[0:1, 'time_to_acknowledge']"
   ]
  },
  {
   "cell_type": "code",
   "execution_count": 35,
   "metadata": {
    "collapsed": false
   },
   "outputs": [
    {
     "data": {
      "text/plain": [
       "63.65517361111111"
      ]
     },
     "execution_count": 35,
     "metadata": {},
     "output_type": "execute_result"
    }
   ],
   "source": [
    "np.median(scf_df['time_to_acknowledge'].values)"
   ]
  },
  {
   "cell_type": "code",
   "execution_count": 36,
   "metadata": {
    "collapsed": false
   },
   "outputs": [
    {
     "data": {
      "text/plain": [
       "nan"
      ]
     },
     "execution_count": 36,
     "metadata": {},
     "output_type": "execute_result"
    }
   ],
   "source": [
    "np.median(scf_df['time_to_close'].values)"
   ]
  },
  {
   "cell_type": "code",
   "execution_count": null,
   "metadata": {
    "collapsed": true
   },
   "outputs": [],
   "source": []
  }
 ],
 "metadata": {
  "kernelspec": {
   "display_name": "Python 2",
   "language": "python",
   "name": "python2"
  },
  "language_info": {
   "codemirror_mode": {
    "name": "ipython",
    "version": 2
   },
   "file_extension": ".py",
   "mimetype": "text/x-python",
   "name": "python",
   "nbconvert_exporter": "python",
   "pygments_lexer": "ipython2",
   "version": "2.7.9"
  }
 },
 "nbformat": 4,
 "nbformat_minor": 0
}
